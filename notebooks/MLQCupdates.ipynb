{
 "cells": [
  {
   "cell_type": "markdown",
   "metadata": {},
   "source": [
    "# MLQC Updates & Progress\n",
    "\n",
    "---"
   ]
  },
  {
   "cell_type": "markdown",
   "metadata": {},
   "source": [
    "\n",
    "> #### _TODO's:_\n",
    "> \n",
    "> 1. Add NN Architecture Diagram to Method Overview section\n",
    "> 2. General improvements to method overview: conciseness, math, etc\n",
    "> 3. NN Training & Performance Plots\n",
    "> 4. Hindcasting plots\n",
    "> 5. DNS data plots"
   ]
  },
  {
   "cell_type": "markdown",
   "metadata": {},
   "source": [
    "\n",
    "## Method Overview"
   ]
  },
  {
   "cell_type": "markdown",
   "metadata": {},
   "source": [
    "**Baseline**: There will be noise in the data. Most of the time it comes from the observation environment. If we want to know if the data are useful or erroneous, we need to characterize the contribution of the environmental noise and distinguish this from defects like bad readings and sensor failures in a statistically meaningful way.\n",
    "\n",
    "**Steps:**\n",
    "\n",
    "1. _Data:_ Viewed as an entire collection to better utilize relationships.\n",
    "\n",
    "    - Equations of State are used to model how variables are related\n",
    "    - Doesn't require full lat/lon grid, which allows data to be viewed locally\n",
    "    - Handles higher resolutions well since obs don't need to be indexed by lower-res grids\n",
    ">\n",
    "2. _Equations of State (EoS):_ Stochastic Partial Differential Equations (SPDE) + Numerical Solver\n",
    "\n",
    "    - commonly used for both spatial statistics and modeling uncertainty in dynamic relationships\n",
    "    - natural framework for uncertainty quantification (UQ), probability, and correlation analyses\n",
    "    - How much fluctuation is in the signal? How much of that has to do with what we expect things to look like?\n",
    ">\n",
    "3. _NN:_ quickly perform analyses by replicating EoS relationships \n",
    "\n",
    "    - Model A: Neural SPDE, Operators, etc can replicate equation solutions\n",
    "    - Model B: Expected noise evolution can check the model is fitting the correct system\n",
    "    - Model A+B (GAN): train a generative model that compares proposed solutions and their statistics to known statistics\n",
    ">\n",
    "4. _Application:_ QC\n",
    "\n",
    "    - given a dataset, quantify cross-correlations + uncertainty between variables\n",
    "        - other quantities: continuity, rate-of-change, large deviation (\"spikiness\")\n",
    "    - given a threshold/tolerance, rank values by analyzed quantity metrics"
   ]
  },
  {
   "cell_type": "markdown",
   "metadata": {},
   "source": [
    "### NN"
   ]
  },
  {
   "cell_type": "markdown",
   "metadata": {},
   "source": [
    "#### Steps to Formulating a NN to \"Solve\" the SPDE System\n",
    "\n",
    "1. Specify system including GAN metric\n",
    ">\n",
    "2. Direct Numerical Solve (DNS) of system for initial training\n",
    "    - _Need to know NN actually works_\n",
    ">\n",
    "3. Train one sub-net per equation on DNS data\n",
    ">\n",
    "4. Integrate sub-nets into larger model by training FNN layer on simultaneous outputs\n",
    ">\n",
    "5. Test on SD data, tune as needed\n",
    "    - _this needs to be done carefully to avoid bias (see below)_"
   ]
  },
  {
   "cell_type": "markdown",
   "metadata": {},
   "source": [
    "#### Avoiding Bias\n",
    "\n",
    "When performing these kinds of statistical analyses, it's useful to distinguish the difference between bias and correctly estimating the joint distribution over the quantities of interest. A \"correct\" model will adapt to changing values/statistics irrespective of input data. This could still mean that it underperforms on certain behaviors like larger-than-expected fluctuations (e.g. caused by weather events). A biased model is accurate on only a subset of data. \n",
    "\n",
    ">***Example:***\n",
    ">\n",
    "> Suppose the NN generally performs better on TPOS mission data than hurricane monitoring data. Then, we would say it is biased towards the TPOS values (conv. away from hurricane values). On the other hand, if the model performs similarly between the two with the exception that it is unreliable for measurements taken during a hurricane, then we have a model that doesn't handle extreme weather very well but otherwise manages to generalize to other regions of the ocean. This is an example of the model performance being more fragile than we'd like, which can be addressed in a relatively straightforward way (_see below_).\n",
    "\n",
    "**DOs**: \n",
    "\n",
    "- check related quantities are correlated \n",
    "- verify noise distribution is similar to DNS training data\n",
    "- no overfitting between points (ie - out of sample comparisons)\n",
    ">\n",
    "\n",
    "**DONTs**: \n",
    "\n",
    "- tune using only SD data that didn't perform well\n",
    "- limit model validation by performance on individual datasets or specific subsets of interest\n",
    "- **VALIDATE ON TRAINING DATA!!!**\n",
    "\n",
    "#### Generalizability & Accounting for Unseen Observation Conditions\n",
    "\n",
    "The poor performance in the example above can be accounted for by including hurricane-like solutions to the EoS in the DNS data creation and then incorporating those results into the train/test datasets. This allows for further validation against conditions where poor-performance was seen without simply re-tuning the model on the out-of-sample data. In-turn, this means the robustness (generalizability) of the model can be assessed for similar cases in future usage.\n",
    ">\n",
    "On top of improved compute time, implementing the EoS in a NN also means that we can easily deploy it across datasets from other oceanographic regions and sensor platforms."
   ]
  },
  {
   "cell_type": "markdown",
   "metadata": {},
   "source": [
    "<!-- TODO: ![NN architecture diagram](nnarch.png) -->"
   ]
  },
  {
   "cell_type": "markdown",
   "metadata": {},
   "source": [
    "### EoS System and USV Sampling"
   ]
  },
  {
   "cell_type": "markdown",
   "metadata": {},
   "source": [
    "To begin testing this method, we choose the Gibbs Seawater Model as our System of Equations. This provides an easy starting point since this model is widely used in the Oceanographic Community to represent the non-equilibrium thermodynamic relationships between Salinity, Temperature, Pressure, Current Velocity, and Seawater Density.\n",
    ">\n",
    "Rather than directly modeling the turbulent dynamics, we think of these quantities as random fields that are primarily influenced by a randomly driven velocity field. This results in a system of SPDE's that co-evolve in space and time, and so each value we observe can be thought of as belonging to a distribution at that time and location. This allows us to evaluate the data we collect at the resolution native to it, rather than relying on exogenous datasets that may not be directly comparable. Furthermore, we can now compute the joint distribution of several observation variables. Together, these allow us to view fluctuations in the data in terms of their physical likelihood, which means that a successful model should be agnostic to variations encountered while a USV is underway.\n",
    ">\n",
    "Importantly, we simulate the system at a higher resolution than the sampling data. In the case of USV's, the ocean is evolving underneath the platform while it's in motion. A higher resolution means that we have sufficient resolution to represent the distribution of a variable sampled at that location."
   ]
  },
  {
   "cell_type": "markdown",
   "metadata": {},
   "source": [
    "### DNS\n",
    "\n",
    "To ensure the NN learns to solve the system of equations we specify, we begin by training it on DNS data of that system. We also formulate a physics-based loss function that penalizes the NN predictions by comparing against the equation governing the evolution of the multi-dimenstional probability distribution that can be directly derived from this system. This allows us to always interpret the NN predictions in terms of physics, but it also means that the NN absolutely needs to function as intended.\n",
    ">\n",
    "The DNS solver is a straightforward spectral Galerkin solver. To avoid bias, we initially generate our numerical training data randomly by sampling it from an irregular, spatially correlated (i.e. anisotropic) distribution over the solver grid. The training set is made by slicing this grid into subsets, which prevents the model learning the boundary conditions of the solver - which don't appear in real data.\n",
    ">\n",
    "If we have captured the system correctly, we should expect to see similar features and behaviors to real data such as time evolution of the statistical moments."
   ]
  },
  {
   "cell_type": "markdown",
   "metadata": {},
   "source": [
    "![Numerical Data Generation](../pics/fieldsim.png)"
   ]
  },
  {
   "cell_type": "markdown",
   "metadata": {},
   "source": [
    "## Timeline\n",
    "\n",
    "1. **Sub-Model Development & Training** \n",
    "- STATUS: $\\checkmark$\n",
    ">\n",
    "2. **Whole model Development & Training** \n",
    "- STATUS: $\\checkmark$\n",
    ">\n",
    "3. **Model evaluation** (*theoretical consistency*) \n",
    "- STATUS: $\\checkmark$\n",
    ">\n",
    "4. **Model evaluation** (*application:* Saildrone QC) \n",
    "- STATUS: $\\checkmark$\n",
    ">\n",
    "5. **Model evaluation** (*application:* Data hindcast) \n",
    "- STATUS: **in progress**\n",
    ">\n",
    "6. **Test case** (*application:* IOOS glider ERDDAP datasets) \n",
    "- STATUS: **upcoming**\n",
    ">\n",
    "7. **Test case** (*application:* profiler data - Paige Lavin) \n",
    "- STATUS: **upcoming**\n",
    ">\n",
    "8. **Test case** (*application:* remote sensing data - Paige Lavin) \n",
    "- STATUS: **upcoming**\n",
    ">\n",
    "9. **Project evaluation** \n",
    "- STATUS: TBD\n",
    ">"
   ]
  },
  {
   "cell_type": "markdown",
   "metadata": {},
   "source": [
    "### Known Saildrone Data Issues\n",
    "\n",
    "| ISSUE                         | Mission year   | Drone | time period                                                     |  \n",
    "|-------------------------------|:--------------:|-------|-----------------------------------------------------------------|\n",
    "| Spuriously low salinity       | Arctic 2019    |  1037 | Intermittent May 15-23, especially 23rd                         |\n",
    "| jump/drift in salinity and O2 | Arctic 2019    |  1041 | ~5/29 0500 UTC                                                  |\n",
    "| salinity drift                | Arctic 2019    |  1037 | starting 6/7 0300 UTC                                           |\n",
    "| funky salinity/O2             | Arctic 2019    |  1035 | starting around 7/12 2345 UTC                                   |\n",
    "| salinity                      | Arctic 2019    |  1034 | ~7/13 0000 UTC                                                  |\n",
    "| RH pegged near 100%           | Arctic 2019    |  1037 | from Jun '19 through rest of mission                            |\n",
    "| wind dir & speed              | Hurricane 2022 |  1032 | 8/4-8/13 had wind sensor issues that caused vehicle recall      |\n",
    "| AT/RH & SBE37 bad             | Hurricane 2022 |  1078 | clearly spurious measurements after sensors turned back on 8/13 |"
   ]
  },
  {
   "cell_type": "markdown",
   "metadata": {},
   "source": [
    "## Progress"
   ]
  },
  {
   "cell_type": "markdown",
   "metadata": {},
   "source": [
    "We apply the QARTOD flagging schema to unseen Saildrone data and assign those flags to observations based on the spatially & temporally evolving joint distribution generated by the model for the set observations and variables. \n",
    ">\n",
    "In the case below, the NN computes the joint distribution between salinity and temperature in the presence of noisy fluid motion coupled to an environment.\n",
    ">\n",
    "The data are then flagged based on a set of tolerance parameters representing degrees of deviation from the expected range, or, where in the predicted distribution the data lie."
   ]
  },
  {
   "cell_type": "markdown",
   "metadata": {},
   "source": [
    "#### QARTOD Primary Flags\n",
    "\n",
    "| FLAG       | Value |\n",
    "|------------|:-----:|\n",
    "| GOOD       |   1   |\n",
    "| UNKNOWN    |   2   |\n",
    "| SUSPECT    |   3   |\n",
    "| FAIL       |   4   |\n",
    "| MISSING    |   9   |"
   ]
  },
  {
   "cell_type": "markdown",
   "metadata": {},
   "source": [
    "### Testing Flag Results"
   ]
  },
  {
   "cell_type": "code",
   "execution_count": null,
   "metadata": {},
   "outputs": [],
   "source": [
    "# !pip install pandas plotly"
   ]
  },
  {
   "cell_type": "code",
   "execution_count": 1,
   "metadata": {},
   "outputs": [],
   "source": [
    "import pandas as pd\n",
    "import plotly.express as px\n",
    "\n",
    "import sys\n",
    "mlqcdir = '..'"
   ]
  },
  {
   "cell_type": "code",
   "execution_count": 2,
   "metadata": {},
   "outputs": [],
   "source": [
    "hi1090qc = pd.read_csv(f'{mlqcdir}/data/sd1090_hi23_STqc_dist_test_flags.csv')"
   ]
  },
  {
   "cell_type": "markdown",
   "metadata": {},
   "source": [
    "As a sanity check, let's see what happens to the flags in SST as we vary the tolerance parameters...\n",
    "\n",
    "| Test       | Parameters      | Description                             |\n",
    "|------------|:---------------:|-----------------------------------------|\n",
    "| Test 1     | [1.0, 2.0, 3.0] | Regular intervals between flags         |\n",
    "| Test 2     | [2.0, 4.0, 6.0] | Larger, regular intervals between flags |\n",
    "| Test 3     | [1.5, 2.5, 4.0] | Skewed intervals between flags          |\n",
    "| Test 4     | [1.0, 2.0, 3.0] | Test 1 on normalized data               |\n",
    "| Test 5     | [2.0, 4.0, 6.0] | Test 2 on normalized data               |\n",
    "| Test 6     | [1.5, 2.5, 4.0] | Test 3 on normalized data               |\n"
   ]
  },
  {
   "cell_type": "markdown",
   "metadata": {},
   "source": [
    "#### Test 1 - Temperature"
   ]
  },
  {
   "cell_type": "code",
   "execution_count": 26,
   "metadata": {},
   "outputs": [
    {
     "data": {
      "application/vnd.plotly.v1+json": {
       "config": {
        "plotlyServerURL": "https://plot.ly"
       },
       "data": [
        {
         "hovertemplate": "SST QC Flag: Test 1=GOOD<br>time=%{x}<br>TEMP_SBE37_MEAN=%{y}<extra></extra>",
         "legendgroup": "GOOD",
         "marker": {
          "color": "green",
          "symbol": "circle"
         },
         "mode": "markers",
         "name": "GOOD",
         "orientation": "v",
         "showlegend": true,
         "type": "scatter",
         "x": [
          "2023-04-16 00:01:00",
          "2023-04-16 00:05:00",
          "2023-04-16 00:10:00",
          "2023-04-16 00:11:00",
          "2023-04-16 00:15:00",
          "2023-04-16 00:20:00",
          "2023-04-16 00:21:00",
          "2023-04-16 00:25:00",
          "2023-04-16 00:30:00",
          "2023-04-16 00:31:00",
          "2023-04-16 00:35:00",
          "2023-04-16 00:40:00",
          "2023-04-16 00:41:00",
          "2023-04-16 00:45:00",
          "2023-04-16 00:50:00",
          "2023-04-16 00:51:00",
          "2023-04-16 00:55:00",
          "2023-04-16 01:00:00",
          "2023-04-16 01:01:00",
          "2023-04-16 01:05:00",
          "2023-04-16 01:10:00",
          "2023-04-16 01:25:00",
          "2023-04-16 01:30:00",
          "2023-04-16 01:31:00",
          "2023-04-16 01:35:00",
          "2023-04-16 01:40:00",
          "2023-04-16 01:41:00",
          "2023-04-16 01:45:00",
          "2023-04-16 01:50:00",
          "2023-04-16 01:51:00",
          "2023-04-16 01:55:00",
          "2023-04-16 02:00:00",
          "2023-04-16 02:01:00",
          "2023-04-16 02:05:00",
          "2023-04-16 02:10:00",
          "2023-04-16 02:11:00",
          "2023-04-16 02:15:00",
          "2023-04-16 02:20:00",
          "2023-04-16 02:21:00",
          "2023-04-16 02:25:00",
          "2023-04-16 02:30:00",
          "2023-04-16 02:31:00",
          "2023-04-16 02:35:00",
          "2023-04-16 02:40:00",
          "2023-04-16 02:41:00",
          "2023-04-16 02:45:00",
          "2023-04-16 02:50:00",
          "2023-04-16 02:51:00",
          "2023-04-16 02:55:00",
          "2023-04-16 03:00:00",
          "2023-04-16 03:01:00",
          "2023-04-16 03:05:00",
          "2023-04-16 03:10:00",
          "2023-04-16 03:11:00",
          "2023-04-16 03:15:00",
          "2023-04-16 03:20:00",
          "2023-04-16 03:21:00",
          "2023-04-16 03:25:00",
          "2023-04-16 03:30:00",
          "2023-04-16 03:31:00",
          "2023-04-16 03:35:00",
          "2023-04-16 03:40:00",
          "2023-04-16 03:41:00",
          "2023-04-16 03:45:00",
          "2023-04-16 03:50:00",
          "2023-04-16 03:51:00",
          "2023-04-16 03:55:00",
          "2023-04-16 04:00:00",
          "2023-04-16 04:01:00",
          "2023-04-16 04:05:00",
          "2023-04-16 04:10:00",
          "2023-04-16 04:11:00",
          "2023-04-16 04:15:00",
          "2023-04-16 04:20:00",
          "2023-04-16 04:21:00",
          "2023-04-16 04:25:00",
          "2023-04-16 04:30:00",
          "2023-04-16 04:31:00",
          "2023-04-16 04:35:00",
          "2023-04-16 04:40:00",
          "2023-04-16 04:41:00",
          "2023-04-16 04:45:00",
          "2023-04-16 04:50:00",
          "2023-04-16 04:51:00",
          "2023-04-16 04:55:00",
          "2023-04-16 05:21:00",
          "2023-04-16 05:25:00",
          "2023-04-16 05:30:00",
          "2023-04-16 05:40:00",
          "2023-04-16 05:41:00",
          "2023-04-16 05:45:00",
          "2023-04-16 05:50:00",
          "2023-04-16 05:51:00",
          "2023-04-16 05:55:00",
          "2023-04-16 06:00:00",
          "2023-04-16 06:01:00",
          "2023-04-16 06:05:00",
          "2023-04-16 06:10:00",
          "2023-04-16 06:11:00",
          "2023-04-16 06:15:00",
          "2023-04-16 06:20:00",
          "2023-04-16 06:21:00",
          "2023-04-16 06:25:00",
          "2023-04-16 06:30:00",
          "2023-04-16 06:31:00",
          "2023-04-16 06:35:00",
          "2023-04-16 06:40:00",
          "2023-04-16 06:41:00",
          "2023-04-16 06:45:00",
          "2023-04-16 06:50:00",
          "2023-04-16 06:51:00",
          "2023-04-16 06:55:00",
          "2023-04-16 07:00:00",
          "2023-04-16 07:05:00",
          "2023-04-16 07:10:00",
          "2023-04-16 07:11:00",
          "2023-04-16 07:15:00",
          "2023-04-16 07:20:00",
          "2023-04-16 07:21:00",
          "2023-04-16 07:25:00",
          "2023-04-16 07:30:00",
          "2023-04-16 07:45:00",
          "2023-04-16 07:50:00",
          "2023-04-16 07:51:00",
          "2023-04-16 07:55:00",
          "2023-04-16 08:00:00",
          "2023-04-16 08:01:00",
          "2023-04-16 08:05:00",
          "2023-04-16 08:10:00",
          "2023-04-16 08:11:00",
          "2023-04-16 08:15:00",
          "2023-04-16 08:20:00",
          "2023-04-16 08:21:00",
          "2023-04-16 08:25:00",
          "2023-04-16 08:30:00",
          "2023-04-16 08:31:00",
          "2023-04-16 08:35:00",
          "2023-04-16 08:40:00",
          "2023-04-16 09:00:00",
          "2023-04-16 09:01:00",
          "2023-04-16 09:05:00",
          "2023-04-16 09:10:00",
          "2023-04-16 09:11:00",
          "2023-04-16 09:15:00",
          "2023-04-16 09:20:00",
          "2023-04-16 09:21:00",
          "2023-04-16 09:25:00",
          "2023-04-16 09:30:00",
          "2023-04-16 09:31:00",
          "2023-04-16 09:35:00",
          "2023-04-16 09:40:00",
          "2023-04-16 09:41:00",
          "2023-04-16 09:45:00",
          "2023-04-16 09:50:00",
          "2023-04-16 09:51:00",
          "2023-04-16 09:55:00",
          "2023-04-16 10:00:00",
          "2023-04-16 10:01:00",
          "2023-04-16 10:05:00",
          "2023-04-16 10:10:00",
          "2023-04-16 10:11:00",
          "2023-04-16 10:15:00",
          "2023-04-16 10:20:00",
          "2023-04-16 10:21:00",
          "2023-04-16 10:25:00",
          "2023-04-16 10:30:00",
          "2023-04-16 10:31:00",
          "2023-04-16 10:35:00",
          "2023-04-16 10:40:00",
          "2023-04-16 10:41:00",
          "2023-04-16 10:45:00",
          "2023-04-16 10:50:00",
          "2023-04-16 11:00:00",
          "2023-04-16 11:05:00",
          "2023-04-16 11:10:00",
          "2023-04-16 11:11:00",
          "2023-04-16 11:15:00",
          "2023-04-16 11:20:00",
          "2023-04-16 11:21:00",
          "2023-04-16 11:25:00",
          "2023-04-16 11:30:00",
          "2023-04-16 11:31:00",
          "2023-04-16 11:35:00",
          "2023-04-16 11:40:00",
          "2023-04-16 11:41:00",
          "2023-04-16 11:45:00",
          "2023-04-16 11:50:00",
          "2023-04-16 11:51:00",
          "2023-04-16 11:55:00",
          "2023-04-16 12:00:00",
          "2023-04-16 12:01:00",
          "2023-04-16 12:05:00",
          "2023-04-16 12:10:00",
          "2023-04-16 12:11:00",
          "2023-04-16 12:15:00",
          "2023-04-16 12:20:00",
          "2023-04-16 12:21:00",
          "2023-04-16 12:25:00",
          "2023-04-16 12:30:00",
          "2023-04-16 12:31:00",
          "2023-04-16 12:35:00",
          "2023-04-16 12:40:00",
          "2023-04-16 12:41:00",
          "2023-04-16 12:45:00",
          "2023-04-16 12:50:00",
          "2023-04-16 12:51:00",
          "2023-04-16 12:55:00",
          "2023-04-16 13:00:00",
          "2023-04-16 13:01:00",
          "2023-04-16 13:05:00",
          "2023-04-16 13:15:00",
          "2023-04-16 13:20:00",
          "2023-04-16 13:21:00",
          "2023-04-16 13:25:00",
          "2023-04-16 13:30:00",
          "2023-04-16 13:31:00",
          "2023-04-16 13:35:00",
          "2023-04-16 13:40:00",
          "2023-04-16 13:41:00",
          "2023-04-16 13:45:00",
          "2023-04-16 13:50:00",
          "2023-04-16 13:51:00",
          "2023-04-16 13:55:00",
          "2023-04-16 14:00:00",
          "2023-04-16 14:01:00",
          "2023-04-16 14:05:00",
          "2023-04-16 14:10:00",
          "2023-04-16 14:11:00",
          "2023-04-16 14:15:00",
          "2023-04-16 14:20:00",
          "2023-04-16 14:21:00",
          "2023-04-16 14:25:00",
          "2023-04-16 14:30:00",
          "2023-04-16 14:31:00",
          "2023-04-16 14:35:00",
          "2023-04-16 14:40:00",
          "2023-04-16 14:41:00",
          "2023-04-16 14:45:00",
          "2023-04-16 14:50:00",
          "2023-04-16 14:51:00",
          "2023-04-16 14:55:00",
          "2023-04-16 15:00:00",
          "2023-04-16 15:01:00",
          "2023-04-16 15:05:00",
          "2023-04-16 15:10:00",
          "2023-04-16 15:11:00",
          "2023-04-16 15:15:00",
          "2023-04-16 15:20:00",
          "2023-04-16 15:21:00",
          "2023-04-16 15:25:00",
          "2023-04-16 15:30:00",
          "2023-04-16 15:31:00",
          "2023-04-16 15:35:00",
          "2023-04-16 15:40:00",
          "2023-04-16 15:41:00",
          "2023-04-16 15:45:00",
          "2023-04-16 15:50:00",
          "2023-04-16 15:51:00",
          "2023-04-16 15:55:00",
          "2023-04-16 16:00:00",
          "2023-04-16 16:01:00",
          "2023-04-16 16:05:00",
          "2023-04-16 16:10:00",
          "2023-04-16 16:11:00",
          "2023-04-16 16:15:00",
          "2023-04-16 16:20:00",
          "2023-04-16 16:21:00",
          "2023-04-16 16:35:00",
          "2023-04-16 16:40:00",
          "2023-04-16 16:41:00",
          "2023-04-16 16:45:00",
          "2023-04-16 16:51:00",
          "2023-04-16 16:55:00",
          "2023-04-16 17:00:00",
          "2023-04-16 17:01:00",
          "2023-04-16 17:05:00",
          "2023-04-16 17:10:00",
          "2023-04-16 17:11:00",
          "2023-04-16 17:15:00",
          "2023-04-16 17:20:00",
          "2023-04-16 17:21:00",
          "2023-04-16 17:25:00",
          "2023-04-16 17:30:00",
          "2023-04-16 17:31:00",
          "2023-04-16 17:35:00",
          "2023-04-16 17:40:00",
          "2023-04-16 17:41:00",
          "2023-04-16 17:45:00",
          "2023-04-16 17:50:00",
          "2023-04-16 17:51:00",
          "2023-04-16 17:55:00",
          "2023-04-16 18:00:00",
          "2023-04-16 18:01:00",
          "2023-04-16 18:05:00",
          "2023-04-16 18:10:00",
          "2023-04-16 18:11:00",
          "2023-04-16 18:15:00",
          "2023-04-16 18:20:00",
          "2023-04-16 18:21:00",
          "2023-04-16 18:25:00",
          "2023-04-16 18:30:00",
          "2023-04-16 18:31:00",
          "2023-04-16 18:35:00",
          "2023-04-16 18:40:00",
          "2023-04-16 18:41:00",
          "2023-04-16 18:45:00",
          "2023-04-16 18:50:00",
          "2023-04-16 18:51:00",
          "2023-04-16 18:55:00",
          "2023-04-16 19:00:00",
          "2023-04-16 19:01:00",
          "2023-04-16 19:05:00",
          "2023-04-16 19:10:00",
          "2023-04-16 19:11:00",
          "2023-04-16 19:15:00",
          "2023-04-16 19:20:00",
          "2023-04-16 19:21:00",
          "2023-04-16 19:25:00",
          "2023-04-16 19:30:00",
          "2023-04-16 19:31:00",
          "2023-04-16 19:35:00",
          "2023-04-16 19:40:00",
          "2023-04-16 19:41:00",
          "2023-04-16 19:45:00",
          "2023-04-16 19:50:00",
          "2023-04-16 19:51:00",
          "2023-04-16 19:55:00",
          "2023-04-16 20:00:00",
          "2023-04-16 20:01:00",
          "2023-04-16 20:05:00",
          "2023-04-16 20:10:00",
          "2023-04-16 20:11:00",
          "2023-04-16 20:20:00",
          "2023-04-16 20:21:00",
          "2023-04-16 20:35:00",
          "2023-04-16 20:40:00",
          "2023-04-16 20:41:00",
          "2023-04-16 20:45:00",
          "2023-04-16 20:50:00",
          "2023-04-16 20:51:00",
          "2023-04-16 20:55:00",
          "2023-04-16 21:00:00",
          "2023-04-16 21:01:00",
          "2023-04-16 21:05:00",
          "2023-04-16 21:10:00",
          "2023-04-16 21:11:00",
          "2023-04-16 21:15:00",
          "2023-04-16 21:20:00",
          "2023-04-16 21:21:00",
          "2023-04-16 21:25:00",
          "2023-04-16 21:30:00",
          "2023-04-16 21:31:00",
          "2023-04-16 21:35:00",
          "2023-04-16 21:40:00",
          "2023-04-16 21:41:00",
          "2023-04-16 21:45:00",
          "2023-04-16 21:50:00",
          "2023-04-16 21:51:00",
          "2023-04-16 21:55:00",
          "2023-04-16 22:00:00",
          "2023-04-16 22:01:00",
          "2023-04-16 22:10:00",
          "2023-04-16 22:11:00",
          "2023-04-16 22:15:00",
          "2023-04-16 22:20:00"
         ],
         "xaxis": "x",
         "y": [
          25.306,
          25.3116,
          25.3122,
          25.3122,
          25.3009,
          25.3166,
          25.3166,
          25.3151,
          25.3075,
          25.3075,
          25.2848,
          25.2912,
          25.2912,
          25.2722,
          25.2683,
          25.2683,
          25.262,
          25.2579,
          25.2579,
          25.2544,
          25.2579,
          25.2335,
          25.2282,
          25.2282,
          25.2333,
          25.2386,
          25.2386,
          25.2402,
          25.2537,
          25.2537,
          25.2678,
          25.2617,
          25.2617,
          25.2569,
          25.2621,
          25.2621,
          25.2599,
          25.2737,
          25.2737,
          25.2437,
          25.2544,
          25.2544,
          25.2385,
          25.2296,
          25.2296,
          25.2244,
          25.2155,
          25.2155,
          25.2179,
          25.2092,
          25.2092,
          25.202,
          25.2155,
          25.2155,
          25.2142,
          25.221,
          25.221,
          25.2225,
          25.2166,
          25.2166,
          25.2172,
          25.2141,
          25.2141,
          25.2018,
          25.1912,
          25.1912,
          25.1863,
          25.1826,
          25.1826,
          25.1824,
          25.1883,
          25.1883,
          25.1835,
          25.1943,
          25.1943,
          25.1977,
          25.1992,
          25.1992,
          25.1795,
          25.175,
          25.175,
          25.1716,
          25.1641,
          25.1641,
          25.1587,
          25.1597,
          25.1629,
          25.1481,
          25.1476,
          25.1476,
          25.1345,
          25.1389,
          25.1389,
          25.1318,
          25.1273,
          25.1273,
          25.136,
          25.1451,
          25.1451,
          25.1642,
          25.1904,
          25.1904,
          25.1955,
          25.1979,
          25.1979,
          25.1911,
          25.1706,
          25.1706,
          25.1768,
          25.1666,
          25.1666,
          25.159,
          25.1707,
          25.1777,
          25.1767,
          25.1767,
          25.1802,
          25.1569,
          25.1569,
          25.1379,
          25.1201,
          25.0924,
          25.0886,
          25.0886,
          25.0898,
          25.0818,
          25.0818,
          25.0764,
          25.0785,
          25.0785,
          25.0719,
          25.0709,
          25.0709,
          25.06,
          25.0582,
          25.0582,
          25.0648,
          25.085,
          25.065,
          25.065,
          25.0511,
          25.0305,
          25.0305,
          25.0115,
          24.9882,
          24.9882,
          24.9797,
          24.9779,
          24.9779,
          24.9843,
          24.9918,
          24.9918,
          24.9891,
          24.9937,
          24.9937,
          25.0103,
          25.02,
          25.02,
          25.0287,
          25.0308,
          25.0308,
          25.0308,
          25.0234,
          25.0234,
          25.0245,
          25.0316,
          25.0316,
          25.0323,
          25.0279,
          25.0279,
          25.0198,
          25.0153,
          24.9985,
          24.9971,
          24.9984,
          24.9984,
          25.0047,
          25.0081,
          25.0081,
          25.0067,
          25.0124,
          25.0124,
          25.0172,
          25.0182,
          25.0182,
          25.0151,
          25.0168,
          25.0168,
          25.0176,
          25.0187,
          25.0187,
          25.0215,
          25.0219,
          25.0219,
          25.0142,
          25.019,
          25.019,
          25.0198,
          25.0241,
          25.0241,
          25.0216,
          25.0099,
          25.0099,
          25.0178,
          25.002,
          25.002,
          25.0046,
          25.0052,
          25.0052,
          25.0034,
          24.9998,
          24.9986,
          24.9986,
          25.0043,
          24.995,
          24.995,
          24.9975,
          24.9965,
          24.9965,
          24.9813,
          24.9809,
          24.9809,
          24.983,
          24.9761,
          24.9761,
          24.9824,
          24.9774,
          24.9774,
          24.9819,
          24.9766,
          24.9766,
          24.9787,
          24.9744,
          24.9744,
          24.9778,
          24.9669,
          24.9669,
          24.9631,
          24.9562,
          24.9562,
          24.9679,
          24.9681,
          24.9681,
          24.969,
          24.9667,
          24.9667,
          24.962,
          24.9571,
          24.9571,
          24.9506,
          24.9581,
          24.9581,
          24.961,
          24.9514,
          24.9514,
          24.9616,
          24.9632,
          24.9632,
          24.9642,
          24.9609,
          24.9609,
          24.9619,
          24.9496,
          24.9496,
          24.9656,
          24.9654,
          24.9654,
          24.9374,
          24.9306,
          24.9306,
          24.9365,
          24.9266,
          24.9344,
          24.9309,
          24.9309,
          24.9309,
          24.9234,
          24.9234,
          24.9279,
          24.9302,
          24.9302,
          24.9338,
          24.9369,
          24.9369,
          24.9382,
          24.9403,
          24.9403,
          24.9469,
          24.9474,
          24.9474,
          24.9479,
          24.9545,
          24.9545,
          24.9556,
          24.9587,
          24.9587,
          24.9676,
          24.9586,
          24.9586,
          24.9654,
          24.9627,
          24.9627,
          24.9711,
          24.9643,
          24.9643,
          24.9681,
          25.0045,
          25.0045,
          24.9717,
          24.9772,
          24.9772,
          24.9932,
          24.9869,
          24.9869,
          24.9962,
          24.9921,
          24.9921,
          24.9795,
          25.0082,
          25.0082,
          24.9957,
          25.0003,
          25.0003,
          25.0219,
          25.0388,
          25.0388,
          25.019,
          25.0173,
          25.0173,
          25.0483,
          25.0669,
          25.0669,
          25.0568,
          25.0568,
          25.0757,
          25.0478,
          25.0478,
          25.1232,
          25.0804,
          25.0804,
          25.0701,
          25.07,
          25.07,
          25.0619,
          25.0535,
          25.0535,
          25.0637,
          25.0764,
          25.0764,
          25.075,
          25.0623,
          25.0623,
          25.0735,
          25.0733,
          25.0733,
          25.0661,
          25.0893,
          25.0893,
          25.0565,
          25.0649,
          25.0649,
          25.0818,
          25.0818,
          25.2493,
          25.1832
         ],
         "yaxis": "y"
        },
        {
         "hovertemplate": "SST QC Flag: Test 1=SUSPECT<br>time=%{x}<br>TEMP_SBE37_MEAN=%{y}<extra></extra>",
         "legendgroup": "SUSPECT",
         "marker": {
          "color": "goldenrod",
          "symbol": "circle"
         },
         "mode": "markers",
         "name": "SUSPECT",
         "orientation": "v",
         "showlegend": true,
         "type": "scatter",
         "x": [
          "2023-04-16 00:00:00",
          "2023-04-16 01:11:00",
          "2023-04-16 01:15:00",
          "2023-04-16 01:20:00",
          "2023-04-16 01:21:00",
          "2023-04-16 05:00:00",
          "2023-04-16 05:01:00",
          "2023-04-16 05:05:00",
          "2023-04-16 05:10:00",
          "2023-04-16 05:11:00",
          "2023-04-16 05:15:00",
          "2023-04-16 05:20:00",
          "2023-04-16 05:35:00",
          "2023-04-16 07:31:00",
          "2023-04-16 07:35:00",
          "2023-04-16 07:40:00",
          "2023-04-16 07:41:00",
          "2023-04-16 08:41:00",
          "2023-04-16 08:45:00",
          "2023-04-16 08:50:00",
          "2023-04-16 08:51:00",
          "2023-04-16 08:55:00",
          "2023-04-16 10:51:00",
          "2023-04-16 10:55:00",
          "2023-04-16 13:10:00",
          "2023-04-16 13:11:00",
          "2023-04-16 16:25:00",
          "2023-04-16 16:30:00",
          "2023-04-16 16:31:00",
          "2023-04-16 16:50:00",
          "2023-04-16 20:15:00",
          "2023-04-16 20:25:00",
          "2023-04-16 20:30:00",
          "2023-04-16 20:31:00",
          "2023-04-16 22:05:00"
         ],
         "xaxis": "x",
         "y": [
          25.306,
          25.2579,
          25.2594,
          25.251,
          25.251,
          25.1532,
          25.1532,
          25.1518,
          25.1486,
          25.1486,
          25.1663,
          25.1597,
          25.1483,
          25.1201,
          25.1167,
          25.1135,
          25.1135,
          25.085,
          25.0866,
          25.097,
          25.097,
          25.0852,
          25.0153,
          25.0083,
          25.0078,
          25.0078,
          24.9377,
          24.9331,
          24.9331,
          24.9266,
          25.0412,
          25.0253,
          25.1671,
          25.1671,
          25.1435
         ],
         "yaxis": "y"
        }
       ],
       "layout": {
        "height": 800,
        "legend": {
         "title": {
          "text": "SST QC Flag: Test 1"
         },
         "tracegroupgap": 0
        },
        "template": {
         "data": {
          "bar": [
           {
            "error_x": {
             "color": "#2a3f5f"
            },
            "error_y": {
             "color": "#2a3f5f"
            },
            "marker": {
             "line": {
              "color": "#E5ECF6",
              "width": 0.5
             },
             "pattern": {
              "fillmode": "overlay",
              "size": 10,
              "solidity": 0.2
             }
            },
            "type": "bar"
           }
          ],
          "barpolar": [
           {
            "marker": {
             "line": {
              "color": "#E5ECF6",
              "width": 0.5
             },
             "pattern": {
              "fillmode": "overlay",
              "size": 10,
              "solidity": 0.2
             }
            },
            "type": "barpolar"
           }
          ],
          "carpet": [
           {
            "aaxis": {
             "endlinecolor": "#2a3f5f",
             "gridcolor": "white",
             "linecolor": "white",
             "minorgridcolor": "white",
             "startlinecolor": "#2a3f5f"
            },
            "baxis": {
             "endlinecolor": "#2a3f5f",
             "gridcolor": "white",
             "linecolor": "white",
             "minorgridcolor": "white",
             "startlinecolor": "#2a3f5f"
            },
            "type": "carpet"
           }
          ],
          "choropleth": [
           {
            "colorbar": {
             "outlinewidth": 0,
             "ticks": ""
            },
            "type": "choropleth"
           }
          ],
          "contour": [
           {
            "colorbar": {
             "outlinewidth": 0,
             "ticks": ""
            },
            "colorscale": [
             [
              0,
              "#0d0887"
             ],
             [
              0.1111111111111111,
              "#46039f"
             ],
             [
              0.2222222222222222,
              "#7201a8"
             ],
             [
              0.3333333333333333,
              "#9c179e"
             ],
             [
              0.4444444444444444,
              "#bd3786"
             ],
             [
              0.5555555555555556,
              "#d8576b"
             ],
             [
              0.6666666666666666,
              "#ed7953"
             ],
             [
              0.7777777777777778,
              "#fb9f3a"
             ],
             [
              0.8888888888888888,
              "#fdca26"
             ],
             [
              1,
              "#f0f921"
             ]
            ],
            "type": "contour"
           }
          ],
          "contourcarpet": [
           {
            "colorbar": {
             "outlinewidth": 0,
             "ticks": ""
            },
            "type": "contourcarpet"
           }
          ],
          "heatmap": [
           {
            "colorbar": {
             "outlinewidth": 0,
             "ticks": ""
            },
            "colorscale": [
             [
              0,
              "#0d0887"
             ],
             [
              0.1111111111111111,
              "#46039f"
             ],
             [
              0.2222222222222222,
              "#7201a8"
             ],
             [
              0.3333333333333333,
              "#9c179e"
             ],
             [
              0.4444444444444444,
              "#bd3786"
             ],
             [
              0.5555555555555556,
              "#d8576b"
             ],
             [
              0.6666666666666666,
              "#ed7953"
             ],
             [
              0.7777777777777778,
              "#fb9f3a"
             ],
             [
              0.8888888888888888,
              "#fdca26"
             ],
             [
              1,
              "#f0f921"
             ]
            ],
            "type": "heatmap"
           }
          ],
          "heatmapgl": [
           {
            "colorbar": {
             "outlinewidth": 0,
             "ticks": ""
            },
            "colorscale": [
             [
              0,
              "#0d0887"
             ],
             [
              0.1111111111111111,
              "#46039f"
             ],
             [
              0.2222222222222222,
              "#7201a8"
             ],
             [
              0.3333333333333333,
              "#9c179e"
             ],
             [
              0.4444444444444444,
              "#bd3786"
             ],
             [
              0.5555555555555556,
              "#d8576b"
             ],
             [
              0.6666666666666666,
              "#ed7953"
             ],
             [
              0.7777777777777778,
              "#fb9f3a"
             ],
             [
              0.8888888888888888,
              "#fdca26"
             ],
             [
              1,
              "#f0f921"
             ]
            ],
            "type": "heatmapgl"
           }
          ],
          "histogram": [
           {
            "marker": {
             "pattern": {
              "fillmode": "overlay",
              "size": 10,
              "solidity": 0.2
             }
            },
            "type": "histogram"
           }
          ],
          "histogram2d": [
           {
            "colorbar": {
             "outlinewidth": 0,
             "ticks": ""
            },
            "colorscale": [
             [
              0,
              "#0d0887"
             ],
             [
              0.1111111111111111,
              "#46039f"
             ],
             [
              0.2222222222222222,
              "#7201a8"
             ],
             [
              0.3333333333333333,
              "#9c179e"
             ],
             [
              0.4444444444444444,
              "#bd3786"
             ],
             [
              0.5555555555555556,
              "#d8576b"
             ],
             [
              0.6666666666666666,
              "#ed7953"
             ],
             [
              0.7777777777777778,
              "#fb9f3a"
             ],
             [
              0.8888888888888888,
              "#fdca26"
             ],
             [
              1,
              "#f0f921"
             ]
            ],
            "type": "histogram2d"
           }
          ],
          "histogram2dcontour": [
           {
            "colorbar": {
             "outlinewidth": 0,
             "ticks": ""
            },
            "colorscale": [
             [
              0,
              "#0d0887"
             ],
             [
              0.1111111111111111,
              "#46039f"
             ],
             [
              0.2222222222222222,
              "#7201a8"
             ],
             [
              0.3333333333333333,
              "#9c179e"
             ],
             [
              0.4444444444444444,
              "#bd3786"
             ],
             [
              0.5555555555555556,
              "#d8576b"
             ],
             [
              0.6666666666666666,
              "#ed7953"
             ],
             [
              0.7777777777777778,
              "#fb9f3a"
             ],
             [
              0.8888888888888888,
              "#fdca26"
             ],
             [
              1,
              "#f0f921"
             ]
            ],
            "type": "histogram2dcontour"
           }
          ],
          "mesh3d": [
           {
            "colorbar": {
             "outlinewidth": 0,
             "ticks": ""
            },
            "type": "mesh3d"
           }
          ],
          "parcoords": [
           {
            "line": {
             "colorbar": {
              "outlinewidth": 0,
              "ticks": ""
             }
            },
            "type": "parcoords"
           }
          ],
          "pie": [
           {
            "automargin": true,
            "type": "pie"
           }
          ],
          "scatter": [
           {
            "fillpattern": {
             "fillmode": "overlay",
             "size": 10,
             "solidity": 0.2
            },
            "type": "scatter"
           }
          ],
          "scatter3d": [
           {
            "line": {
             "colorbar": {
              "outlinewidth": 0,
              "ticks": ""
             }
            },
            "marker": {
             "colorbar": {
              "outlinewidth": 0,
              "ticks": ""
             }
            },
            "type": "scatter3d"
           }
          ],
          "scattercarpet": [
           {
            "marker": {
             "colorbar": {
              "outlinewidth": 0,
              "ticks": ""
             }
            },
            "type": "scattercarpet"
           }
          ],
          "scattergeo": [
           {
            "marker": {
             "colorbar": {
              "outlinewidth": 0,
              "ticks": ""
             }
            },
            "type": "scattergeo"
           }
          ],
          "scattergl": [
           {
            "marker": {
             "colorbar": {
              "outlinewidth": 0,
              "ticks": ""
             }
            },
            "type": "scattergl"
           }
          ],
          "scattermapbox": [
           {
            "marker": {
             "colorbar": {
              "outlinewidth": 0,
              "ticks": ""
             }
            },
            "type": "scattermapbox"
           }
          ],
          "scatterpolar": [
           {
            "marker": {
             "colorbar": {
              "outlinewidth": 0,
              "ticks": ""
             }
            },
            "type": "scatterpolar"
           }
          ],
          "scatterpolargl": [
           {
            "marker": {
             "colorbar": {
              "outlinewidth": 0,
              "ticks": ""
             }
            },
            "type": "scatterpolargl"
           }
          ],
          "scatterternary": [
           {
            "marker": {
             "colorbar": {
              "outlinewidth": 0,
              "ticks": ""
             }
            },
            "type": "scatterternary"
           }
          ],
          "surface": [
           {
            "colorbar": {
             "outlinewidth": 0,
             "ticks": ""
            },
            "colorscale": [
             [
              0,
              "#0d0887"
             ],
             [
              0.1111111111111111,
              "#46039f"
             ],
             [
              0.2222222222222222,
              "#7201a8"
             ],
             [
              0.3333333333333333,
              "#9c179e"
             ],
             [
              0.4444444444444444,
              "#bd3786"
             ],
             [
              0.5555555555555556,
              "#d8576b"
             ],
             [
              0.6666666666666666,
              "#ed7953"
             ],
             [
              0.7777777777777778,
              "#fb9f3a"
             ],
             [
              0.8888888888888888,
              "#fdca26"
             ],
             [
              1,
              "#f0f921"
             ]
            ],
            "type": "surface"
           }
          ],
          "table": [
           {
            "cells": {
             "fill": {
              "color": "#EBF0F8"
             },
             "line": {
              "color": "white"
             }
            },
            "header": {
             "fill": {
              "color": "#C8D4E3"
             },
             "line": {
              "color": "white"
             }
            },
            "type": "table"
           }
          ]
         },
         "layout": {
          "annotationdefaults": {
           "arrowcolor": "#2a3f5f",
           "arrowhead": 0,
           "arrowwidth": 1
          },
          "autotypenumbers": "strict",
          "coloraxis": {
           "colorbar": {
            "outlinewidth": 0,
            "ticks": ""
           }
          },
          "colorscale": {
           "diverging": [
            [
             0,
             "#8e0152"
            ],
            [
             0.1,
             "#c51b7d"
            ],
            [
             0.2,
             "#de77ae"
            ],
            [
             0.3,
             "#f1b6da"
            ],
            [
             0.4,
             "#fde0ef"
            ],
            [
             0.5,
             "#f7f7f7"
            ],
            [
             0.6,
             "#e6f5d0"
            ],
            [
             0.7,
             "#b8e186"
            ],
            [
             0.8,
             "#7fbc41"
            ],
            [
             0.9,
             "#4d9221"
            ],
            [
             1,
             "#276419"
            ]
           ],
           "sequential": [
            [
             0,
             "#0d0887"
            ],
            [
             0.1111111111111111,
             "#46039f"
            ],
            [
             0.2222222222222222,
             "#7201a8"
            ],
            [
             0.3333333333333333,
             "#9c179e"
            ],
            [
             0.4444444444444444,
             "#bd3786"
            ],
            [
             0.5555555555555556,
             "#d8576b"
            ],
            [
             0.6666666666666666,
             "#ed7953"
            ],
            [
             0.7777777777777778,
             "#fb9f3a"
            ],
            [
             0.8888888888888888,
             "#fdca26"
            ],
            [
             1,
             "#f0f921"
            ]
           ],
           "sequentialminus": [
            [
             0,
             "#0d0887"
            ],
            [
             0.1111111111111111,
             "#46039f"
            ],
            [
             0.2222222222222222,
             "#7201a8"
            ],
            [
             0.3333333333333333,
             "#9c179e"
            ],
            [
             0.4444444444444444,
             "#bd3786"
            ],
            [
             0.5555555555555556,
             "#d8576b"
            ],
            [
             0.6666666666666666,
             "#ed7953"
            ],
            [
             0.7777777777777778,
             "#fb9f3a"
            ],
            [
             0.8888888888888888,
             "#fdca26"
            ],
            [
             1,
             "#f0f921"
            ]
           ]
          },
          "colorway": [
           "#636efa",
           "#EF553B",
           "#00cc96",
           "#ab63fa",
           "#FFA15A",
           "#19d3f3",
           "#FF6692",
           "#B6E880",
           "#FF97FF",
           "#FECB52"
          ],
          "font": {
           "color": "#2a3f5f"
          },
          "geo": {
           "bgcolor": "white",
           "lakecolor": "white",
           "landcolor": "#E5ECF6",
           "showlakes": true,
           "showland": true,
           "subunitcolor": "white"
          },
          "hoverlabel": {
           "align": "left"
          },
          "hovermode": "closest",
          "mapbox": {
           "style": "light"
          },
          "paper_bgcolor": "white",
          "plot_bgcolor": "#E5ECF6",
          "polar": {
           "angularaxis": {
            "gridcolor": "white",
            "linecolor": "white",
            "ticks": ""
           },
           "bgcolor": "#E5ECF6",
           "radialaxis": {
            "gridcolor": "white",
            "linecolor": "white",
            "ticks": ""
           }
          },
          "scene": {
           "xaxis": {
            "backgroundcolor": "#E5ECF6",
            "gridcolor": "white",
            "gridwidth": 2,
            "linecolor": "white",
            "showbackground": true,
            "ticks": "",
            "zerolinecolor": "white"
           },
           "yaxis": {
            "backgroundcolor": "#E5ECF6",
            "gridcolor": "white",
            "gridwidth": 2,
            "linecolor": "white",
            "showbackground": true,
            "ticks": "",
            "zerolinecolor": "white"
           },
           "zaxis": {
            "backgroundcolor": "#E5ECF6",
            "gridcolor": "white",
            "gridwidth": 2,
            "linecolor": "white",
            "showbackground": true,
            "ticks": "",
            "zerolinecolor": "white"
           }
          },
          "shapedefaults": {
           "line": {
            "color": "#2a3f5f"
           }
          },
          "ternary": {
           "aaxis": {
            "gridcolor": "white",
            "linecolor": "white",
            "ticks": ""
           },
           "baxis": {
            "gridcolor": "white",
            "linecolor": "white",
            "ticks": ""
           },
           "bgcolor": "#E5ECF6",
           "caxis": {
            "gridcolor": "white",
            "linecolor": "white",
            "ticks": ""
           }
          },
          "title": {
           "x": 0.05
          },
          "xaxis": {
           "automargin": true,
           "gridcolor": "white",
           "linecolor": "white",
           "ticks": "",
           "title": {
            "standoff": 15
           },
           "zerolinecolor": "white",
           "zerolinewidth": 2
          },
          "yaxis": {
           "automargin": true,
           "gridcolor": "white",
           "linecolor": "white",
           "ticks": "",
           "title": {
            "standoff": 15
           },
           "zerolinecolor": "white",
           "zerolinewidth": 2
          }
         }
        },
        "title": {
         "text": "SD-1090 HI Chem 23 SST"
        },
        "width": 1400,
        "xaxis": {
         "anchor": "y",
         "domain": [
          0,
          1
         ],
         "title": {
          "text": "time"
         }
        },
        "yaxis": {
         "anchor": "x",
         "domain": [
          0,
          1
         ],
         "title": {
          "text": "TEMP_SBE37_MEAN"
         }
        }
       }
      }
     },
     "metadata": {},
     "output_type": "display_data"
    }
   ],
   "source": [
    "px.scatter(\n",
    "    hi1090qc, \n",
    "    x=\"time\", y=\"TEMP_SBE37_MEAN\", \n",
    "    color='SST QC Flag: Test 1', \n",
    "    width = 1400, height = 800, \n",
    "    color_discrete_sequence=[\"green\", \"gray\", \"goldenrod\", \"red\", \"black\"], \n",
    "    category_orders={\"SST QC Flag: Test 1\": [\"GOOD\", \"UNKNKOWN\", \"SUSPECT\", \"FAIL\", \"MISSING\"]},\n",
    "    title='SD-1090 HI Chem 23 SST'\n",
    "    )"
   ]
  },
  {
   "cell_type": "markdown",
   "metadata": {},
   "source": [
    "#### Test 2 - Temperature"
   ]
  },
  {
   "cell_type": "code",
   "execution_count": 29,
   "metadata": {},
   "outputs": [
    {
     "data": {
      "application/vnd.plotly.v1+json": {
       "config": {
        "plotlyServerURL": "https://plot.ly"
       },
       "data": [
        {
         "hovertemplate": "SST QC Flag: Test 2=GOOD<br>time=%{x}<br>TEMP_SBE37_MEAN=%{y}<extra></extra>",
         "legendgroup": "GOOD",
         "marker": {
          "color": "green",
          "symbol": "circle"
         },
         "mode": "markers",
         "name": "GOOD",
         "orientation": "v",
         "showlegend": true,
         "type": "scatter",
         "x": [
          "2023-04-16 00:00:00",
          "2023-04-16 00:01:00",
          "2023-04-16 00:05:00",
          "2023-04-16 00:10:00",
          "2023-04-16 00:11:00",
          "2023-04-16 00:15:00",
          "2023-04-16 00:20:00",
          "2023-04-16 00:21:00",
          "2023-04-16 00:25:00",
          "2023-04-16 00:30:00",
          "2023-04-16 00:31:00",
          "2023-04-16 00:35:00",
          "2023-04-16 00:40:00",
          "2023-04-16 00:41:00",
          "2023-04-16 00:45:00",
          "2023-04-16 00:50:00",
          "2023-04-16 00:51:00",
          "2023-04-16 00:55:00",
          "2023-04-16 01:00:00",
          "2023-04-16 01:01:00",
          "2023-04-16 01:05:00",
          "2023-04-16 01:10:00",
          "2023-04-16 01:11:00",
          "2023-04-16 01:15:00",
          "2023-04-16 01:20:00",
          "2023-04-16 01:21:00",
          "2023-04-16 01:25:00",
          "2023-04-16 01:30:00",
          "2023-04-16 01:31:00",
          "2023-04-16 01:35:00",
          "2023-04-16 01:40:00",
          "2023-04-16 01:41:00",
          "2023-04-16 01:45:00",
          "2023-04-16 01:50:00",
          "2023-04-16 01:51:00",
          "2023-04-16 01:55:00",
          "2023-04-16 02:00:00",
          "2023-04-16 02:01:00",
          "2023-04-16 02:05:00",
          "2023-04-16 02:10:00",
          "2023-04-16 02:11:00",
          "2023-04-16 02:15:00",
          "2023-04-16 02:20:00",
          "2023-04-16 02:21:00",
          "2023-04-16 02:25:00",
          "2023-04-16 02:30:00",
          "2023-04-16 02:31:00",
          "2023-04-16 02:35:00",
          "2023-04-16 02:40:00",
          "2023-04-16 02:41:00",
          "2023-04-16 02:45:00",
          "2023-04-16 02:50:00",
          "2023-04-16 02:51:00",
          "2023-04-16 02:55:00",
          "2023-04-16 03:00:00",
          "2023-04-16 03:01:00",
          "2023-04-16 03:05:00",
          "2023-04-16 03:10:00",
          "2023-04-16 03:11:00",
          "2023-04-16 03:15:00",
          "2023-04-16 03:20:00",
          "2023-04-16 03:21:00",
          "2023-04-16 03:25:00",
          "2023-04-16 03:30:00",
          "2023-04-16 03:31:00",
          "2023-04-16 03:35:00",
          "2023-04-16 03:40:00",
          "2023-04-16 03:41:00",
          "2023-04-16 03:45:00",
          "2023-04-16 03:50:00",
          "2023-04-16 03:51:00",
          "2023-04-16 03:55:00",
          "2023-04-16 04:00:00",
          "2023-04-16 04:01:00",
          "2023-04-16 04:05:00",
          "2023-04-16 04:10:00",
          "2023-04-16 04:11:00",
          "2023-04-16 04:15:00",
          "2023-04-16 04:20:00",
          "2023-04-16 04:21:00",
          "2023-04-16 04:25:00",
          "2023-04-16 04:30:00",
          "2023-04-16 04:31:00",
          "2023-04-16 04:35:00",
          "2023-04-16 04:40:00",
          "2023-04-16 04:41:00",
          "2023-04-16 04:45:00",
          "2023-04-16 04:50:00",
          "2023-04-16 04:51:00",
          "2023-04-16 04:55:00",
          "2023-04-16 05:00:00",
          "2023-04-16 05:01:00",
          "2023-04-16 05:05:00",
          "2023-04-16 05:10:00",
          "2023-04-16 05:11:00",
          "2023-04-16 05:15:00",
          "2023-04-16 05:20:00",
          "2023-04-16 05:30:00",
          "2023-04-16 05:35:00",
          "2023-04-16 05:40:00",
          "2023-04-16 05:41:00",
          "2023-04-16 05:45:00",
          "2023-04-16 05:50:00",
          "2023-04-16 05:51:00",
          "2023-04-16 05:55:00",
          "2023-04-16 06:00:00",
          "2023-04-16 06:01:00",
          "2023-04-16 06:05:00",
          "2023-04-16 06:10:00",
          "2023-04-16 06:11:00",
          "2023-04-16 06:15:00",
          "2023-04-16 06:20:00",
          "2023-04-16 06:21:00",
          "2023-04-16 06:25:00",
          "2023-04-16 06:30:00",
          "2023-04-16 06:31:00",
          "2023-04-16 06:35:00",
          "2023-04-16 06:40:00",
          "2023-04-16 06:41:00",
          "2023-04-16 06:45:00",
          "2023-04-16 06:50:00",
          "2023-04-16 06:51:00",
          "2023-04-16 06:55:00",
          "2023-04-16 07:00:00",
          "2023-04-16 07:05:00",
          "2023-04-16 07:10:00",
          "2023-04-16 07:11:00",
          "2023-04-16 07:15:00",
          "2023-04-16 07:20:00",
          "2023-04-16 07:21:00",
          "2023-04-16 07:25:00",
          "2023-04-16 07:30:00",
          "2023-04-16 07:31:00",
          "2023-04-16 07:35:00",
          "2023-04-16 07:40:00",
          "2023-04-16 07:41:00",
          "2023-04-16 07:45:00",
          "2023-04-16 07:50:00",
          "2023-04-16 07:51:00",
          "2023-04-16 07:55:00",
          "2023-04-16 08:00:00",
          "2023-04-16 08:01:00",
          "2023-04-16 08:05:00",
          "2023-04-16 08:10:00",
          "2023-04-16 08:11:00",
          "2023-04-16 08:15:00",
          "2023-04-16 08:20:00",
          "2023-04-16 08:21:00",
          "2023-04-16 08:25:00",
          "2023-04-16 08:30:00",
          "2023-04-16 08:31:00",
          "2023-04-16 08:35:00",
          "2023-04-16 08:40:00",
          "2023-04-16 08:41:00",
          "2023-04-16 08:45:00",
          "2023-04-16 08:50:00",
          "2023-04-16 08:51:00",
          "2023-04-16 08:55:00",
          "2023-04-16 09:00:00",
          "2023-04-16 09:01:00",
          "2023-04-16 09:05:00",
          "2023-04-16 09:10:00",
          "2023-04-16 09:11:00",
          "2023-04-16 09:15:00",
          "2023-04-16 09:20:00",
          "2023-04-16 09:21:00",
          "2023-04-16 09:25:00",
          "2023-04-16 09:30:00",
          "2023-04-16 09:31:00",
          "2023-04-16 09:35:00",
          "2023-04-16 09:40:00",
          "2023-04-16 09:41:00",
          "2023-04-16 09:45:00",
          "2023-04-16 09:50:00",
          "2023-04-16 09:51:00",
          "2023-04-16 09:55:00",
          "2023-04-16 10:00:00",
          "2023-04-16 10:01:00",
          "2023-04-16 10:05:00",
          "2023-04-16 10:10:00",
          "2023-04-16 10:11:00",
          "2023-04-16 10:15:00",
          "2023-04-16 10:20:00",
          "2023-04-16 10:21:00",
          "2023-04-16 10:25:00",
          "2023-04-16 10:30:00",
          "2023-04-16 10:31:00",
          "2023-04-16 10:35:00",
          "2023-04-16 10:40:00",
          "2023-04-16 10:41:00",
          "2023-04-16 10:45:00",
          "2023-04-16 10:50:00",
          "2023-04-16 10:51:00",
          "2023-04-16 10:55:00",
          "2023-04-16 11:15:00",
          "2023-04-16 11:20:00",
          "2023-04-16 11:21:00",
          "2023-04-16 11:25:00",
          "2023-04-16 11:30:00",
          "2023-04-16 11:31:00",
          "2023-04-16 11:35:00",
          "2023-04-16 11:40:00",
          "2023-04-16 11:41:00",
          "2023-04-16 11:45:00",
          "2023-04-16 11:50:00",
          "2023-04-16 11:51:00",
          "2023-04-16 11:55:00",
          "2023-04-16 12:00:00",
          "2023-04-16 12:01:00",
          "2023-04-16 12:05:00",
          "2023-04-16 12:10:00",
          "2023-04-16 12:11:00",
          "2023-04-16 12:15:00",
          "2023-04-16 12:20:00",
          "2023-04-16 12:21:00",
          "2023-04-16 12:25:00",
          "2023-04-16 12:30:00",
          "2023-04-16 12:31:00",
          "2023-04-16 12:35:00",
          "2023-04-16 12:40:00",
          "2023-04-16 12:41:00",
          "2023-04-16 12:45:00",
          "2023-04-16 12:50:00",
          "2023-04-16 12:51:00",
          "2023-04-16 12:55:00",
          "2023-04-16 13:00:00",
          "2023-04-16 13:01:00",
          "2023-04-16 13:05:00",
          "2023-04-16 13:10:00",
          "2023-04-16 13:11:00",
          "2023-04-16 13:15:00",
          "2023-04-16 13:20:00",
          "2023-04-16 13:21:00",
          "2023-04-16 13:25:00",
          "2023-04-16 13:30:00",
          "2023-04-16 13:31:00",
          "2023-04-16 13:35:00",
          "2023-04-16 13:40:00",
          "2023-04-16 13:41:00",
          "2023-04-16 13:45:00",
          "2023-04-16 13:50:00",
          "2023-04-16 13:51:00",
          "2023-04-16 13:55:00",
          "2023-04-16 14:00:00",
          "2023-04-16 14:01:00",
          "2023-04-16 14:05:00",
          "2023-04-16 14:10:00",
          "2023-04-16 14:11:00",
          "2023-04-16 14:15:00",
          "2023-04-16 14:20:00",
          "2023-04-16 14:21:00",
          "2023-04-16 14:25:00",
          "2023-04-16 14:30:00",
          "2023-04-16 14:31:00",
          "2023-04-16 14:35:00",
          "2023-04-16 14:40:00",
          "2023-04-16 14:41:00",
          "2023-04-16 14:45:00",
          "2023-04-16 14:50:00",
          "2023-04-16 14:51:00",
          "2023-04-16 14:55:00",
          "2023-04-16 15:00:00",
          "2023-04-16 15:01:00",
          "2023-04-16 15:05:00",
          "2023-04-16 15:10:00",
          "2023-04-16 15:11:00",
          "2023-04-16 15:15:00",
          "2023-04-16 15:20:00",
          "2023-04-16 15:21:00",
          "2023-04-16 15:25:00",
          "2023-04-16 15:30:00",
          "2023-04-16 15:31:00",
          "2023-04-16 15:35:00",
          "2023-04-16 15:40:00",
          "2023-04-16 15:41:00",
          "2023-04-16 15:45:00",
          "2023-04-16 15:50:00",
          "2023-04-16 15:51:00",
          "2023-04-16 15:55:00",
          "2023-04-16 16:00:00",
          "2023-04-16 16:01:00",
          "2023-04-16 16:05:00",
          "2023-04-16 16:10:00",
          "2023-04-16 16:11:00",
          "2023-04-16 16:15:00",
          "2023-04-16 16:20:00",
          "2023-04-16 16:21:00",
          "2023-04-16 16:25:00",
          "2023-04-16 16:30:00",
          "2023-04-16 16:31:00",
          "2023-04-16 16:50:00",
          "2023-04-16 16:51:00",
          "2023-04-16 16:55:00",
          "2023-04-16 17:00:00",
          "2023-04-16 17:01:00",
          "2023-04-16 17:05:00",
          "2023-04-16 17:10:00",
          "2023-04-16 17:11:00",
          "2023-04-16 17:15:00",
          "2023-04-16 17:20:00",
          "2023-04-16 17:21:00",
          "2023-04-16 17:25:00",
          "2023-04-16 17:30:00",
          "2023-04-16 17:31:00",
          "2023-04-16 17:35:00",
          "2023-04-16 17:40:00",
          "2023-04-16 17:41:00",
          "2023-04-16 17:45:00",
          "2023-04-16 17:50:00",
          "2023-04-16 17:51:00",
          "2023-04-16 17:55:00",
          "2023-04-16 18:00:00",
          "2023-04-16 18:01:00",
          "2023-04-16 18:05:00",
          "2023-04-16 18:10:00",
          "2023-04-16 18:11:00",
          "2023-04-16 18:15:00",
          "2023-04-16 18:20:00",
          "2023-04-16 18:21:00",
          "2023-04-16 18:25:00",
          "2023-04-16 18:30:00",
          "2023-04-16 18:31:00",
          "2023-04-16 18:35:00",
          "2023-04-16 18:40:00",
          "2023-04-16 18:41:00",
          "2023-04-16 18:45:00",
          "2023-04-16 18:50:00",
          "2023-04-16 18:51:00",
          "2023-04-16 18:55:00",
          "2023-04-16 19:00:00",
          "2023-04-16 19:01:00",
          "2023-04-16 19:05:00",
          "2023-04-16 19:10:00",
          "2023-04-16 19:11:00",
          "2023-04-16 19:15:00",
          "2023-04-16 19:20:00",
          "2023-04-16 19:21:00",
          "2023-04-16 19:25:00",
          "2023-04-16 19:30:00",
          "2023-04-16 19:31:00",
          "2023-04-16 19:35:00",
          "2023-04-16 19:40:00",
          "2023-04-16 19:41:00",
          "2023-04-16 19:45:00",
          "2023-04-16 19:50:00",
          "2023-04-16 19:51:00",
          "2023-04-16 19:55:00",
          "2023-04-16 20:00:00",
          "2023-04-16 20:01:00",
          "2023-04-16 20:05:00",
          "2023-04-16 20:10:00",
          "2023-04-16 20:11:00",
          "2023-04-16 20:15:00",
          "2023-04-16 20:20:00",
          "2023-04-16 20:21:00",
          "2023-04-16 20:25:00",
          "2023-04-16 20:30:00",
          "2023-04-16 20:31:00",
          "2023-04-16 20:35:00",
          "2023-04-16 20:40:00",
          "2023-04-16 20:41:00",
          "2023-04-16 20:45:00",
          "2023-04-16 20:50:00",
          "2023-04-16 20:51:00",
          "2023-04-16 20:55:00",
          "2023-04-16 21:00:00",
          "2023-04-16 21:01:00",
          "2023-04-16 21:05:00",
          "2023-04-16 21:10:00",
          "2023-04-16 21:11:00",
          "2023-04-16 21:15:00",
          "2023-04-16 21:20:00",
          "2023-04-16 21:21:00",
          "2023-04-16 21:25:00",
          "2023-04-16 21:30:00",
          "2023-04-16 21:31:00",
          "2023-04-16 21:35:00",
          "2023-04-16 21:40:00",
          "2023-04-16 21:41:00",
          "2023-04-16 21:45:00",
          "2023-04-16 21:50:00",
          "2023-04-16 21:51:00",
          "2023-04-16 21:55:00",
          "2023-04-16 22:00:00",
          "2023-04-16 22:01:00",
          "2023-04-16 22:05:00",
          "2023-04-16 22:10:00",
          "2023-04-16 22:11:00",
          "2023-04-16 22:15:00",
          "2023-04-16 22:20:00"
         ],
         "xaxis": "x",
         "y": [
          25.306,
          25.306,
          25.3116,
          25.3122,
          25.3122,
          25.3009,
          25.3166,
          25.3166,
          25.3151,
          25.3075,
          25.3075,
          25.2848,
          25.2912,
          25.2912,
          25.2722,
          25.2683,
          25.2683,
          25.262,
          25.2579,
          25.2579,
          25.2544,
          25.2579,
          25.2579,
          25.2594,
          25.251,
          25.251,
          25.2335,
          25.2282,
          25.2282,
          25.2333,
          25.2386,
          25.2386,
          25.2402,
          25.2537,
          25.2537,
          25.2678,
          25.2617,
          25.2617,
          25.2569,
          25.2621,
          25.2621,
          25.2599,
          25.2737,
          25.2737,
          25.2437,
          25.2544,
          25.2544,
          25.2385,
          25.2296,
          25.2296,
          25.2244,
          25.2155,
          25.2155,
          25.2179,
          25.2092,
          25.2092,
          25.202,
          25.2155,
          25.2155,
          25.2142,
          25.221,
          25.221,
          25.2225,
          25.2166,
          25.2166,
          25.2172,
          25.2141,
          25.2141,
          25.2018,
          25.1912,
          25.1912,
          25.1863,
          25.1826,
          25.1826,
          25.1824,
          25.1883,
          25.1883,
          25.1835,
          25.1943,
          25.1943,
          25.1977,
          25.1992,
          25.1992,
          25.1795,
          25.175,
          25.175,
          25.1716,
          25.1641,
          25.1641,
          25.1587,
          25.1532,
          25.1532,
          25.1518,
          25.1486,
          25.1486,
          25.1663,
          25.1597,
          25.1481,
          25.1483,
          25.1476,
          25.1476,
          25.1345,
          25.1389,
          25.1389,
          25.1318,
          25.1273,
          25.1273,
          25.136,
          25.1451,
          25.1451,
          25.1642,
          25.1904,
          25.1904,
          25.1955,
          25.1979,
          25.1979,
          25.1911,
          25.1706,
          25.1706,
          25.1768,
          25.1666,
          25.1666,
          25.159,
          25.1707,
          25.1777,
          25.1767,
          25.1767,
          25.1802,
          25.1569,
          25.1569,
          25.1379,
          25.1201,
          25.1201,
          25.1167,
          25.1135,
          25.1135,
          25.0924,
          25.0886,
          25.0886,
          25.0898,
          25.0818,
          25.0818,
          25.0764,
          25.0785,
          25.0785,
          25.0719,
          25.0709,
          25.0709,
          25.06,
          25.0582,
          25.0582,
          25.0648,
          25.085,
          25.085,
          25.0866,
          25.097,
          25.097,
          25.0852,
          25.065,
          25.065,
          25.0511,
          25.0305,
          25.0305,
          25.0115,
          24.9882,
          24.9882,
          24.9797,
          24.9779,
          24.9779,
          24.9843,
          24.9918,
          24.9918,
          24.9891,
          24.9937,
          24.9937,
          25.0103,
          25.02,
          25.02,
          25.0287,
          25.0308,
          25.0308,
          25.0308,
          25.0234,
          25.0234,
          25.0245,
          25.0316,
          25.0316,
          25.0323,
          25.0279,
          25.0279,
          25.0198,
          25.0153,
          25.0153,
          25.0083,
          25.0047,
          25.0081,
          25.0081,
          25.0067,
          25.0124,
          25.0124,
          25.0172,
          25.0182,
          25.0182,
          25.0151,
          25.0168,
          25.0168,
          25.0176,
          25.0187,
          25.0187,
          25.0215,
          25.0219,
          25.0219,
          25.0142,
          25.019,
          25.019,
          25.0198,
          25.0241,
          25.0241,
          25.0216,
          25.0099,
          25.0099,
          25.0178,
          25.002,
          25.002,
          25.0046,
          25.0052,
          25.0052,
          25.0034,
          25.0078,
          25.0078,
          24.9998,
          24.9986,
          24.9986,
          25.0043,
          24.995,
          24.995,
          24.9975,
          24.9965,
          24.9965,
          24.9813,
          24.9809,
          24.9809,
          24.983,
          24.9761,
          24.9761,
          24.9824,
          24.9774,
          24.9774,
          24.9819,
          24.9766,
          24.9766,
          24.9787,
          24.9744,
          24.9744,
          24.9778,
          24.9669,
          24.9669,
          24.9631,
          24.9562,
          24.9562,
          24.9679,
          24.9681,
          24.9681,
          24.969,
          24.9667,
          24.9667,
          24.962,
          24.9571,
          24.9571,
          24.9506,
          24.9581,
          24.9581,
          24.961,
          24.9514,
          24.9514,
          24.9616,
          24.9632,
          24.9632,
          24.9642,
          24.9609,
          24.9609,
          24.9619,
          24.9496,
          24.9496,
          24.9656,
          24.9654,
          24.9654,
          24.9377,
          24.9331,
          24.9331,
          24.9266,
          24.9266,
          24.9344,
          24.9309,
          24.9309,
          24.9309,
          24.9234,
          24.9234,
          24.9279,
          24.9302,
          24.9302,
          24.9338,
          24.9369,
          24.9369,
          24.9382,
          24.9403,
          24.9403,
          24.9469,
          24.9474,
          24.9474,
          24.9479,
          24.9545,
          24.9545,
          24.9556,
          24.9587,
          24.9587,
          24.9676,
          24.9586,
          24.9586,
          24.9654,
          24.9627,
          24.9627,
          24.9711,
          24.9643,
          24.9643,
          24.9681,
          25.0045,
          25.0045,
          24.9717,
          24.9772,
          24.9772,
          24.9932,
          24.9869,
          24.9869,
          24.9962,
          24.9921,
          24.9921,
          24.9795,
          25.0082,
          25.0082,
          24.9957,
          25.0003,
          25.0003,
          25.0219,
          25.0388,
          25.0388,
          25.019,
          25.0173,
          25.0173,
          25.0483,
          25.0669,
          25.0669,
          25.0412,
          25.0568,
          25.0568,
          25.0253,
          25.1671,
          25.1671,
          25.0757,
          25.0478,
          25.0478,
          25.1232,
          25.0804,
          25.0804,
          25.0701,
          25.07,
          25.07,
          25.0619,
          25.0535,
          25.0535,
          25.0637,
          25.0764,
          25.0764,
          25.075,
          25.0623,
          25.0623,
          25.0735,
          25.0733,
          25.0733,
          25.0661,
          25.0893,
          25.0893,
          25.0565,
          25.0649,
          25.0649,
          25.1435,
          25.0818,
          25.0818,
          25.2493,
          25.1832
         ],
         "yaxis": "y"
        },
        {
         "hovertemplate": "SST QC Flag: Test 2=SUSPECT<br>time=%{x}<br>TEMP_SBE37_MEAN=%{y}<extra></extra>",
         "legendgroup": "SUSPECT",
         "marker": {
          "color": "goldenrod",
          "symbol": "circle"
         },
         "mode": "markers",
         "name": "SUSPECT",
         "orientation": "v",
         "showlegend": true,
         "type": "scatter",
         "x": [
          "2023-04-16 05:21:00",
          "2023-04-16 05:25:00",
          "2023-04-16 11:00:00",
          "2023-04-16 11:05:00",
          "2023-04-16 11:10:00",
          "2023-04-16 11:11:00",
          "2023-04-16 16:35:00",
          "2023-04-16 16:40:00",
          "2023-04-16 16:41:00",
          "2023-04-16 16:45:00"
         ],
         "xaxis": "x",
         "y": [
          25.1597,
          25.1629,
          24.9985,
          24.9971,
          24.9984,
          24.9984,
          24.9374,
          24.9306,
          24.9306,
          24.9365
         ],
         "yaxis": "y"
        }
       ],
       "layout": {
        "height": 800,
        "legend": {
         "title": {
          "text": "SST QC Flag: Test 2"
         },
         "tracegroupgap": 0
        },
        "template": {
         "data": {
          "bar": [
           {
            "error_x": {
             "color": "#2a3f5f"
            },
            "error_y": {
             "color": "#2a3f5f"
            },
            "marker": {
             "line": {
              "color": "#E5ECF6",
              "width": 0.5
             },
             "pattern": {
              "fillmode": "overlay",
              "size": 10,
              "solidity": 0.2
             }
            },
            "type": "bar"
           }
          ],
          "barpolar": [
           {
            "marker": {
             "line": {
              "color": "#E5ECF6",
              "width": 0.5
             },
             "pattern": {
              "fillmode": "overlay",
              "size": 10,
              "solidity": 0.2
             }
            },
            "type": "barpolar"
           }
          ],
          "carpet": [
           {
            "aaxis": {
             "endlinecolor": "#2a3f5f",
             "gridcolor": "white",
             "linecolor": "white",
             "minorgridcolor": "white",
             "startlinecolor": "#2a3f5f"
            },
            "baxis": {
             "endlinecolor": "#2a3f5f",
             "gridcolor": "white",
             "linecolor": "white",
             "minorgridcolor": "white",
             "startlinecolor": "#2a3f5f"
            },
            "type": "carpet"
           }
          ],
          "choropleth": [
           {
            "colorbar": {
             "outlinewidth": 0,
             "ticks": ""
            },
            "type": "choropleth"
           }
          ],
          "contour": [
           {
            "colorbar": {
             "outlinewidth": 0,
             "ticks": ""
            },
            "colorscale": [
             [
              0,
              "#0d0887"
             ],
             [
              0.1111111111111111,
              "#46039f"
             ],
             [
              0.2222222222222222,
              "#7201a8"
             ],
             [
              0.3333333333333333,
              "#9c179e"
             ],
             [
              0.4444444444444444,
              "#bd3786"
             ],
             [
              0.5555555555555556,
              "#d8576b"
             ],
             [
              0.6666666666666666,
              "#ed7953"
             ],
             [
              0.7777777777777778,
              "#fb9f3a"
             ],
             [
              0.8888888888888888,
              "#fdca26"
             ],
             [
              1,
              "#f0f921"
             ]
            ],
            "type": "contour"
           }
          ],
          "contourcarpet": [
           {
            "colorbar": {
             "outlinewidth": 0,
             "ticks": ""
            },
            "type": "contourcarpet"
           }
          ],
          "heatmap": [
           {
            "colorbar": {
             "outlinewidth": 0,
             "ticks": ""
            },
            "colorscale": [
             [
              0,
              "#0d0887"
             ],
             [
              0.1111111111111111,
              "#46039f"
             ],
             [
              0.2222222222222222,
              "#7201a8"
             ],
             [
              0.3333333333333333,
              "#9c179e"
             ],
             [
              0.4444444444444444,
              "#bd3786"
             ],
             [
              0.5555555555555556,
              "#d8576b"
             ],
             [
              0.6666666666666666,
              "#ed7953"
             ],
             [
              0.7777777777777778,
              "#fb9f3a"
             ],
             [
              0.8888888888888888,
              "#fdca26"
             ],
             [
              1,
              "#f0f921"
             ]
            ],
            "type": "heatmap"
           }
          ],
          "heatmapgl": [
           {
            "colorbar": {
             "outlinewidth": 0,
             "ticks": ""
            },
            "colorscale": [
             [
              0,
              "#0d0887"
             ],
             [
              0.1111111111111111,
              "#46039f"
             ],
             [
              0.2222222222222222,
              "#7201a8"
             ],
             [
              0.3333333333333333,
              "#9c179e"
             ],
             [
              0.4444444444444444,
              "#bd3786"
             ],
             [
              0.5555555555555556,
              "#d8576b"
             ],
             [
              0.6666666666666666,
              "#ed7953"
             ],
             [
              0.7777777777777778,
              "#fb9f3a"
             ],
             [
              0.8888888888888888,
              "#fdca26"
             ],
             [
              1,
              "#f0f921"
             ]
            ],
            "type": "heatmapgl"
           }
          ],
          "histogram": [
           {
            "marker": {
             "pattern": {
              "fillmode": "overlay",
              "size": 10,
              "solidity": 0.2
             }
            },
            "type": "histogram"
           }
          ],
          "histogram2d": [
           {
            "colorbar": {
             "outlinewidth": 0,
             "ticks": ""
            },
            "colorscale": [
             [
              0,
              "#0d0887"
             ],
             [
              0.1111111111111111,
              "#46039f"
             ],
             [
              0.2222222222222222,
              "#7201a8"
             ],
             [
              0.3333333333333333,
              "#9c179e"
             ],
             [
              0.4444444444444444,
              "#bd3786"
             ],
             [
              0.5555555555555556,
              "#d8576b"
             ],
             [
              0.6666666666666666,
              "#ed7953"
             ],
             [
              0.7777777777777778,
              "#fb9f3a"
             ],
             [
              0.8888888888888888,
              "#fdca26"
             ],
             [
              1,
              "#f0f921"
             ]
            ],
            "type": "histogram2d"
           }
          ],
          "histogram2dcontour": [
           {
            "colorbar": {
             "outlinewidth": 0,
             "ticks": ""
            },
            "colorscale": [
             [
              0,
              "#0d0887"
             ],
             [
              0.1111111111111111,
              "#46039f"
             ],
             [
              0.2222222222222222,
              "#7201a8"
             ],
             [
              0.3333333333333333,
              "#9c179e"
             ],
             [
              0.4444444444444444,
              "#bd3786"
             ],
             [
              0.5555555555555556,
              "#d8576b"
             ],
             [
              0.6666666666666666,
              "#ed7953"
             ],
             [
              0.7777777777777778,
              "#fb9f3a"
             ],
             [
              0.8888888888888888,
              "#fdca26"
             ],
             [
              1,
              "#f0f921"
             ]
            ],
            "type": "histogram2dcontour"
           }
          ],
          "mesh3d": [
           {
            "colorbar": {
             "outlinewidth": 0,
             "ticks": ""
            },
            "type": "mesh3d"
           }
          ],
          "parcoords": [
           {
            "line": {
             "colorbar": {
              "outlinewidth": 0,
              "ticks": ""
             }
            },
            "type": "parcoords"
           }
          ],
          "pie": [
           {
            "automargin": true,
            "type": "pie"
           }
          ],
          "scatter": [
           {
            "fillpattern": {
             "fillmode": "overlay",
             "size": 10,
             "solidity": 0.2
            },
            "type": "scatter"
           }
          ],
          "scatter3d": [
           {
            "line": {
             "colorbar": {
              "outlinewidth": 0,
              "ticks": ""
             }
            },
            "marker": {
             "colorbar": {
              "outlinewidth": 0,
              "ticks": ""
             }
            },
            "type": "scatter3d"
           }
          ],
          "scattercarpet": [
           {
            "marker": {
             "colorbar": {
              "outlinewidth": 0,
              "ticks": ""
             }
            },
            "type": "scattercarpet"
           }
          ],
          "scattergeo": [
           {
            "marker": {
             "colorbar": {
              "outlinewidth": 0,
              "ticks": ""
             }
            },
            "type": "scattergeo"
           }
          ],
          "scattergl": [
           {
            "marker": {
             "colorbar": {
              "outlinewidth": 0,
              "ticks": ""
             }
            },
            "type": "scattergl"
           }
          ],
          "scattermapbox": [
           {
            "marker": {
             "colorbar": {
              "outlinewidth": 0,
              "ticks": ""
             }
            },
            "type": "scattermapbox"
           }
          ],
          "scatterpolar": [
           {
            "marker": {
             "colorbar": {
              "outlinewidth": 0,
              "ticks": ""
             }
            },
            "type": "scatterpolar"
           }
          ],
          "scatterpolargl": [
           {
            "marker": {
             "colorbar": {
              "outlinewidth": 0,
              "ticks": ""
             }
            },
            "type": "scatterpolargl"
           }
          ],
          "scatterternary": [
           {
            "marker": {
             "colorbar": {
              "outlinewidth": 0,
              "ticks": ""
             }
            },
            "type": "scatterternary"
           }
          ],
          "surface": [
           {
            "colorbar": {
             "outlinewidth": 0,
             "ticks": ""
            },
            "colorscale": [
             [
              0,
              "#0d0887"
             ],
             [
              0.1111111111111111,
              "#46039f"
             ],
             [
              0.2222222222222222,
              "#7201a8"
             ],
             [
              0.3333333333333333,
              "#9c179e"
             ],
             [
              0.4444444444444444,
              "#bd3786"
             ],
             [
              0.5555555555555556,
              "#d8576b"
             ],
             [
              0.6666666666666666,
              "#ed7953"
             ],
             [
              0.7777777777777778,
              "#fb9f3a"
             ],
             [
              0.8888888888888888,
              "#fdca26"
             ],
             [
              1,
              "#f0f921"
             ]
            ],
            "type": "surface"
           }
          ],
          "table": [
           {
            "cells": {
             "fill": {
              "color": "#EBF0F8"
             },
             "line": {
              "color": "white"
             }
            },
            "header": {
             "fill": {
              "color": "#C8D4E3"
             },
             "line": {
              "color": "white"
             }
            },
            "type": "table"
           }
          ]
         },
         "layout": {
          "annotationdefaults": {
           "arrowcolor": "#2a3f5f",
           "arrowhead": 0,
           "arrowwidth": 1
          },
          "autotypenumbers": "strict",
          "coloraxis": {
           "colorbar": {
            "outlinewidth": 0,
            "ticks": ""
           }
          },
          "colorscale": {
           "diverging": [
            [
             0,
             "#8e0152"
            ],
            [
             0.1,
             "#c51b7d"
            ],
            [
             0.2,
             "#de77ae"
            ],
            [
             0.3,
             "#f1b6da"
            ],
            [
             0.4,
             "#fde0ef"
            ],
            [
             0.5,
             "#f7f7f7"
            ],
            [
             0.6,
             "#e6f5d0"
            ],
            [
             0.7,
             "#b8e186"
            ],
            [
             0.8,
             "#7fbc41"
            ],
            [
             0.9,
             "#4d9221"
            ],
            [
             1,
             "#276419"
            ]
           ],
           "sequential": [
            [
             0,
             "#0d0887"
            ],
            [
             0.1111111111111111,
             "#46039f"
            ],
            [
             0.2222222222222222,
             "#7201a8"
            ],
            [
             0.3333333333333333,
             "#9c179e"
            ],
            [
             0.4444444444444444,
             "#bd3786"
            ],
            [
             0.5555555555555556,
             "#d8576b"
            ],
            [
             0.6666666666666666,
             "#ed7953"
            ],
            [
             0.7777777777777778,
             "#fb9f3a"
            ],
            [
             0.8888888888888888,
             "#fdca26"
            ],
            [
             1,
             "#f0f921"
            ]
           ],
           "sequentialminus": [
            [
             0,
             "#0d0887"
            ],
            [
             0.1111111111111111,
             "#46039f"
            ],
            [
             0.2222222222222222,
             "#7201a8"
            ],
            [
             0.3333333333333333,
             "#9c179e"
            ],
            [
             0.4444444444444444,
             "#bd3786"
            ],
            [
             0.5555555555555556,
             "#d8576b"
            ],
            [
             0.6666666666666666,
             "#ed7953"
            ],
            [
             0.7777777777777778,
             "#fb9f3a"
            ],
            [
             0.8888888888888888,
             "#fdca26"
            ],
            [
             1,
             "#f0f921"
            ]
           ]
          },
          "colorway": [
           "#636efa",
           "#EF553B",
           "#00cc96",
           "#ab63fa",
           "#FFA15A",
           "#19d3f3",
           "#FF6692",
           "#B6E880",
           "#FF97FF",
           "#FECB52"
          ],
          "font": {
           "color": "#2a3f5f"
          },
          "geo": {
           "bgcolor": "white",
           "lakecolor": "white",
           "landcolor": "#E5ECF6",
           "showlakes": true,
           "showland": true,
           "subunitcolor": "white"
          },
          "hoverlabel": {
           "align": "left"
          },
          "hovermode": "closest",
          "mapbox": {
           "style": "light"
          },
          "paper_bgcolor": "white",
          "plot_bgcolor": "#E5ECF6",
          "polar": {
           "angularaxis": {
            "gridcolor": "white",
            "linecolor": "white",
            "ticks": ""
           },
           "bgcolor": "#E5ECF6",
           "radialaxis": {
            "gridcolor": "white",
            "linecolor": "white",
            "ticks": ""
           }
          },
          "scene": {
           "xaxis": {
            "backgroundcolor": "#E5ECF6",
            "gridcolor": "white",
            "gridwidth": 2,
            "linecolor": "white",
            "showbackground": true,
            "ticks": "",
            "zerolinecolor": "white"
           },
           "yaxis": {
            "backgroundcolor": "#E5ECF6",
            "gridcolor": "white",
            "gridwidth": 2,
            "linecolor": "white",
            "showbackground": true,
            "ticks": "",
            "zerolinecolor": "white"
           },
           "zaxis": {
            "backgroundcolor": "#E5ECF6",
            "gridcolor": "white",
            "gridwidth": 2,
            "linecolor": "white",
            "showbackground": true,
            "ticks": "",
            "zerolinecolor": "white"
           }
          },
          "shapedefaults": {
           "line": {
            "color": "#2a3f5f"
           }
          },
          "ternary": {
           "aaxis": {
            "gridcolor": "white",
            "linecolor": "white",
            "ticks": ""
           },
           "baxis": {
            "gridcolor": "white",
            "linecolor": "white",
            "ticks": ""
           },
           "bgcolor": "#E5ECF6",
           "caxis": {
            "gridcolor": "white",
            "linecolor": "white",
            "ticks": ""
           }
          },
          "title": {
           "x": 0.05
          },
          "xaxis": {
           "automargin": true,
           "gridcolor": "white",
           "linecolor": "white",
           "ticks": "",
           "title": {
            "standoff": 15
           },
           "zerolinecolor": "white",
           "zerolinewidth": 2
          },
          "yaxis": {
           "automargin": true,
           "gridcolor": "white",
           "linecolor": "white",
           "ticks": "",
           "title": {
            "standoff": 15
           },
           "zerolinecolor": "white",
           "zerolinewidth": 2
          }
         }
        },
        "title": {
         "text": "SD-1090 HI Chem 23 SST"
        },
        "width": 1400,
        "xaxis": {
         "anchor": "y",
         "domain": [
          0,
          1
         ],
         "title": {
          "text": "time"
         }
        },
        "yaxis": {
         "anchor": "x",
         "domain": [
          0,
          1
         ],
         "title": {
          "text": "TEMP_SBE37_MEAN"
         }
        }
       }
      }
     },
     "metadata": {},
     "output_type": "display_data"
    }
   ],
   "source": [
    "px.scatter(\n",
    "    hi1090qc, \n",
    "    x=\"time\", y=\"TEMP_SBE37_MEAN\", \n",
    "    color='SST QC Flag: Test 2', \n",
    "    width = 1400, height = 800, \n",
    "    color_discrete_sequence=[\"green\", \"gray\", \"goldenrod\", \"red\", \"black\"], \n",
    "    category_orders={\"SST QC Flag: Test 2\": [\"GOOD\", \"UNKNKOWN\", \"SUSPECT\", \"FAIL\", \"MISSING\"]},\n",
    "    title='SD-1090 HI Chem 23 SST'\n",
    "    )"
   ]
  },
  {
   "cell_type": "markdown",
   "metadata": {},
   "source": [
    "#### Test 3 - Temperature"
   ]
  },
  {
   "cell_type": "code",
   "execution_count": 30,
   "metadata": {},
   "outputs": [
    {
     "data": {
      "application/vnd.plotly.v1+json": {
       "config": {
        "plotlyServerURL": "https://plot.ly"
       },
       "data": [
        {
         "hovertemplate": "SST QC Flag: Test 3=GOOD<br>time=%{x}<br>TEMP_SBE37_MEAN=%{y}<extra></extra>",
         "legendgroup": "GOOD",
         "marker": {
          "color": "green",
          "symbol": "circle"
         },
         "mode": "markers",
         "name": "GOOD",
         "orientation": "v",
         "showlegend": true,
         "type": "scatter",
         "x": [
          "2023-04-16 00:00:00",
          "2023-04-16 00:01:00",
          "2023-04-16 00:05:00",
          "2023-04-16 00:10:00",
          "2023-04-16 00:11:00",
          "2023-04-16 00:15:00",
          "2023-04-16 00:20:00",
          "2023-04-16 00:21:00",
          "2023-04-16 00:25:00",
          "2023-04-16 00:30:00",
          "2023-04-16 00:31:00",
          "2023-04-16 00:35:00",
          "2023-04-16 00:40:00",
          "2023-04-16 00:41:00",
          "2023-04-16 00:45:00",
          "2023-04-16 00:50:00",
          "2023-04-16 00:51:00",
          "2023-04-16 00:55:00",
          "2023-04-16 01:00:00",
          "2023-04-16 01:01:00",
          "2023-04-16 01:05:00",
          "2023-04-16 01:10:00",
          "2023-04-16 01:11:00",
          "2023-04-16 01:15:00",
          "2023-04-16 01:20:00",
          "2023-04-16 01:21:00",
          "2023-04-16 01:25:00",
          "2023-04-16 01:30:00",
          "2023-04-16 01:31:00",
          "2023-04-16 01:35:00",
          "2023-04-16 01:40:00",
          "2023-04-16 01:41:00",
          "2023-04-16 01:45:00",
          "2023-04-16 01:50:00",
          "2023-04-16 01:51:00",
          "2023-04-16 01:55:00",
          "2023-04-16 02:00:00",
          "2023-04-16 02:01:00",
          "2023-04-16 02:05:00",
          "2023-04-16 02:10:00",
          "2023-04-16 02:11:00",
          "2023-04-16 02:15:00",
          "2023-04-16 02:20:00",
          "2023-04-16 02:21:00",
          "2023-04-16 02:25:00",
          "2023-04-16 02:30:00",
          "2023-04-16 02:31:00",
          "2023-04-16 02:35:00",
          "2023-04-16 02:40:00",
          "2023-04-16 02:41:00",
          "2023-04-16 02:45:00",
          "2023-04-16 02:50:00",
          "2023-04-16 02:51:00",
          "2023-04-16 02:55:00",
          "2023-04-16 03:00:00",
          "2023-04-16 03:01:00",
          "2023-04-16 03:05:00",
          "2023-04-16 03:10:00",
          "2023-04-16 03:11:00",
          "2023-04-16 03:15:00",
          "2023-04-16 03:20:00",
          "2023-04-16 03:21:00",
          "2023-04-16 03:25:00",
          "2023-04-16 03:30:00",
          "2023-04-16 03:31:00",
          "2023-04-16 03:35:00",
          "2023-04-16 03:40:00",
          "2023-04-16 03:41:00",
          "2023-04-16 03:45:00",
          "2023-04-16 03:50:00",
          "2023-04-16 03:51:00",
          "2023-04-16 03:55:00",
          "2023-04-16 04:00:00",
          "2023-04-16 04:01:00",
          "2023-04-16 04:05:00",
          "2023-04-16 04:10:00",
          "2023-04-16 04:11:00",
          "2023-04-16 04:15:00",
          "2023-04-16 04:20:00",
          "2023-04-16 04:21:00",
          "2023-04-16 04:25:00",
          "2023-04-16 04:30:00",
          "2023-04-16 04:31:00",
          "2023-04-16 04:35:00",
          "2023-04-16 04:40:00",
          "2023-04-16 04:41:00",
          "2023-04-16 04:45:00",
          "2023-04-16 04:50:00",
          "2023-04-16 04:51:00",
          "2023-04-16 04:55:00",
          "2023-04-16 05:00:00",
          "2023-04-16 05:01:00",
          "2023-04-16 05:05:00",
          "2023-04-16 05:10:00",
          "2023-04-16 05:15:00",
          "2023-04-16 05:25:00",
          "2023-04-16 05:30:00",
          "2023-04-16 05:35:00",
          "2023-04-16 05:40:00",
          "2023-04-16 05:41:00",
          "2023-04-16 05:45:00",
          "2023-04-16 05:50:00",
          "2023-04-16 05:51:00",
          "2023-04-16 05:55:00",
          "2023-04-16 06:00:00",
          "2023-04-16 06:01:00",
          "2023-04-16 06:05:00",
          "2023-04-16 06:10:00",
          "2023-04-16 06:11:00",
          "2023-04-16 06:15:00",
          "2023-04-16 06:20:00",
          "2023-04-16 06:21:00",
          "2023-04-16 06:25:00",
          "2023-04-16 06:30:00",
          "2023-04-16 06:31:00",
          "2023-04-16 06:35:00",
          "2023-04-16 06:40:00",
          "2023-04-16 06:41:00",
          "2023-04-16 06:45:00",
          "2023-04-16 06:50:00",
          "2023-04-16 06:51:00",
          "2023-04-16 06:55:00",
          "2023-04-16 07:00:00",
          "2023-04-16 07:05:00",
          "2023-04-16 07:10:00",
          "2023-04-16 07:11:00",
          "2023-04-16 07:15:00",
          "2023-04-16 07:20:00",
          "2023-04-16 07:21:00",
          "2023-04-16 07:25:00",
          "2023-04-16 07:30:00",
          "2023-04-16 07:31:00",
          "2023-04-16 07:35:00",
          "2023-04-16 07:40:00",
          "2023-04-16 07:41:00",
          "2023-04-16 07:45:00",
          "2023-04-16 07:50:00",
          "2023-04-16 07:51:00",
          "2023-04-16 07:55:00",
          "2023-04-16 08:00:00",
          "2023-04-16 08:01:00",
          "2023-04-16 08:05:00",
          "2023-04-16 08:10:00",
          "2023-04-16 08:11:00",
          "2023-04-16 08:15:00",
          "2023-04-16 08:20:00",
          "2023-04-16 08:21:00",
          "2023-04-16 08:25:00",
          "2023-04-16 08:30:00",
          "2023-04-16 08:31:00",
          "2023-04-16 08:35:00",
          "2023-04-16 08:40:00",
          "2023-04-16 08:41:00",
          "2023-04-16 08:45:00",
          "2023-04-16 08:50:00",
          "2023-04-16 08:51:00",
          "2023-04-16 08:55:00",
          "2023-04-16 09:00:00",
          "2023-04-16 09:01:00",
          "2023-04-16 09:05:00",
          "2023-04-16 09:10:00",
          "2023-04-16 09:11:00",
          "2023-04-16 09:15:00",
          "2023-04-16 09:20:00",
          "2023-04-16 09:21:00",
          "2023-04-16 09:25:00",
          "2023-04-16 09:30:00",
          "2023-04-16 09:31:00",
          "2023-04-16 09:35:00",
          "2023-04-16 09:40:00",
          "2023-04-16 09:41:00",
          "2023-04-16 09:45:00",
          "2023-04-16 09:50:00",
          "2023-04-16 09:51:00",
          "2023-04-16 09:55:00",
          "2023-04-16 10:00:00",
          "2023-04-16 10:01:00",
          "2023-04-16 10:05:00",
          "2023-04-16 10:10:00",
          "2023-04-16 10:11:00",
          "2023-04-16 10:15:00",
          "2023-04-16 10:20:00",
          "2023-04-16 10:21:00",
          "2023-04-16 10:25:00",
          "2023-04-16 10:30:00",
          "2023-04-16 10:31:00",
          "2023-04-16 10:35:00",
          "2023-04-16 10:40:00",
          "2023-04-16 10:41:00",
          "2023-04-16 10:45:00",
          "2023-04-16 10:50:00",
          "2023-04-16 10:51:00",
          "2023-04-16 11:05:00",
          "2023-04-16 11:10:00",
          "2023-04-16 11:11:00",
          "2023-04-16 11:15:00",
          "2023-04-16 11:20:00",
          "2023-04-16 11:21:00",
          "2023-04-16 11:25:00",
          "2023-04-16 11:30:00",
          "2023-04-16 11:31:00",
          "2023-04-16 11:35:00",
          "2023-04-16 11:40:00",
          "2023-04-16 11:41:00",
          "2023-04-16 11:45:00",
          "2023-04-16 11:50:00",
          "2023-04-16 11:51:00",
          "2023-04-16 11:55:00",
          "2023-04-16 12:00:00",
          "2023-04-16 12:01:00",
          "2023-04-16 12:05:00",
          "2023-04-16 12:10:00",
          "2023-04-16 12:11:00",
          "2023-04-16 12:15:00",
          "2023-04-16 12:20:00",
          "2023-04-16 12:21:00",
          "2023-04-16 12:25:00",
          "2023-04-16 12:30:00",
          "2023-04-16 12:31:00",
          "2023-04-16 12:35:00",
          "2023-04-16 12:40:00",
          "2023-04-16 12:41:00",
          "2023-04-16 12:45:00",
          "2023-04-16 12:50:00",
          "2023-04-16 12:51:00",
          "2023-04-16 12:55:00",
          "2023-04-16 13:00:00",
          "2023-04-16 13:01:00",
          "2023-04-16 13:05:00",
          "2023-04-16 13:10:00",
          "2023-04-16 13:11:00",
          "2023-04-16 13:15:00",
          "2023-04-16 13:20:00",
          "2023-04-16 13:21:00",
          "2023-04-16 13:25:00",
          "2023-04-16 13:30:00",
          "2023-04-16 13:31:00",
          "2023-04-16 13:35:00",
          "2023-04-16 13:40:00",
          "2023-04-16 13:41:00",
          "2023-04-16 13:45:00",
          "2023-04-16 13:50:00",
          "2023-04-16 13:51:00",
          "2023-04-16 13:55:00",
          "2023-04-16 14:00:00",
          "2023-04-16 14:01:00",
          "2023-04-16 14:05:00",
          "2023-04-16 14:10:00",
          "2023-04-16 14:11:00",
          "2023-04-16 14:15:00",
          "2023-04-16 14:20:00",
          "2023-04-16 14:21:00",
          "2023-04-16 14:25:00",
          "2023-04-16 14:30:00",
          "2023-04-16 14:31:00",
          "2023-04-16 14:35:00",
          "2023-04-16 14:40:00",
          "2023-04-16 14:41:00",
          "2023-04-16 14:45:00",
          "2023-04-16 14:50:00",
          "2023-04-16 14:51:00",
          "2023-04-16 14:55:00",
          "2023-04-16 15:00:00",
          "2023-04-16 15:01:00",
          "2023-04-16 15:05:00",
          "2023-04-16 15:10:00",
          "2023-04-16 15:11:00",
          "2023-04-16 15:15:00",
          "2023-04-16 15:20:00",
          "2023-04-16 15:21:00",
          "2023-04-16 15:25:00",
          "2023-04-16 15:30:00",
          "2023-04-16 15:31:00",
          "2023-04-16 15:35:00",
          "2023-04-16 15:40:00",
          "2023-04-16 15:41:00",
          "2023-04-16 15:45:00",
          "2023-04-16 15:50:00",
          "2023-04-16 15:51:00",
          "2023-04-16 15:55:00",
          "2023-04-16 16:00:00",
          "2023-04-16 16:01:00",
          "2023-04-16 16:05:00",
          "2023-04-16 16:10:00",
          "2023-04-16 16:11:00",
          "2023-04-16 16:15:00",
          "2023-04-16 16:20:00",
          "2023-04-16 16:21:00",
          "2023-04-16 16:25:00",
          "2023-04-16 16:40:00",
          "2023-04-16 16:41:00",
          "2023-04-16 16:45:00",
          "2023-04-16 16:50:00",
          "2023-04-16 16:51:00",
          "2023-04-16 16:55:00",
          "2023-04-16 17:00:00",
          "2023-04-16 17:01:00",
          "2023-04-16 17:05:00",
          "2023-04-16 17:10:00",
          "2023-04-16 17:11:00",
          "2023-04-16 17:15:00",
          "2023-04-16 17:20:00",
          "2023-04-16 17:21:00",
          "2023-04-16 17:25:00",
          "2023-04-16 17:30:00",
          "2023-04-16 17:31:00",
          "2023-04-16 17:35:00",
          "2023-04-16 17:40:00",
          "2023-04-16 17:41:00",
          "2023-04-16 17:45:00",
          "2023-04-16 17:50:00",
          "2023-04-16 17:51:00",
          "2023-04-16 17:55:00",
          "2023-04-16 18:00:00",
          "2023-04-16 18:01:00",
          "2023-04-16 18:05:00",
          "2023-04-16 18:10:00",
          "2023-04-16 18:11:00",
          "2023-04-16 18:15:00",
          "2023-04-16 18:20:00",
          "2023-04-16 18:21:00",
          "2023-04-16 18:25:00",
          "2023-04-16 18:30:00",
          "2023-04-16 18:31:00",
          "2023-04-16 18:35:00",
          "2023-04-16 18:40:00",
          "2023-04-16 18:41:00",
          "2023-04-16 18:45:00",
          "2023-04-16 18:50:00",
          "2023-04-16 18:51:00",
          "2023-04-16 18:55:00",
          "2023-04-16 19:00:00",
          "2023-04-16 19:01:00",
          "2023-04-16 19:05:00",
          "2023-04-16 19:10:00",
          "2023-04-16 19:11:00",
          "2023-04-16 19:15:00",
          "2023-04-16 19:20:00",
          "2023-04-16 19:21:00",
          "2023-04-16 19:25:00",
          "2023-04-16 19:30:00",
          "2023-04-16 19:31:00",
          "2023-04-16 19:35:00",
          "2023-04-16 19:40:00",
          "2023-04-16 19:41:00",
          "2023-04-16 19:45:00",
          "2023-04-16 19:50:00",
          "2023-04-16 19:51:00",
          "2023-04-16 19:55:00",
          "2023-04-16 20:00:00",
          "2023-04-16 20:01:00",
          "2023-04-16 20:05:00",
          "2023-04-16 20:10:00",
          "2023-04-16 20:11:00",
          "2023-04-16 20:15:00",
          "2023-04-16 20:20:00",
          "2023-04-16 20:21:00",
          "2023-04-16 20:30:00",
          "2023-04-16 20:31:00",
          "2023-04-16 20:35:00",
          "2023-04-16 20:40:00",
          "2023-04-16 20:41:00",
          "2023-04-16 20:45:00",
          "2023-04-16 20:50:00",
          "2023-04-16 20:51:00",
          "2023-04-16 20:55:00",
          "2023-04-16 21:00:00",
          "2023-04-16 21:01:00",
          "2023-04-16 21:05:00",
          "2023-04-16 21:10:00",
          "2023-04-16 21:11:00",
          "2023-04-16 21:15:00",
          "2023-04-16 21:20:00",
          "2023-04-16 21:21:00",
          "2023-04-16 21:25:00",
          "2023-04-16 21:30:00",
          "2023-04-16 21:31:00",
          "2023-04-16 21:35:00",
          "2023-04-16 21:40:00",
          "2023-04-16 21:41:00",
          "2023-04-16 21:45:00",
          "2023-04-16 21:50:00",
          "2023-04-16 21:51:00",
          "2023-04-16 21:55:00",
          "2023-04-16 22:00:00",
          "2023-04-16 22:01:00",
          "2023-04-16 22:05:00",
          "2023-04-16 22:10:00",
          "2023-04-16 22:11:00",
          "2023-04-16 22:15:00",
          "2023-04-16 22:20:00"
         ],
         "xaxis": "x",
         "y": [
          25.306,
          25.306,
          25.3116,
          25.3122,
          25.3122,
          25.3009,
          25.3166,
          25.3166,
          25.3151,
          25.3075,
          25.3075,
          25.2848,
          25.2912,
          25.2912,
          25.2722,
          25.2683,
          25.2683,
          25.262,
          25.2579,
          25.2579,
          25.2544,
          25.2579,
          25.2579,
          25.2594,
          25.251,
          25.251,
          25.2335,
          25.2282,
          25.2282,
          25.2333,
          25.2386,
          25.2386,
          25.2402,
          25.2537,
          25.2537,
          25.2678,
          25.2617,
          25.2617,
          25.2569,
          25.2621,
          25.2621,
          25.2599,
          25.2737,
          25.2737,
          25.2437,
          25.2544,
          25.2544,
          25.2385,
          25.2296,
          25.2296,
          25.2244,
          25.2155,
          25.2155,
          25.2179,
          25.2092,
          25.2092,
          25.202,
          25.2155,
          25.2155,
          25.2142,
          25.221,
          25.221,
          25.2225,
          25.2166,
          25.2166,
          25.2172,
          25.2141,
          25.2141,
          25.2018,
          25.1912,
          25.1912,
          25.1863,
          25.1826,
          25.1826,
          25.1824,
          25.1883,
          25.1883,
          25.1835,
          25.1943,
          25.1943,
          25.1977,
          25.1992,
          25.1992,
          25.1795,
          25.175,
          25.175,
          25.1716,
          25.1641,
          25.1641,
          25.1587,
          25.1532,
          25.1532,
          25.1518,
          25.1486,
          25.1663,
          25.1629,
          25.1481,
          25.1483,
          25.1476,
          25.1476,
          25.1345,
          25.1389,
          25.1389,
          25.1318,
          25.1273,
          25.1273,
          25.136,
          25.1451,
          25.1451,
          25.1642,
          25.1904,
          25.1904,
          25.1955,
          25.1979,
          25.1979,
          25.1911,
          25.1706,
          25.1706,
          25.1768,
          25.1666,
          25.1666,
          25.159,
          25.1707,
          25.1777,
          25.1767,
          25.1767,
          25.1802,
          25.1569,
          25.1569,
          25.1379,
          25.1201,
          25.1201,
          25.1167,
          25.1135,
          25.1135,
          25.0924,
          25.0886,
          25.0886,
          25.0898,
          25.0818,
          25.0818,
          25.0764,
          25.0785,
          25.0785,
          25.0719,
          25.0709,
          25.0709,
          25.06,
          25.0582,
          25.0582,
          25.0648,
          25.085,
          25.085,
          25.0866,
          25.097,
          25.097,
          25.0852,
          25.065,
          25.065,
          25.0511,
          25.0305,
          25.0305,
          25.0115,
          24.9882,
          24.9882,
          24.9797,
          24.9779,
          24.9779,
          24.9843,
          24.9918,
          24.9918,
          24.9891,
          24.9937,
          24.9937,
          25.0103,
          25.02,
          25.02,
          25.0287,
          25.0308,
          25.0308,
          25.0308,
          25.0234,
          25.0234,
          25.0245,
          25.0316,
          25.0316,
          25.0323,
          25.0279,
          25.0279,
          25.0198,
          25.0153,
          25.0153,
          24.9971,
          24.9984,
          24.9984,
          25.0047,
          25.0081,
          25.0081,
          25.0067,
          25.0124,
          25.0124,
          25.0172,
          25.0182,
          25.0182,
          25.0151,
          25.0168,
          25.0168,
          25.0176,
          25.0187,
          25.0187,
          25.0215,
          25.0219,
          25.0219,
          25.0142,
          25.019,
          25.019,
          25.0198,
          25.0241,
          25.0241,
          25.0216,
          25.0099,
          25.0099,
          25.0178,
          25.002,
          25.002,
          25.0046,
          25.0052,
          25.0052,
          25.0034,
          25.0078,
          25.0078,
          24.9998,
          24.9986,
          24.9986,
          25.0043,
          24.995,
          24.995,
          24.9975,
          24.9965,
          24.9965,
          24.9813,
          24.9809,
          24.9809,
          24.983,
          24.9761,
          24.9761,
          24.9824,
          24.9774,
          24.9774,
          24.9819,
          24.9766,
          24.9766,
          24.9787,
          24.9744,
          24.9744,
          24.9778,
          24.9669,
          24.9669,
          24.9631,
          24.9562,
          24.9562,
          24.9679,
          24.9681,
          24.9681,
          24.969,
          24.9667,
          24.9667,
          24.962,
          24.9571,
          24.9571,
          24.9506,
          24.9581,
          24.9581,
          24.961,
          24.9514,
          24.9514,
          24.9616,
          24.9632,
          24.9632,
          24.9642,
          24.9609,
          24.9609,
          24.9619,
          24.9496,
          24.9496,
          24.9656,
          24.9654,
          24.9654,
          24.9377,
          24.9306,
          24.9306,
          24.9365,
          24.9266,
          24.9266,
          24.9344,
          24.9309,
          24.9309,
          24.9309,
          24.9234,
          24.9234,
          24.9279,
          24.9302,
          24.9302,
          24.9338,
          24.9369,
          24.9369,
          24.9382,
          24.9403,
          24.9403,
          24.9469,
          24.9474,
          24.9474,
          24.9479,
          24.9545,
          24.9545,
          24.9556,
          24.9587,
          24.9587,
          24.9676,
          24.9586,
          24.9586,
          24.9654,
          24.9627,
          24.9627,
          24.9711,
          24.9643,
          24.9643,
          24.9681,
          25.0045,
          25.0045,
          24.9717,
          24.9772,
          24.9772,
          24.9932,
          24.9869,
          24.9869,
          24.9962,
          24.9921,
          24.9921,
          24.9795,
          25.0082,
          25.0082,
          24.9957,
          25.0003,
          25.0003,
          25.0219,
          25.0388,
          25.0388,
          25.019,
          25.0173,
          25.0173,
          25.0483,
          25.0669,
          25.0669,
          25.0412,
          25.0568,
          25.0568,
          25.1671,
          25.1671,
          25.0757,
          25.0478,
          25.0478,
          25.1232,
          25.0804,
          25.0804,
          25.0701,
          25.07,
          25.07,
          25.0619,
          25.0535,
          25.0535,
          25.0637,
          25.0764,
          25.0764,
          25.075,
          25.0623,
          25.0623,
          25.0735,
          25.0733,
          25.0733,
          25.0661,
          25.0893,
          25.0893,
          25.0565,
          25.0649,
          25.0649,
          25.1435,
          25.0818,
          25.0818,
          25.2493,
          25.1832
         ],
         "yaxis": "y"
        },
        {
         "hovertemplate": "SST QC Flag: Test 3=SUSPECT<br>time=%{x}<br>TEMP_SBE37_MEAN=%{y}<extra></extra>",
         "legendgroup": "SUSPECT",
         "marker": {
          "color": "goldenrod",
          "symbol": "circle"
         },
         "mode": "markers",
         "name": "SUSPECT",
         "orientation": "v",
         "showlegend": true,
         "type": "scatter",
         "x": [
          "2023-04-16 05:11:00",
          "2023-04-16 05:20:00",
          "2023-04-16 05:21:00",
          "2023-04-16 10:55:00",
          "2023-04-16 11:00:00",
          "2023-04-16 16:30:00",
          "2023-04-16 16:31:00",
          "2023-04-16 16:35:00",
          "2023-04-16 20:25:00"
         ],
         "xaxis": "x",
         "y": [
          25.1486,
          25.1597,
          25.1597,
          25.0083,
          24.9985,
          24.9331,
          24.9331,
          24.9374,
          25.0253
         ],
         "yaxis": "y"
        }
       ],
       "layout": {
        "height": 800,
        "legend": {
         "title": {
          "text": "SST QC Flag: Test 3"
         },
         "tracegroupgap": 0
        },
        "template": {
         "data": {
          "bar": [
           {
            "error_x": {
             "color": "#2a3f5f"
            },
            "error_y": {
             "color": "#2a3f5f"
            },
            "marker": {
             "line": {
              "color": "#E5ECF6",
              "width": 0.5
             },
             "pattern": {
              "fillmode": "overlay",
              "size": 10,
              "solidity": 0.2
             }
            },
            "type": "bar"
           }
          ],
          "barpolar": [
           {
            "marker": {
             "line": {
              "color": "#E5ECF6",
              "width": 0.5
             },
             "pattern": {
              "fillmode": "overlay",
              "size": 10,
              "solidity": 0.2
             }
            },
            "type": "barpolar"
           }
          ],
          "carpet": [
           {
            "aaxis": {
             "endlinecolor": "#2a3f5f",
             "gridcolor": "white",
             "linecolor": "white",
             "minorgridcolor": "white",
             "startlinecolor": "#2a3f5f"
            },
            "baxis": {
             "endlinecolor": "#2a3f5f",
             "gridcolor": "white",
             "linecolor": "white",
             "minorgridcolor": "white",
             "startlinecolor": "#2a3f5f"
            },
            "type": "carpet"
           }
          ],
          "choropleth": [
           {
            "colorbar": {
             "outlinewidth": 0,
             "ticks": ""
            },
            "type": "choropleth"
           }
          ],
          "contour": [
           {
            "colorbar": {
             "outlinewidth": 0,
             "ticks": ""
            },
            "colorscale": [
             [
              0,
              "#0d0887"
             ],
             [
              0.1111111111111111,
              "#46039f"
             ],
             [
              0.2222222222222222,
              "#7201a8"
             ],
             [
              0.3333333333333333,
              "#9c179e"
             ],
             [
              0.4444444444444444,
              "#bd3786"
             ],
             [
              0.5555555555555556,
              "#d8576b"
             ],
             [
              0.6666666666666666,
              "#ed7953"
             ],
             [
              0.7777777777777778,
              "#fb9f3a"
             ],
             [
              0.8888888888888888,
              "#fdca26"
             ],
             [
              1,
              "#f0f921"
             ]
            ],
            "type": "contour"
           }
          ],
          "contourcarpet": [
           {
            "colorbar": {
             "outlinewidth": 0,
             "ticks": ""
            },
            "type": "contourcarpet"
           }
          ],
          "heatmap": [
           {
            "colorbar": {
             "outlinewidth": 0,
             "ticks": ""
            },
            "colorscale": [
             [
              0,
              "#0d0887"
             ],
             [
              0.1111111111111111,
              "#46039f"
             ],
             [
              0.2222222222222222,
              "#7201a8"
             ],
             [
              0.3333333333333333,
              "#9c179e"
             ],
             [
              0.4444444444444444,
              "#bd3786"
             ],
             [
              0.5555555555555556,
              "#d8576b"
             ],
             [
              0.6666666666666666,
              "#ed7953"
             ],
             [
              0.7777777777777778,
              "#fb9f3a"
             ],
             [
              0.8888888888888888,
              "#fdca26"
             ],
             [
              1,
              "#f0f921"
             ]
            ],
            "type": "heatmap"
           }
          ],
          "heatmapgl": [
           {
            "colorbar": {
             "outlinewidth": 0,
             "ticks": ""
            },
            "colorscale": [
             [
              0,
              "#0d0887"
             ],
             [
              0.1111111111111111,
              "#46039f"
             ],
             [
              0.2222222222222222,
              "#7201a8"
             ],
             [
              0.3333333333333333,
              "#9c179e"
             ],
             [
              0.4444444444444444,
              "#bd3786"
             ],
             [
              0.5555555555555556,
              "#d8576b"
             ],
             [
              0.6666666666666666,
              "#ed7953"
             ],
             [
              0.7777777777777778,
              "#fb9f3a"
             ],
             [
              0.8888888888888888,
              "#fdca26"
             ],
             [
              1,
              "#f0f921"
             ]
            ],
            "type": "heatmapgl"
           }
          ],
          "histogram": [
           {
            "marker": {
             "pattern": {
              "fillmode": "overlay",
              "size": 10,
              "solidity": 0.2
             }
            },
            "type": "histogram"
           }
          ],
          "histogram2d": [
           {
            "colorbar": {
             "outlinewidth": 0,
             "ticks": ""
            },
            "colorscale": [
             [
              0,
              "#0d0887"
             ],
             [
              0.1111111111111111,
              "#46039f"
             ],
             [
              0.2222222222222222,
              "#7201a8"
             ],
             [
              0.3333333333333333,
              "#9c179e"
             ],
             [
              0.4444444444444444,
              "#bd3786"
             ],
             [
              0.5555555555555556,
              "#d8576b"
             ],
             [
              0.6666666666666666,
              "#ed7953"
             ],
             [
              0.7777777777777778,
              "#fb9f3a"
             ],
             [
              0.8888888888888888,
              "#fdca26"
             ],
             [
              1,
              "#f0f921"
             ]
            ],
            "type": "histogram2d"
           }
          ],
          "histogram2dcontour": [
           {
            "colorbar": {
             "outlinewidth": 0,
             "ticks": ""
            },
            "colorscale": [
             [
              0,
              "#0d0887"
             ],
             [
              0.1111111111111111,
              "#46039f"
             ],
             [
              0.2222222222222222,
              "#7201a8"
             ],
             [
              0.3333333333333333,
              "#9c179e"
             ],
             [
              0.4444444444444444,
              "#bd3786"
             ],
             [
              0.5555555555555556,
              "#d8576b"
             ],
             [
              0.6666666666666666,
              "#ed7953"
             ],
             [
              0.7777777777777778,
              "#fb9f3a"
             ],
             [
              0.8888888888888888,
              "#fdca26"
             ],
             [
              1,
              "#f0f921"
             ]
            ],
            "type": "histogram2dcontour"
           }
          ],
          "mesh3d": [
           {
            "colorbar": {
             "outlinewidth": 0,
             "ticks": ""
            },
            "type": "mesh3d"
           }
          ],
          "parcoords": [
           {
            "line": {
             "colorbar": {
              "outlinewidth": 0,
              "ticks": ""
             }
            },
            "type": "parcoords"
           }
          ],
          "pie": [
           {
            "automargin": true,
            "type": "pie"
           }
          ],
          "scatter": [
           {
            "fillpattern": {
             "fillmode": "overlay",
             "size": 10,
             "solidity": 0.2
            },
            "type": "scatter"
           }
          ],
          "scatter3d": [
           {
            "line": {
             "colorbar": {
              "outlinewidth": 0,
              "ticks": ""
             }
            },
            "marker": {
             "colorbar": {
              "outlinewidth": 0,
              "ticks": ""
             }
            },
            "type": "scatter3d"
           }
          ],
          "scattercarpet": [
           {
            "marker": {
             "colorbar": {
              "outlinewidth": 0,
              "ticks": ""
             }
            },
            "type": "scattercarpet"
           }
          ],
          "scattergeo": [
           {
            "marker": {
             "colorbar": {
              "outlinewidth": 0,
              "ticks": ""
             }
            },
            "type": "scattergeo"
           }
          ],
          "scattergl": [
           {
            "marker": {
             "colorbar": {
              "outlinewidth": 0,
              "ticks": ""
             }
            },
            "type": "scattergl"
           }
          ],
          "scattermapbox": [
           {
            "marker": {
             "colorbar": {
              "outlinewidth": 0,
              "ticks": ""
             }
            },
            "type": "scattermapbox"
           }
          ],
          "scatterpolar": [
           {
            "marker": {
             "colorbar": {
              "outlinewidth": 0,
              "ticks": ""
             }
            },
            "type": "scatterpolar"
           }
          ],
          "scatterpolargl": [
           {
            "marker": {
             "colorbar": {
              "outlinewidth": 0,
              "ticks": ""
             }
            },
            "type": "scatterpolargl"
           }
          ],
          "scatterternary": [
           {
            "marker": {
             "colorbar": {
              "outlinewidth": 0,
              "ticks": ""
             }
            },
            "type": "scatterternary"
           }
          ],
          "surface": [
           {
            "colorbar": {
             "outlinewidth": 0,
             "ticks": ""
            },
            "colorscale": [
             [
              0,
              "#0d0887"
             ],
             [
              0.1111111111111111,
              "#46039f"
             ],
             [
              0.2222222222222222,
              "#7201a8"
             ],
             [
              0.3333333333333333,
              "#9c179e"
             ],
             [
              0.4444444444444444,
              "#bd3786"
             ],
             [
              0.5555555555555556,
              "#d8576b"
             ],
             [
              0.6666666666666666,
              "#ed7953"
             ],
             [
              0.7777777777777778,
              "#fb9f3a"
             ],
             [
              0.8888888888888888,
              "#fdca26"
             ],
             [
              1,
              "#f0f921"
             ]
            ],
            "type": "surface"
           }
          ],
          "table": [
           {
            "cells": {
             "fill": {
              "color": "#EBF0F8"
             },
             "line": {
              "color": "white"
             }
            },
            "header": {
             "fill": {
              "color": "#C8D4E3"
             },
             "line": {
              "color": "white"
             }
            },
            "type": "table"
           }
          ]
         },
         "layout": {
          "annotationdefaults": {
           "arrowcolor": "#2a3f5f",
           "arrowhead": 0,
           "arrowwidth": 1
          },
          "autotypenumbers": "strict",
          "coloraxis": {
           "colorbar": {
            "outlinewidth": 0,
            "ticks": ""
           }
          },
          "colorscale": {
           "diverging": [
            [
             0,
             "#8e0152"
            ],
            [
             0.1,
             "#c51b7d"
            ],
            [
             0.2,
             "#de77ae"
            ],
            [
             0.3,
             "#f1b6da"
            ],
            [
             0.4,
             "#fde0ef"
            ],
            [
             0.5,
             "#f7f7f7"
            ],
            [
             0.6,
             "#e6f5d0"
            ],
            [
             0.7,
             "#b8e186"
            ],
            [
             0.8,
             "#7fbc41"
            ],
            [
             0.9,
             "#4d9221"
            ],
            [
             1,
             "#276419"
            ]
           ],
           "sequential": [
            [
             0,
             "#0d0887"
            ],
            [
             0.1111111111111111,
             "#46039f"
            ],
            [
             0.2222222222222222,
             "#7201a8"
            ],
            [
             0.3333333333333333,
             "#9c179e"
            ],
            [
             0.4444444444444444,
             "#bd3786"
            ],
            [
             0.5555555555555556,
             "#d8576b"
            ],
            [
             0.6666666666666666,
             "#ed7953"
            ],
            [
             0.7777777777777778,
             "#fb9f3a"
            ],
            [
             0.8888888888888888,
             "#fdca26"
            ],
            [
             1,
             "#f0f921"
            ]
           ],
           "sequentialminus": [
            [
             0,
             "#0d0887"
            ],
            [
             0.1111111111111111,
             "#46039f"
            ],
            [
             0.2222222222222222,
             "#7201a8"
            ],
            [
             0.3333333333333333,
             "#9c179e"
            ],
            [
             0.4444444444444444,
             "#bd3786"
            ],
            [
             0.5555555555555556,
             "#d8576b"
            ],
            [
             0.6666666666666666,
             "#ed7953"
            ],
            [
             0.7777777777777778,
             "#fb9f3a"
            ],
            [
             0.8888888888888888,
             "#fdca26"
            ],
            [
             1,
             "#f0f921"
            ]
           ]
          },
          "colorway": [
           "#636efa",
           "#EF553B",
           "#00cc96",
           "#ab63fa",
           "#FFA15A",
           "#19d3f3",
           "#FF6692",
           "#B6E880",
           "#FF97FF",
           "#FECB52"
          ],
          "font": {
           "color": "#2a3f5f"
          },
          "geo": {
           "bgcolor": "white",
           "lakecolor": "white",
           "landcolor": "#E5ECF6",
           "showlakes": true,
           "showland": true,
           "subunitcolor": "white"
          },
          "hoverlabel": {
           "align": "left"
          },
          "hovermode": "closest",
          "mapbox": {
           "style": "light"
          },
          "paper_bgcolor": "white",
          "plot_bgcolor": "#E5ECF6",
          "polar": {
           "angularaxis": {
            "gridcolor": "white",
            "linecolor": "white",
            "ticks": ""
           },
           "bgcolor": "#E5ECF6",
           "radialaxis": {
            "gridcolor": "white",
            "linecolor": "white",
            "ticks": ""
           }
          },
          "scene": {
           "xaxis": {
            "backgroundcolor": "#E5ECF6",
            "gridcolor": "white",
            "gridwidth": 2,
            "linecolor": "white",
            "showbackground": true,
            "ticks": "",
            "zerolinecolor": "white"
           },
           "yaxis": {
            "backgroundcolor": "#E5ECF6",
            "gridcolor": "white",
            "gridwidth": 2,
            "linecolor": "white",
            "showbackground": true,
            "ticks": "",
            "zerolinecolor": "white"
           },
           "zaxis": {
            "backgroundcolor": "#E5ECF6",
            "gridcolor": "white",
            "gridwidth": 2,
            "linecolor": "white",
            "showbackground": true,
            "ticks": "",
            "zerolinecolor": "white"
           }
          },
          "shapedefaults": {
           "line": {
            "color": "#2a3f5f"
           }
          },
          "ternary": {
           "aaxis": {
            "gridcolor": "white",
            "linecolor": "white",
            "ticks": ""
           },
           "baxis": {
            "gridcolor": "white",
            "linecolor": "white",
            "ticks": ""
           },
           "bgcolor": "#E5ECF6",
           "caxis": {
            "gridcolor": "white",
            "linecolor": "white",
            "ticks": ""
           }
          },
          "title": {
           "x": 0.05
          },
          "xaxis": {
           "automargin": true,
           "gridcolor": "white",
           "linecolor": "white",
           "ticks": "",
           "title": {
            "standoff": 15
           },
           "zerolinecolor": "white",
           "zerolinewidth": 2
          },
          "yaxis": {
           "automargin": true,
           "gridcolor": "white",
           "linecolor": "white",
           "ticks": "",
           "title": {
            "standoff": 15
           },
           "zerolinecolor": "white",
           "zerolinewidth": 2
          }
         }
        },
        "title": {
         "text": "SD-1090 HI Chem 23 SST"
        },
        "width": 1400,
        "xaxis": {
         "anchor": "y",
         "domain": [
          0,
          1
         ],
         "title": {
          "text": "time"
         }
        },
        "yaxis": {
         "anchor": "x",
         "domain": [
          0,
          1
         ],
         "title": {
          "text": "TEMP_SBE37_MEAN"
         }
        }
       }
      }
     },
     "metadata": {},
     "output_type": "display_data"
    }
   ],
   "source": [
    "px.scatter(\n",
    "    hi1090qc, \n",
    "    x=\"time\", y=\"TEMP_SBE37_MEAN\", \n",
    "    color='SST QC Flag: Test 3', \n",
    "    width = 1400, height = 800, \n",
    "    color_discrete_sequence=[\"green\", \"gray\", \"goldenrod\", \"red\", \"black\"], \n",
    "    category_orders={\"SST QC Flag: Test 3\": [\"GOOD\", \"UNKNKOWN\", \"SUSPECT\", \"FAIL\", \"MISSING\"]},\n",
    "    title='SD-1090 HI Chem 23 SST'\n",
    "    )"
   ]
  },
  {
   "cell_type": "markdown",
   "metadata": {},
   "source": [
    "#### Test 3 - Salinity: Check for Flag Similarity\n",
    "\n",
    "Assuming we're happy with the Test 3 parameters, do we see a correspondence between correlated variables (as we should)?\n",
    ">\n",
    "> __Note:__ Double clicking the flag in the key to the right of the plot will isolate those points, making it easier to compare the plots."
   ]
  },
  {
   "cell_type": "code",
   "execution_count": 38,
   "metadata": {},
   "outputs": [
    {
     "data": {
      "application/vnd.plotly.v1+json": {
       "config": {
        "plotlyServerURL": "https://plot.ly"
       },
       "data": [
        {
         "hovertemplate": "SSS QC Flag: Test 3=GOOD<br>time=%{x}<br>SAL_SBE37_MEAN=%{y}<extra></extra>",
         "legendgroup": "GOOD",
         "marker": {
          "color": "green",
          "symbol": "circle"
         },
         "mode": "markers",
         "name": "GOOD",
         "orientation": "v",
         "showlegend": true,
         "type": "scatter",
         "x": [
          "2023-04-16 00:10:00",
          "2023-04-16 00:11:00",
          "2023-04-16 00:15:00",
          "2023-04-16 00:20:00",
          "2023-04-16 00:21:00",
          "2023-04-16 00:25:00",
          "2023-04-16 00:30:00",
          "2023-04-16 00:31:00",
          "2023-04-16 00:35:00",
          "2023-04-16 00:40:00",
          "2023-04-16 00:41:00",
          "2023-04-16 00:45:00",
          "2023-04-16 00:50:00",
          "2023-04-16 00:51:00",
          "2023-04-16 00:55:00",
          "2023-04-16 01:00:00",
          "2023-04-16 01:01:00",
          "2023-04-16 01:05:00",
          "2023-04-16 01:10:00",
          "2023-04-16 01:11:00",
          "2023-04-16 01:15:00",
          "2023-04-16 01:20:00",
          "2023-04-16 01:21:00",
          "2023-04-16 01:25:00",
          "2023-04-16 01:30:00",
          "2023-04-16 01:31:00",
          "2023-04-16 01:35:00",
          "2023-04-16 01:40:00",
          "2023-04-16 01:41:00",
          "2023-04-16 01:45:00",
          "2023-04-16 01:50:00",
          "2023-04-16 01:51:00",
          "2023-04-16 01:55:00",
          "2023-04-16 02:00:00",
          "2023-04-16 02:01:00",
          "2023-04-16 02:05:00",
          "2023-04-16 02:10:00",
          "2023-04-16 02:11:00",
          "2023-04-16 02:15:00",
          "2023-04-16 02:20:00",
          "2023-04-16 02:21:00",
          "2023-04-16 02:25:00",
          "2023-04-16 02:30:00",
          "2023-04-16 02:31:00",
          "2023-04-16 02:35:00",
          "2023-04-16 02:40:00",
          "2023-04-16 02:41:00",
          "2023-04-16 02:45:00",
          "2023-04-16 02:50:00",
          "2023-04-16 02:51:00",
          "2023-04-16 02:55:00",
          "2023-04-16 03:00:00",
          "2023-04-16 03:01:00",
          "2023-04-16 03:05:00",
          "2023-04-16 03:10:00",
          "2023-04-16 03:11:00",
          "2023-04-16 03:15:00",
          "2023-04-16 03:20:00",
          "2023-04-16 03:21:00",
          "2023-04-16 03:25:00",
          "2023-04-16 03:30:00",
          "2023-04-16 03:31:00",
          "2023-04-16 03:35:00",
          "2023-04-16 03:40:00",
          "2023-04-16 03:41:00",
          "2023-04-16 03:45:00",
          "2023-04-16 03:50:00",
          "2023-04-16 03:51:00",
          "2023-04-16 03:55:00",
          "2023-04-16 04:00:00",
          "2023-04-16 04:01:00",
          "2023-04-16 04:05:00",
          "2023-04-16 04:10:00",
          "2023-04-16 04:11:00",
          "2023-04-16 04:15:00",
          "2023-04-16 04:20:00",
          "2023-04-16 04:21:00",
          "2023-04-16 04:30:00",
          "2023-04-16 04:31:00",
          "2023-04-16 04:35:00",
          "2023-04-16 04:40:00",
          "2023-04-16 04:41:00",
          "2023-04-16 04:45:00",
          "2023-04-16 04:50:00",
          "2023-04-16 04:51:00",
          "2023-04-16 04:55:00",
          "2023-04-16 05:00:00",
          "2023-04-16 05:01:00",
          "2023-04-16 05:05:00",
          "2023-04-16 05:10:00",
          "2023-04-16 05:11:00",
          "2023-04-16 05:15:00",
          "2023-04-16 05:20:00",
          "2023-04-16 05:21:00",
          "2023-04-16 05:25:00",
          "2023-04-16 05:35:00",
          "2023-04-16 05:40:00",
          "2023-04-16 05:41:00",
          "2023-04-16 05:45:00",
          "2023-04-16 05:50:00",
          "2023-04-16 05:51:00",
          "2023-04-16 05:55:00",
          "2023-04-16 06:00:00",
          "2023-04-16 06:01:00",
          "2023-04-16 06:05:00",
          "2023-04-16 06:10:00",
          "2023-04-16 06:11:00",
          "2023-04-16 06:15:00",
          "2023-04-16 06:20:00",
          "2023-04-16 06:21:00",
          "2023-04-16 06:25:00",
          "2023-04-16 06:30:00",
          "2023-04-16 06:31:00",
          "2023-04-16 06:35:00",
          "2023-04-16 06:40:00",
          "2023-04-16 06:41:00",
          "2023-04-16 06:45:00",
          "2023-04-16 06:50:00",
          "2023-04-16 06:51:00",
          "2023-04-16 06:55:00",
          "2023-04-16 07:00:00",
          "2023-04-16 07:05:00",
          "2023-04-16 07:10:00",
          "2023-04-16 07:11:00",
          "2023-04-16 07:15:00",
          "2023-04-16 07:20:00",
          "2023-04-16 07:21:00",
          "2023-04-16 07:25:00",
          "2023-04-16 07:30:00",
          "2023-04-16 07:31:00",
          "2023-04-16 07:35:00",
          "2023-04-16 07:40:00",
          "2023-04-16 07:41:00",
          "2023-04-16 07:45:00",
          "2023-04-16 07:50:00",
          "2023-04-16 07:51:00",
          "2023-04-16 07:55:00",
          "2023-04-16 08:00:00",
          "2023-04-16 08:01:00",
          "2023-04-16 08:05:00",
          "2023-04-16 08:10:00",
          "2023-04-16 08:11:00",
          "2023-04-16 08:15:00",
          "2023-04-16 08:20:00",
          "2023-04-16 08:21:00",
          "2023-04-16 08:25:00",
          "2023-04-16 08:30:00",
          "2023-04-16 08:31:00",
          "2023-04-16 08:35:00",
          "2023-04-16 08:40:00",
          "2023-04-16 08:41:00",
          "2023-04-16 08:45:00",
          "2023-04-16 08:50:00",
          "2023-04-16 08:51:00",
          "2023-04-16 08:55:00",
          "2023-04-16 09:00:00",
          "2023-04-16 09:01:00",
          "2023-04-16 09:05:00",
          "2023-04-16 09:10:00",
          "2023-04-16 09:11:00",
          "2023-04-16 09:15:00",
          "2023-04-16 09:20:00",
          "2023-04-16 09:21:00",
          "2023-04-16 09:25:00",
          "2023-04-16 09:30:00",
          "2023-04-16 09:31:00",
          "2023-04-16 09:35:00",
          "2023-04-16 09:40:00",
          "2023-04-16 09:41:00",
          "2023-04-16 09:45:00",
          "2023-04-16 09:50:00",
          "2023-04-16 09:51:00",
          "2023-04-16 09:55:00",
          "2023-04-16 10:00:00",
          "2023-04-16 10:01:00",
          "2023-04-16 10:05:00",
          "2023-04-16 10:10:00",
          "2023-04-16 10:11:00",
          "2023-04-16 10:15:00",
          "2023-04-16 10:20:00",
          "2023-04-16 10:21:00",
          "2023-04-16 10:25:00",
          "2023-04-16 10:30:00",
          "2023-04-16 10:31:00",
          "2023-04-16 10:35:00",
          "2023-04-16 10:40:00",
          "2023-04-16 10:41:00",
          "2023-04-16 10:45:00",
          "2023-04-16 10:50:00",
          "2023-04-16 10:51:00",
          "2023-04-16 10:55:00",
          "2023-04-16 11:00:00",
          "2023-04-16 11:05:00",
          "2023-04-16 11:10:00",
          "2023-04-16 11:15:00",
          "2023-04-16 11:20:00",
          "2023-04-16 11:21:00",
          "2023-04-16 11:25:00",
          "2023-04-16 11:30:00",
          "2023-04-16 11:31:00",
          "2023-04-16 11:35:00",
          "2023-04-16 11:40:00",
          "2023-04-16 11:41:00",
          "2023-04-16 11:45:00",
          "2023-04-16 11:50:00",
          "2023-04-16 11:51:00",
          "2023-04-16 11:55:00",
          "2023-04-16 12:00:00",
          "2023-04-16 12:01:00",
          "2023-04-16 12:05:00",
          "2023-04-16 12:10:00",
          "2023-04-16 12:11:00",
          "2023-04-16 12:15:00",
          "2023-04-16 12:20:00",
          "2023-04-16 12:21:00",
          "2023-04-16 12:25:00",
          "2023-04-16 12:30:00",
          "2023-04-16 12:31:00",
          "2023-04-16 12:35:00",
          "2023-04-16 12:40:00",
          "2023-04-16 12:41:00",
          "2023-04-16 12:45:00",
          "2023-04-16 12:50:00",
          "2023-04-16 12:51:00",
          "2023-04-16 12:55:00",
          "2023-04-16 13:00:00",
          "2023-04-16 13:01:00",
          "2023-04-16 13:05:00",
          "2023-04-16 13:10:00",
          "2023-04-16 13:11:00",
          "2023-04-16 13:15:00",
          "2023-04-16 13:20:00",
          "2023-04-16 13:21:00",
          "2023-04-16 13:25:00",
          "2023-04-16 13:30:00",
          "2023-04-16 13:31:00",
          "2023-04-16 13:35:00",
          "2023-04-16 13:40:00",
          "2023-04-16 13:41:00",
          "2023-04-16 13:45:00",
          "2023-04-16 13:50:00",
          "2023-04-16 13:51:00",
          "2023-04-16 13:55:00",
          "2023-04-16 14:00:00",
          "2023-04-16 14:01:00",
          "2023-04-16 14:05:00",
          "2023-04-16 14:10:00",
          "2023-04-16 14:11:00",
          "2023-04-16 14:15:00",
          "2023-04-16 14:20:00",
          "2023-04-16 14:21:00",
          "2023-04-16 14:25:00",
          "2023-04-16 14:30:00",
          "2023-04-16 14:31:00",
          "2023-04-16 14:35:00",
          "2023-04-16 14:40:00",
          "2023-04-16 14:41:00",
          "2023-04-16 14:45:00",
          "2023-04-16 14:50:00",
          "2023-04-16 14:51:00",
          "2023-04-16 14:55:00",
          "2023-04-16 15:00:00",
          "2023-04-16 15:01:00",
          "2023-04-16 15:05:00",
          "2023-04-16 15:10:00",
          "2023-04-16 15:11:00",
          "2023-04-16 15:15:00",
          "2023-04-16 15:20:00",
          "2023-04-16 15:21:00",
          "2023-04-16 15:25:00",
          "2023-04-16 15:30:00",
          "2023-04-16 15:31:00",
          "2023-04-16 15:35:00",
          "2023-04-16 15:40:00",
          "2023-04-16 15:41:00",
          "2023-04-16 15:45:00",
          "2023-04-16 15:50:00",
          "2023-04-16 15:51:00",
          "2023-04-16 15:55:00",
          "2023-04-16 16:00:00",
          "2023-04-16 16:01:00",
          "2023-04-16 16:05:00",
          "2023-04-16 16:10:00",
          "2023-04-16 16:11:00",
          "2023-04-16 16:15:00",
          "2023-04-16 16:20:00",
          "2023-04-16 16:21:00",
          "2023-04-16 16:50:00",
          "2023-04-16 16:51:00",
          "2023-04-16 16:55:00",
          "2023-04-16 17:00:00",
          "2023-04-16 17:01:00",
          "2023-04-16 17:05:00",
          "2023-04-16 17:10:00",
          "2023-04-16 17:11:00",
          "2023-04-16 17:15:00",
          "2023-04-16 17:20:00",
          "2023-04-16 17:21:00",
          "2023-04-16 17:25:00",
          "2023-04-16 17:30:00",
          "2023-04-16 17:31:00",
          "2023-04-16 17:35:00",
          "2023-04-16 17:40:00",
          "2023-04-16 17:41:00",
          "2023-04-16 17:45:00",
          "2023-04-16 17:50:00",
          "2023-04-16 17:51:00",
          "2023-04-16 17:55:00",
          "2023-04-16 18:00:00",
          "2023-04-16 18:01:00",
          "2023-04-16 18:05:00",
          "2023-04-16 18:10:00",
          "2023-04-16 18:11:00",
          "2023-04-16 18:15:00",
          "2023-04-16 18:20:00",
          "2023-04-16 18:21:00",
          "2023-04-16 18:25:00",
          "2023-04-16 18:30:00",
          "2023-04-16 18:31:00",
          "2023-04-16 18:35:00",
          "2023-04-16 18:40:00",
          "2023-04-16 18:41:00",
          "2023-04-16 18:45:00",
          "2023-04-16 18:50:00",
          "2023-04-16 18:51:00",
          "2023-04-16 18:55:00",
          "2023-04-16 19:00:00",
          "2023-04-16 19:01:00",
          "2023-04-16 19:05:00",
          "2023-04-16 19:10:00",
          "2023-04-16 19:11:00",
          "2023-04-16 19:15:00",
          "2023-04-16 19:20:00",
          "2023-04-16 19:21:00",
          "2023-04-16 19:25:00",
          "2023-04-16 19:30:00",
          "2023-04-16 19:31:00",
          "2023-04-16 19:35:00",
          "2023-04-16 19:40:00",
          "2023-04-16 19:41:00",
          "2023-04-16 19:45:00",
          "2023-04-16 19:50:00",
          "2023-04-16 19:51:00",
          "2023-04-16 19:55:00",
          "2023-04-16 20:00:00",
          "2023-04-16 20:01:00",
          "2023-04-16 20:05:00",
          "2023-04-16 20:10:00",
          "2023-04-16 20:11:00",
          "2023-04-16 20:15:00",
          "2023-04-16 20:20:00",
          "2023-04-16 20:21:00",
          "2023-04-16 20:25:00",
          "2023-04-16 20:30:00",
          "2023-04-16 20:31:00",
          "2023-04-16 20:35:00",
          "2023-04-16 20:40:00",
          "2023-04-16 20:41:00",
          "2023-04-16 20:45:00",
          "2023-04-16 20:50:00",
          "2023-04-16 20:51:00",
          "2023-04-16 20:55:00",
          "2023-04-16 21:00:00",
          "2023-04-16 21:01:00",
          "2023-04-16 21:05:00",
          "2023-04-16 21:10:00",
          "2023-04-16 21:11:00",
          "2023-04-16 21:15:00",
          "2023-04-16 21:20:00",
          "2023-04-16 21:21:00",
          "2023-04-16 21:25:00",
          "2023-04-16 21:30:00",
          "2023-04-16 21:31:00",
          "2023-04-16 21:35:00",
          "2023-04-16 21:40:00",
          "2023-04-16 21:41:00",
          "2023-04-16 21:45:00",
          "2023-04-16 21:50:00",
          "2023-04-16 21:51:00"
         ],
         "xaxis": "x",
         "y": [
          34.6495,
          34.6495,
          34.6488,
          34.6494,
          34.6494,
          34.6479,
          34.6464,
          34.6464,
          34.6456,
          34.6459,
          34.6459,
          34.6477,
          34.6468,
          34.6468,
          34.6455,
          34.6458,
          34.6458,
          34.6462,
          34.6453,
          34.6453,
          34.6452,
          34.6443,
          34.6443,
          34.6441,
          34.6442,
          34.6442,
          34.6449,
          34.6459,
          34.6459,
          34.6459,
          34.6484,
          34.6484,
          34.647,
          34.6473,
          34.6473,
          34.6473,
          34.6472,
          34.6472,
          34.6468,
          34.6468,
          34.6468,
          34.6453,
          34.6462,
          34.6462,
          34.6457,
          34.6462,
          34.6462,
          34.646,
          34.6455,
          34.6455,
          34.6454,
          34.6456,
          34.6456,
          34.645,
          34.6449,
          34.6449,
          34.6448,
          34.6452,
          34.6452,
          34.6445,
          34.6448,
          34.6448,
          34.6449,
          34.6453,
          34.6453,
          34.6444,
          34.6448,
          34.6448,
          34.6444,
          34.6447,
          34.6447,
          34.6442,
          34.6441,
          34.6441,
          34.6443,
          34.6453,
          34.6453,
          34.6461,
          34.6461,
          34.646,
          34.6465,
          34.6465,
          34.6463,
          34.647,
          34.647,
          34.6472,
          34.6472,
          34.6472,
          34.6471,
          34.6479,
          34.6479,
          34.6485,
          34.6493,
          34.6493,
          34.6495,
          34.6513,
          34.6521,
          34.6521,
          34.6528,
          34.6532,
          34.6532,
          34.6539,
          34.6541,
          34.6541,
          34.6548,
          34.6565,
          34.6565,
          34.6581,
          34.6603,
          34.6603,
          34.6615,
          34.6618,
          34.6618,
          34.6621,
          34.6605,
          34.6605,
          34.662,
          34.663,
          34.663,
          34.6641,
          34.6681,
          34.6712,
          34.6726,
          34.6726,
          34.6739,
          34.6747,
          34.6747,
          34.676,
          34.6763,
          34.6763,
          34.6765,
          34.677,
          34.677,
          34.6769,
          34.6775,
          34.6775,
          34.6772,
          34.6772,
          34.6772,
          34.6765,
          34.6767,
          34.6767,
          34.6759,
          34.6758,
          34.6758,
          34.6749,
          34.6749,
          34.6749,
          34.6766,
          34.6779,
          34.6779,
          34.6806,
          34.6812,
          34.6812,
          34.6806,
          34.6746,
          34.6746,
          34.6684,
          34.6659,
          34.6659,
          34.6632,
          34.6618,
          34.6618,
          34.6607,
          34.6592,
          34.6592,
          34.6575,
          34.6566,
          34.6566,
          34.6567,
          34.6562,
          34.6562,
          34.6569,
          34.6571,
          34.6571,
          34.6567,
          34.656,
          34.656,
          34.6552,
          34.6543,
          34.6543,
          34.6532,
          34.6526,
          34.6526,
          34.6519,
          34.6511,
          34.6511,
          34.6497,
          34.6483,
          34.6483,
          34.647,
          34.6456,
          34.644,
          34.6428,
          34.6412,
          34.6404,
          34.6404,
          34.6396,
          34.6384,
          34.6384,
          34.6373,
          34.636,
          34.636,
          34.6359,
          34.6356,
          34.6356,
          34.6356,
          34.6349,
          34.6349,
          34.6344,
          34.6338,
          34.6338,
          34.6331,
          34.633,
          34.633,
          34.6312,
          34.6297,
          34.6297,
          34.6274,
          34.6245,
          34.6245,
          34.6222,
          34.6183,
          34.6183,
          34.6192,
          34.6147,
          34.6147,
          34.6134,
          34.6125,
          34.6125,
          34.6093,
          34.6084,
          34.6084,
          34.6088,
          34.6058,
          34.6058,
          34.6054,
          34.6034,
          34.6034,
          34.6014,
          34.6002,
          34.6002,
          34.5995,
          34.5987,
          34.5987,
          34.5996,
          34.6002,
          34.6002,
          34.6009,
          34.6013,
          34.6013,
          34.6011,
          34.6006,
          34.6006,
          34.6007,
          34.6001,
          34.6001,
          34.5997,
          34.5994,
          34.5994,
          34.5996,
          34.5998,
          34.5998,
          34.6009,
          34.6001,
          34.6001,
          34.5986,
          34.5975,
          34.5975,
          34.5972,
          34.5975,
          34.5975,
          34.5969,
          34.5981,
          34.5981,
          34.5973,
          34.5973,
          34.5973,
          34.5969,
          34.5974,
          34.5974,
          34.5975,
          34.5982,
          34.5982,
          34.5978,
          34.5979,
          34.5979,
          34.5938,
          34.5938,
          34.5938,
          34.5937,
          34.5937,
          34.5931,
          34.5913,
          34.5913,
          34.5921,
          34.5919,
          34.5919,
          34.5925,
          34.5911,
          34.5911,
          34.5916,
          34.5915,
          34.5915,
          34.5902,
          34.5905,
          34.5905,
          34.5892,
          34.589,
          34.589,
          34.5887,
          34.5886,
          34.5886,
          34.5888,
          34.5876,
          34.5876,
          34.5878,
          34.5872,
          34.5872,
          34.587,
          34.5863,
          34.5863,
          34.5862,
          34.5857,
          34.5857,
          34.5868,
          34.5855,
          34.5855,
          34.5845,
          34.5842,
          34.5842,
          34.585,
          34.584,
          34.584,
          34.5838,
          34.5832,
          34.5832,
          34.5838,
          34.584,
          34.584,
          34.5835,
          34.5831,
          34.5831,
          34.5823,
          34.5827,
          34.5827,
          34.5814,
          34.5825,
          34.5825,
          34.5811,
          34.5797,
          34.5797,
          34.5783,
          34.5784,
          34.5784,
          34.5784,
          34.5764,
          34.5764,
          34.5832,
          34.582,
          34.582,
          34.5839,
          34.5831,
          34.5831,
          34.5814,
          34.5812,
          34.5812,
          34.5797,
          34.5799,
          34.5799,
          34.5799,
          34.5796,
          34.5796,
          34.5795,
          34.579,
          34.579,
          34.5788,
          34.5786,
          34.5786
         ],
         "yaxis": "y"
        },
        {
         "hovertemplate": "SSS QC Flag: Test 3=SUSPECT<br>time=%{x}<br>SAL_SBE37_MEAN=%{y}<extra></extra>",
         "legendgroup": "SUSPECT",
         "marker": {
          "color": "goldenrod",
          "symbol": "circle"
         },
         "mode": "markers",
         "name": "SUSPECT",
         "orientation": "v",
         "showlegend": true,
         "type": "scatter",
         "x": [
          "2023-04-16 00:00:00",
          "2023-04-16 00:01:00",
          "2023-04-16 00:05:00",
          "2023-04-16 04:25:00",
          "2023-04-16 05:30:00",
          "2023-04-16 11:11:00",
          "2023-04-16 16:25:00",
          "2023-04-16 16:30:00",
          "2023-04-16 16:31:00",
          "2023-04-16 16:35:00",
          "2023-04-16 16:40:00",
          "2023-04-16 16:41:00",
          "2023-04-16 16:45:00",
          "2023-04-16 21:55:00",
          "2023-04-16 22:00:00",
          "2023-04-16 22:01:00",
          "2023-04-16 22:05:00",
          "2023-04-16 22:10:00",
          "2023-04-16 22:11:00",
          "2023-04-16 22:15:00"
         ],
         "xaxis": "x",
         "y": [
          34.6509,
          34.6509,
          34.6507,
          34.645,
          34.6513,
          34.6428,
          34.5942,
          34.5939,
          34.5939,
          34.5938,
          34.594,
          34.594,
          34.5936,
          34.5779,
          34.5768,
          34.5768,
          34.5747,
          34.5756,
          34.5756,
          34.5785
         ],
         "yaxis": "y"
        },
        {
         "hovertemplate": "SSS QC Flag: Test 3=UNKNOWN<br>time=%{x}<br>SAL_SBE37_MEAN=%{y}<extra></extra>",
         "legendgroup": "UNKNOWN",
         "marker": {
          "color": "green",
          "symbol": "circle"
         },
         "mode": "markers",
         "name": "UNKNOWN",
         "orientation": "v",
         "showlegend": true,
         "type": "scatter",
         "x": [
          "2023-04-16 22:20:00"
         ],
         "xaxis": "x",
         "y": [
          34.5761
         ],
         "yaxis": "y"
        }
       ],
       "layout": {
        "height": 800,
        "legend": {
         "title": {
          "text": "SSS QC Flag: Test 3"
         },
         "tracegroupgap": 0
        },
        "template": {
         "data": {
          "bar": [
           {
            "error_x": {
             "color": "#2a3f5f"
            },
            "error_y": {
             "color": "#2a3f5f"
            },
            "marker": {
             "line": {
              "color": "#E5ECF6",
              "width": 0.5
             },
             "pattern": {
              "fillmode": "overlay",
              "size": 10,
              "solidity": 0.2
             }
            },
            "type": "bar"
           }
          ],
          "barpolar": [
           {
            "marker": {
             "line": {
              "color": "#E5ECF6",
              "width": 0.5
             },
             "pattern": {
              "fillmode": "overlay",
              "size": 10,
              "solidity": 0.2
             }
            },
            "type": "barpolar"
           }
          ],
          "carpet": [
           {
            "aaxis": {
             "endlinecolor": "#2a3f5f",
             "gridcolor": "white",
             "linecolor": "white",
             "minorgridcolor": "white",
             "startlinecolor": "#2a3f5f"
            },
            "baxis": {
             "endlinecolor": "#2a3f5f",
             "gridcolor": "white",
             "linecolor": "white",
             "minorgridcolor": "white",
             "startlinecolor": "#2a3f5f"
            },
            "type": "carpet"
           }
          ],
          "choropleth": [
           {
            "colorbar": {
             "outlinewidth": 0,
             "ticks": ""
            },
            "type": "choropleth"
           }
          ],
          "contour": [
           {
            "colorbar": {
             "outlinewidth": 0,
             "ticks": ""
            },
            "colorscale": [
             [
              0,
              "#0d0887"
             ],
             [
              0.1111111111111111,
              "#46039f"
             ],
             [
              0.2222222222222222,
              "#7201a8"
             ],
             [
              0.3333333333333333,
              "#9c179e"
             ],
             [
              0.4444444444444444,
              "#bd3786"
             ],
             [
              0.5555555555555556,
              "#d8576b"
             ],
             [
              0.6666666666666666,
              "#ed7953"
             ],
             [
              0.7777777777777778,
              "#fb9f3a"
             ],
             [
              0.8888888888888888,
              "#fdca26"
             ],
             [
              1,
              "#f0f921"
             ]
            ],
            "type": "contour"
           }
          ],
          "contourcarpet": [
           {
            "colorbar": {
             "outlinewidth": 0,
             "ticks": ""
            },
            "type": "contourcarpet"
           }
          ],
          "heatmap": [
           {
            "colorbar": {
             "outlinewidth": 0,
             "ticks": ""
            },
            "colorscale": [
             [
              0,
              "#0d0887"
             ],
             [
              0.1111111111111111,
              "#46039f"
             ],
             [
              0.2222222222222222,
              "#7201a8"
             ],
             [
              0.3333333333333333,
              "#9c179e"
             ],
             [
              0.4444444444444444,
              "#bd3786"
             ],
             [
              0.5555555555555556,
              "#d8576b"
             ],
             [
              0.6666666666666666,
              "#ed7953"
             ],
             [
              0.7777777777777778,
              "#fb9f3a"
             ],
             [
              0.8888888888888888,
              "#fdca26"
             ],
             [
              1,
              "#f0f921"
             ]
            ],
            "type": "heatmap"
           }
          ],
          "heatmapgl": [
           {
            "colorbar": {
             "outlinewidth": 0,
             "ticks": ""
            },
            "colorscale": [
             [
              0,
              "#0d0887"
             ],
             [
              0.1111111111111111,
              "#46039f"
             ],
             [
              0.2222222222222222,
              "#7201a8"
             ],
             [
              0.3333333333333333,
              "#9c179e"
             ],
             [
              0.4444444444444444,
              "#bd3786"
             ],
             [
              0.5555555555555556,
              "#d8576b"
             ],
             [
              0.6666666666666666,
              "#ed7953"
             ],
             [
              0.7777777777777778,
              "#fb9f3a"
             ],
             [
              0.8888888888888888,
              "#fdca26"
             ],
             [
              1,
              "#f0f921"
             ]
            ],
            "type": "heatmapgl"
           }
          ],
          "histogram": [
           {
            "marker": {
             "pattern": {
              "fillmode": "overlay",
              "size": 10,
              "solidity": 0.2
             }
            },
            "type": "histogram"
           }
          ],
          "histogram2d": [
           {
            "colorbar": {
             "outlinewidth": 0,
             "ticks": ""
            },
            "colorscale": [
             [
              0,
              "#0d0887"
             ],
             [
              0.1111111111111111,
              "#46039f"
             ],
             [
              0.2222222222222222,
              "#7201a8"
             ],
             [
              0.3333333333333333,
              "#9c179e"
             ],
             [
              0.4444444444444444,
              "#bd3786"
             ],
             [
              0.5555555555555556,
              "#d8576b"
             ],
             [
              0.6666666666666666,
              "#ed7953"
             ],
             [
              0.7777777777777778,
              "#fb9f3a"
             ],
             [
              0.8888888888888888,
              "#fdca26"
             ],
             [
              1,
              "#f0f921"
             ]
            ],
            "type": "histogram2d"
           }
          ],
          "histogram2dcontour": [
           {
            "colorbar": {
             "outlinewidth": 0,
             "ticks": ""
            },
            "colorscale": [
             [
              0,
              "#0d0887"
             ],
             [
              0.1111111111111111,
              "#46039f"
             ],
             [
              0.2222222222222222,
              "#7201a8"
             ],
             [
              0.3333333333333333,
              "#9c179e"
             ],
             [
              0.4444444444444444,
              "#bd3786"
             ],
             [
              0.5555555555555556,
              "#d8576b"
             ],
             [
              0.6666666666666666,
              "#ed7953"
             ],
             [
              0.7777777777777778,
              "#fb9f3a"
             ],
             [
              0.8888888888888888,
              "#fdca26"
             ],
             [
              1,
              "#f0f921"
             ]
            ],
            "type": "histogram2dcontour"
           }
          ],
          "mesh3d": [
           {
            "colorbar": {
             "outlinewidth": 0,
             "ticks": ""
            },
            "type": "mesh3d"
           }
          ],
          "parcoords": [
           {
            "line": {
             "colorbar": {
              "outlinewidth": 0,
              "ticks": ""
             }
            },
            "type": "parcoords"
           }
          ],
          "pie": [
           {
            "automargin": true,
            "type": "pie"
           }
          ],
          "scatter": [
           {
            "fillpattern": {
             "fillmode": "overlay",
             "size": 10,
             "solidity": 0.2
            },
            "type": "scatter"
           }
          ],
          "scatter3d": [
           {
            "line": {
             "colorbar": {
              "outlinewidth": 0,
              "ticks": ""
             }
            },
            "marker": {
             "colorbar": {
              "outlinewidth": 0,
              "ticks": ""
             }
            },
            "type": "scatter3d"
           }
          ],
          "scattercarpet": [
           {
            "marker": {
             "colorbar": {
              "outlinewidth": 0,
              "ticks": ""
             }
            },
            "type": "scattercarpet"
           }
          ],
          "scattergeo": [
           {
            "marker": {
             "colorbar": {
              "outlinewidth": 0,
              "ticks": ""
             }
            },
            "type": "scattergeo"
           }
          ],
          "scattergl": [
           {
            "marker": {
             "colorbar": {
              "outlinewidth": 0,
              "ticks": ""
             }
            },
            "type": "scattergl"
           }
          ],
          "scattermapbox": [
           {
            "marker": {
             "colorbar": {
              "outlinewidth": 0,
              "ticks": ""
             }
            },
            "type": "scattermapbox"
           }
          ],
          "scatterpolar": [
           {
            "marker": {
             "colorbar": {
              "outlinewidth": 0,
              "ticks": ""
             }
            },
            "type": "scatterpolar"
           }
          ],
          "scatterpolargl": [
           {
            "marker": {
             "colorbar": {
              "outlinewidth": 0,
              "ticks": ""
             }
            },
            "type": "scatterpolargl"
           }
          ],
          "scatterternary": [
           {
            "marker": {
             "colorbar": {
              "outlinewidth": 0,
              "ticks": ""
             }
            },
            "type": "scatterternary"
           }
          ],
          "surface": [
           {
            "colorbar": {
             "outlinewidth": 0,
             "ticks": ""
            },
            "colorscale": [
             [
              0,
              "#0d0887"
             ],
             [
              0.1111111111111111,
              "#46039f"
             ],
             [
              0.2222222222222222,
              "#7201a8"
             ],
             [
              0.3333333333333333,
              "#9c179e"
             ],
             [
              0.4444444444444444,
              "#bd3786"
             ],
             [
              0.5555555555555556,
              "#d8576b"
             ],
             [
              0.6666666666666666,
              "#ed7953"
             ],
             [
              0.7777777777777778,
              "#fb9f3a"
             ],
             [
              0.8888888888888888,
              "#fdca26"
             ],
             [
              1,
              "#f0f921"
             ]
            ],
            "type": "surface"
           }
          ],
          "table": [
           {
            "cells": {
             "fill": {
              "color": "#EBF0F8"
             },
             "line": {
              "color": "white"
             }
            },
            "header": {
             "fill": {
              "color": "#C8D4E3"
             },
             "line": {
              "color": "white"
             }
            },
            "type": "table"
           }
          ]
         },
         "layout": {
          "annotationdefaults": {
           "arrowcolor": "#2a3f5f",
           "arrowhead": 0,
           "arrowwidth": 1
          },
          "autotypenumbers": "strict",
          "coloraxis": {
           "colorbar": {
            "outlinewidth": 0,
            "ticks": ""
           }
          },
          "colorscale": {
           "diverging": [
            [
             0,
             "#8e0152"
            ],
            [
             0.1,
             "#c51b7d"
            ],
            [
             0.2,
             "#de77ae"
            ],
            [
             0.3,
             "#f1b6da"
            ],
            [
             0.4,
             "#fde0ef"
            ],
            [
             0.5,
             "#f7f7f7"
            ],
            [
             0.6,
             "#e6f5d0"
            ],
            [
             0.7,
             "#b8e186"
            ],
            [
             0.8,
             "#7fbc41"
            ],
            [
             0.9,
             "#4d9221"
            ],
            [
             1,
             "#276419"
            ]
           ],
           "sequential": [
            [
             0,
             "#0d0887"
            ],
            [
             0.1111111111111111,
             "#46039f"
            ],
            [
             0.2222222222222222,
             "#7201a8"
            ],
            [
             0.3333333333333333,
             "#9c179e"
            ],
            [
             0.4444444444444444,
             "#bd3786"
            ],
            [
             0.5555555555555556,
             "#d8576b"
            ],
            [
             0.6666666666666666,
             "#ed7953"
            ],
            [
             0.7777777777777778,
             "#fb9f3a"
            ],
            [
             0.8888888888888888,
             "#fdca26"
            ],
            [
             1,
             "#f0f921"
            ]
           ],
           "sequentialminus": [
            [
             0,
             "#0d0887"
            ],
            [
             0.1111111111111111,
             "#46039f"
            ],
            [
             0.2222222222222222,
             "#7201a8"
            ],
            [
             0.3333333333333333,
             "#9c179e"
            ],
            [
             0.4444444444444444,
             "#bd3786"
            ],
            [
             0.5555555555555556,
             "#d8576b"
            ],
            [
             0.6666666666666666,
             "#ed7953"
            ],
            [
             0.7777777777777778,
             "#fb9f3a"
            ],
            [
             0.8888888888888888,
             "#fdca26"
            ],
            [
             1,
             "#f0f921"
            ]
           ]
          },
          "colorway": [
           "#636efa",
           "#EF553B",
           "#00cc96",
           "#ab63fa",
           "#FFA15A",
           "#19d3f3",
           "#FF6692",
           "#B6E880",
           "#FF97FF",
           "#FECB52"
          ],
          "font": {
           "color": "#2a3f5f"
          },
          "geo": {
           "bgcolor": "white",
           "lakecolor": "white",
           "landcolor": "#E5ECF6",
           "showlakes": true,
           "showland": true,
           "subunitcolor": "white"
          },
          "hoverlabel": {
           "align": "left"
          },
          "hovermode": "closest",
          "mapbox": {
           "style": "light"
          },
          "paper_bgcolor": "white",
          "plot_bgcolor": "#E5ECF6",
          "polar": {
           "angularaxis": {
            "gridcolor": "white",
            "linecolor": "white",
            "ticks": ""
           },
           "bgcolor": "#E5ECF6",
           "radialaxis": {
            "gridcolor": "white",
            "linecolor": "white",
            "ticks": ""
           }
          },
          "scene": {
           "xaxis": {
            "backgroundcolor": "#E5ECF6",
            "gridcolor": "white",
            "gridwidth": 2,
            "linecolor": "white",
            "showbackground": true,
            "ticks": "",
            "zerolinecolor": "white"
           },
           "yaxis": {
            "backgroundcolor": "#E5ECF6",
            "gridcolor": "white",
            "gridwidth": 2,
            "linecolor": "white",
            "showbackground": true,
            "ticks": "",
            "zerolinecolor": "white"
           },
           "zaxis": {
            "backgroundcolor": "#E5ECF6",
            "gridcolor": "white",
            "gridwidth": 2,
            "linecolor": "white",
            "showbackground": true,
            "ticks": "",
            "zerolinecolor": "white"
           }
          },
          "shapedefaults": {
           "line": {
            "color": "#2a3f5f"
           }
          },
          "ternary": {
           "aaxis": {
            "gridcolor": "white",
            "linecolor": "white",
            "ticks": ""
           },
           "baxis": {
            "gridcolor": "white",
            "linecolor": "white",
            "ticks": ""
           },
           "bgcolor": "#E5ECF6",
           "caxis": {
            "gridcolor": "white",
            "linecolor": "white",
            "ticks": ""
           }
          },
          "title": {
           "x": 0.05
          },
          "xaxis": {
           "automargin": true,
           "gridcolor": "white",
           "linecolor": "white",
           "ticks": "",
           "title": {
            "standoff": 15
           },
           "zerolinecolor": "white",
           "zerolinewidth": 2
          },
          "yaxis": {
           "automargin": true,
           "gridcolor": "white",
           "linecolor": "white",
           "ticks": "",
           "title": {
            "standoff": 15
           },
           "zerolinecolor": "white",
           "zerolinewidth": 2
          }
         }
        },
        "title": {
         "text": "SD-1090 HI Chem 23 SSS"
        },
        "width": 1400,
        "xaxis": {
         "anchor": "y",
         "domain": [
          0,
          1
         ],
         "title": {
          "text": "time"
         }
        },
        "yaxis": {
         "anchor": "x",
         "domain": [
          0,
          1
         ],
         "title": {
          "text": "SAL_SBE37_MEAN"
         }
        }
       }
      }
     },
     "metadata": {},
     "output_type": "display_data"
    }
   ],
   "source": [
    "# Any hints as to why I'm getting the wrong color on the UKNOWN point?\n",
    "px.scatter(\n",
    "    hi1090qc, \n",
    "    x=\"time\", y=\"SAL_SBE37_MEAN\", \n",
    "    color='SSS QC Flag: Test 3', \n",
    "    width = 1400, height = 800, \n",
    "    color_discrete_sequence=[\"green\", \"gray\", \"goldenrod\", \"red\", \"black\"], \n",
    "    category_orders={\"SSS QC Flag: Test 3\": [\"GOOD\", \"UNKNKOWN\", \"SUSPECT\", \"FAIL\", \"MISSING\"]},\n",
    "    title='SD-1090 HI Chem 23 SSS'\n",
    "    )"
   ]
  },
  {
   "cell_type": "markdown",
   "metadata": {},
   "source": [
    "Clearly it's not a perfect correspondence, but there is also some obvious consistency between the two."
   ]
  },
  {
   "cell_type": "markdown",
   "metadata": {},
   "source": [
    "#### Test 6 - Salinity\n",
    "\n",
    "Finally, we can compare the flags assigned (using identical tolerance parameters) to the normalized data, which contains the actual values the NN used to generate the distribution. If the assigned flags are not identical, it's likely time to go back to the drawing board.\n",
    ">\n",
    "Since normalization is a linear transformation $x^* = (x - \\mu) / \\sigma$, it should preserve the shape of the distribution. If what the NN generates doesn't behave this way, then whatever the output is can't be said to be a distribution, and may not even represent EoS we think it does - in other words: the model isn't trustworthy. \n",
    ">\n",
    "It's worth noting, however, that any classification scheme applied to continuous values can and will result in values near the boundary of the respective classes. One or two minor discrepancies may not mean much if they are close to the threshold. This is true if the parameters are chosen arbitrarily (as in Tests 1-6), or selected more carefully (e.g. by using parameter optimization)."
   ]
  },
  {
   "cell_type": "code",
   "execution_count": 39,
   "metadata": {},
   "outputs": [
    {
     "data": {
      "application/vnd.plotly.v1+json": {
       "config": {
        "plotlyServerURL": "https://plot.ly"
       },
       "data": [
        {
         "hovertemplate": "SSS QC Flag: Test 6=GOOD<br>time=%{x}<br>SAL_SBE37_MEAN=%{y}<extra></extra>",
         "legendgroup": "GOOD",
         "marker": {
          "color": "green",
          "symbol": "circle"
         },
         "mode": "markers",
         "name": "GOOD",
         "orientation": "v",
         "showlegend": true,
         "type": "scatter",
         "x": [
          "2023-04-16 00:10:00",
          "2023-04-16 00:11:00",
          "2023-04-16 00:15:00",
          "2023-04-16 00:20:00",
          "2023-04-16 00:21:00",
          "2023-04-16 00:25:00",
          "2023-04-16 00:30:00",
          "2023-04-16 00:31:00",
          "2023-04-16 00:35:00",
          "2023-04-16 00:40:00",
          "2023-04-16 00:41:00",
          "2023-04-16 00:45:00",
          "2023-04-16 00:50:00",
          "2023-04-16 00:51:00",
          "2023-04-16 00:55:00",
          "2023-04-16 01:00:00",
          "2023-04-16 01:01:00",
          "2023-04-16 01:05:00",
          "2023-04-16 01:10:00",
          "2023-04-16 01:11:00",
          "2023-04-16 01:15:00",
          "2023-04-16 01:20:00",
          "2023-04-16 01:21:00",
          "2023-04-16 01:25:00",
          "2023-04-16 01:30:00",
          "2023-04-16 01:31:00",
          "2023-04-16 01:35:00",
          "2023-04-16 01:40:00",
          "2023-04-16 01:41:00",
          "2023-04-16 01:45:00",
          "2023-04-16 01:50:00",
          "2023-04-16 01:51:00",
          "2023-04-16 01:55:00",
          "2023-04-16 02:00:00",
          "2023-04-16 02:01:00",
          "2023-04-16 02:05:00",
          "2023-04-16 02:10:00",
          "2023-04-16 02:11:00",
          "2023-04-16 02:15:00",
          "2023-04-16 02:20:00",
          "2023-04-16 02:21:00",
          "2023-04-16 02:25:00",
          "2023-04-16 02:30:00",
          "2023-04-16 02:31:00",
          "2023-04-16 02:35:00",
          "2023-04-16 02:40:00",
          "2023-04-16 02:41:00",
          "2023-04-16 02:45:00",
          "2023-04-16 02:50:00",
          "2023-04-16 02:51:00",
          "2023-04-16 02:55:00",
          "2023-04-16 03:00:00",
          "2023-04-16 03:01:00",
          "2023-04-16 03:05:00",
          "2023-04-16 03:10:00",
          "2023-04-16 03:11:00",
          "2023-04-16 03:15:00",
          "2023-04-16 03:20:00",
          "2023-04-16 03:21:00",
          "2023-04-16 03:25:00",
          "2023-04-16 03:30:00",
          "2023-04-16 03:31:00",
          "2023-04-16 03:35:00",
          "2023-04-16 03:40:00",
          "2023-04-16 03:41:00",
          "2023-04-16 03:45:00",
          "2023-04-16 03:50:00",
          "2023-04-16 03:51:00",
          "2023-04-16 03:55:00",
          "2023-04-16 04:00:00",
          "2023-04-16 04:01:00",
          "2023-04-16 04:05:00",
          "2023-04-16 04:10:00",
          "2023-04-16 04:11:00",
          "2023-04-16 04:15:00",
          "2023-04-16 04:20:00",
          "2023-04-16 04:21:00",
          "2023-04-16 04:30:00",
          "2023-04-16 04:31:00",
          "2023-04-16 04:35:00",
          "2023-04-16 04:40:00",
          "2023-04-16 04:41:00",
          "2023-04-16 04:45:00",
          "2023-04-16 04:50:00",
          "2023-04-16 04:51:00",
          "2023-04-16 04:55:00",
          "2023-04-16 05:00:00",
          "2023-04-16 05:01:00",
          "2023-04-16 05:05:00",
          "2023-04-16 05:10:00",
          "2023-04-16 05:11:00",
          "2023-04-16 05:15:00",
          "2023-04-16 05:20:00",
          "2023-04-16 05:21:00",
          "2023-04-16 05:25:00",
          "2023-04-16 05:35:00",
          "2023-04-16 05:40:00",
          "2023-04-16 05:41:00",
          "2023-04-16 05:45:00",
          "2023-04-16 05:50:00",
          "2023-04-16 05:51:00",
          "2023-04-16 05:55:00",
          "2023-04-16 06:00:00",
          "2023-04-16 06:01:00",
          "2023-04-16 06:05:00",
          "2023-04-16 06:10:00",
          "2023-04-16 06:11:00",
          "2023-04-16 06:15:00",
          "2023-04-16 06:20:00",
          "2023-04-16 06:21:00",
          "2023-04-16 06:25:00",
          "2023-04-16 06:30:00",
          "2023-04-16 06:31:00",
          "2023-04-16 06:35:00",
          "2023-04-16 06:40:00",
          "2023-04-16 06:41:00",
          "2023-04-16 06:45:00",
          "2023-04-16 06:50:00",
          "2023-04-16 06:51:00",
          "2023-04-16 06:55:00",
          "2023-04-16 07:00:00",
          "2023-04-16 07:05:00",
          "2023-04-16 07:10:00",
          "2023-04-16 07:11:00",
          "2023-04-16 07:15:00",
          "2023-04-16 07:20:00",
          "2023-04-16 07:21:00",
          "2023-04-16 07:25:00",
          "2023-04-16 07:30:00",
          "2023-04-16 07:31:00",
          "2023-04-16 07:35:00",
          "2023-04-16 07:40:00",
          "2023-04-16 07:41:00",
          "2023-04-16 07:45:00",
          "2023-04-16 07:50:00",
          "2023-04-16 07:51:00",
          "2023-04-16 07:55:00",
          "2023-04-16 08:00:00",
          "2023-04-16 08:01:00",
          "2023-04-16 08:05:00",
          "2023-04-16 08:10:00",
          "2023-04-16 08:11:00",
          "2023-04-16 08:15:00",
          "2023-04-16 08:20:00",
          "2023-04-16 08:21:00",
          "2023-04-16 08:25:00",
          "2023-04-16 08:30:00",
          "2023-04-16 08:31:00",
          "2023-04-16 08:35:00",
          "2023-04-16 08:40:00",
          "2023-04-16 08:41:00",
          "2023-04-16 08:45:00",
          "2023-04-16 08:50:00",
          "2023-04-16 08:51:00",
          "2023-04-16 08:55:00",
          "2023-04-16 09:00:00",
          "2023-04-16 09:01:00",
          "2023-04-16 09:05:00",
          "2023-04-16 09:10:00",
          "2023-04-16 09:11:00",
          "2023-04-16 09:15:00",
          "2023-04-16 09:20:00",
          "2023-04-16 09:21:00",
          "2023-04-16 09:25:00",
          "2023-04-16 09:30:00",
          "2023-04-16 09:31:00",
          "2023-04-16 09:35:00",
          "2023-04-16 09:40:00",
          "2023-04-16 09:41:00",
          "2023-04-16 09:45:00",
          "2023-04-16 09:50:00",
          "2023-04-16 09:51:00",
          "2023-04-16 09:55:00",
          "2023-04-16 10:00:00",
          "2023-04-16 10:01:00",
          "2023-04-16 10:05:00",
          "2023-04-16 10:10:00",
          "2023-04-16 10:11:00",
          "2023-04-16 10:15:00",
          "2023-04-16 10:20:00",
          "2023-04-16 10:21:00",
          "2023-04-16 10:25:00",
          "2023-04-16 10:30:00",
          "2023-04-16 10:31:00",
          "2023-04-16 10:35:00",
          "2023-04-16 10:40:00",
          "2023-04-16 10:41:00",
          "2023-04-16 10:45:00",
          "2023-04-16 10:50:00",
          "2023-04-16 10:51:00",
          "2023-04-16 10:55:00",
          "2023-04-16 11:00:00",
          "2023-04-16 11:05:00",
          "2023-04-16 11:10:00",
          "2023-04-16 11:15:00",
          "2023-04-16 11:20:00",
          "2023-04-16 11:21:00",
          "2023-04-16 11:25:00",
          "2023-04-16 11:30:00",
          "2023-04-16 11:31:00",
          "2023-04-16 11:35:00",
          "2023-04-16 11:40:00",
          "2023-04-16 11:41:00",
          "2023-04-16 11:45:00",
          "2023-04-16 11:50:00",
          "2023-04-16 11:51:00",
          "2023-04-16 11:55:00",
          "2023-04-16 12:00:00",
          "2023-04-16 12:01:00",
          "2023-04-16 12:05:00",
          "2023-04-16 12:10:00",
          "2023-04-16 12:11:00",
          "2023-04-16 12:15:00",
          "2023-04-16 12:20:00",
          "2023-04-16 12:21:00",
          "2023-04-16 12:25:00",
          "2023-04-16 12:30:00",
          "2023-04-16 12:31:00",
          "2023-04-16 12:35:00",
          "2023-04-16 12:40:00",
          "2023-04-16 12:41:00",
          "2023-04-16 12:45:00",
          "2023-04-16 12:50:00",
          "2023-04-16 12:51:00",
          "2023-04-16 12:55:00",
          "2023-04-16 13:00:00",
          "2023-04-16 13:01:00",
          "2023-04-16 13:05:00",
          "2023-04-16 13:10:00",
          "2023-04-16 13:11:00",
          "2023-04-16 13:15:00",
          "2023-04-16 13:20:00",
          "2023-04-16 13:21:00",
          "2023-04-16 13:25:00",
          "2023-04-16 13:30:00",
          "2023-04-16 13:31:00",
          "2023-04-16 13:35:00",
          "2023-04-16 13:40:00",
          "2023-04-16 13:41:00",
          "2023-04-16 13:45:00",
          "2023-04-16 13:50:00",
          "2023-04-16 13:51:00",
          "2023-04-16 13:55:00",
          "2023-04-16 14:00:00",
          "2023-04-16 14:01:00",
          "2023-04-16 14:05:00",
          "2023-04-16 14:10:00",
          "2023-04-16 14:11:00",
          "2023-04-16 14:15:00",
          "2023-04-16 14:20:00",
          "2023-04-16 14:21:00",
          "2023-04-16 14:25:00",
          "2023-04-16 14:30:00",
          "2023-04-16 14:31:00",
          "2023-04-16 14:35:00",
          "2023-04-16 14:40:00",
          "2023-04-16 14:41:00",
          "2023-04-16 14:45:00",
          "2023-04-16 14:50:00",
          "2023-04-16 14:51:00",
          "2023-04-16 14:55:00",
          "2023-04-16 15:00:00",
          "2023-04-16 15:01:00",
          "2023-04-16 15:05:00",
          "2023-04-16 15:10:00",
          "2023-04-16 15:11:00",
          "2023-04-16 15:15:00",
          "2023-04-16 15:20:00",
          "2023-04-16 15:21:00",
          "2023-04-16 15:25:00",
          "2023-04-16 15:30:00",
          "2023-04-16 15:31:00",
          "2023-04-16 15:35:00",
          "2023-04-16 15:40:00",
          "2023-04-16 15:41:00",
          "2023-04-16 15:45:00",
          "2023-04-16 15:50:00",
          "2023-04-16 15:51:00",
          "2023-04-16 15:55:00",
          "2023-04-16 16:00:00",
          "2023-04-16 16:01:00",
          "2023-04-16 16:05:00",
          "2023-04-16 16:10:00",
          "2023-04-16 16:11:00",
          "2023-04-16 16:15:00",
          "2023-04-16 16:20:00",
          "2023-04-16 16:21:00",
          "2023-04-16 16:50:00",
          "2023-04-16 16:51:00",
          "2023-04-16 16:55:00",
          "2023-04-16 17:00:00",
          "2023-04-16 17:01:00",
          "2023-04-16 17:05:00",
          "2023-04-16 17:10:00",
          "2023-04-16 17:11:00",
          "2023-04-16 17:15:00",
          "2023-04-16 17:20:00",
          "2023-04-16 17:21:00",
          "2023-04-16 17:25:00",
          "2023-04-16 17:30:00",
          "2023-04-16 17:31:00",
          "2023-04-16 17:35:00",
          "2023-04-16 17:40:00",
          "2023-04-16 17:41:00",
          "2023-04-16 17:45:00",
          "2023-04-16 17:50:00",
          "2023-04-16 17:51:00",
          "2023-04-16 17:55:00",
          "2023-04-16 18:00:00",
          "2023-04-16 18:01:00",
          "2023-04-16 18:05:00",
          "2023-04-16 18:10:00",
          "2023-04-16 18:11:00",
          "2023-04-16 18:15:00",
          "2023-04-16 18:20:00",
          "2023-04-16 18:21:00",
          "2023-04-16 18:25:00",
          "2023-04-16 18:30:00",
          "2023-04-16 18:31:00",
          "2023-04-16 18:35:00",
          "2023-04-16 18:40:00",
          "2023-04-16 18:41:00",
          "2023-04-16 18:45:00",
          "2023-04-16 18:50:00",
          "2023-04-16 18:51:00",
          "2023-04-16 18:55:00",
          "2023-04-16 19:00:00",
          "2023-04-16 19:01:00",
          "2023-04-16 19:05:00",
          "2023-04-16 19:10:00",
          "2023-04-16 19:11:00",
          "2023-04-16 19:15:00",
          "2023-04-16 19:20:00",
          "2023-04-16 19:21:00",
          "2023-04-16 19:25:00",
          "2023-04-16 19:30:00",
          "2023-04-16 19:31:00",
          "2023-04-16 19:35:00",
          "2023-04-16 19:40:00",
          "2023-04-16 19:41:00",
          "2023-04-16 19:45:00",
          "2023-04-16 19:50:00",
          "2023-04-16 19:51:00",
          "2023-04-16 19:55:00",
          "2023-04-16 20:00:00",
          "2023-04-16 20:01:00",
          "2023-04-16 20:05:00",
          "2023-04-16 20:10:00",
          "2023-04-16 20:11:00",
          "2023-04-16 20:15:00",
          "2023-04-16 20:20:00",
          "2023-04-16 20:21:00",
          "2023-04-16 20:25:00",
          "2023-04-16 20:30:00",
          "2023-04-16 20:31:00",
          "2023-04-16 20:35:00",
          "2023-04-16 20:40:00",
          "2023-04-16 20:41:00",
          "2023-04-16 20:45:00",
          "2023-04-16 20:50:00",
          "2023-04-16 20:51:00",
          "2023-04-16 20:55:00",
          "2023-04-16 21:00:00",
          "2023-04-16 21:01:00",
          "2023-04-16 21:05:00",
          "2023-04-16 21:10:00",
          "2023-04-16 21:11:00",
          "2023-04-16 21:15:00",
          "2023-04-16 21:20:00",
          "2023-04-16 21:21:00",
          "2023-04-16 21:25:00",
          "2023-04-16 21:30:00",
          "2023-04-16 21:31:00",
          "2023-04-16 21:35:00",
          "2023-04-16 21:40:00",
          "2023-04-16 21:41:00",
          "2023-04-16 21:45:00",
          "2023-04-16 21:50:00",
          "2023-04-16 21:51:00"
         ],
         "xaxis": "x",
         "y": [
          34.6495,
          34.6495,
          34.6488,
          34.6494,
          34.6494,
          34.6479,
          34.6464,
          34.6464,
          34.6456,
          34.6459,
          34.6459,
          34.6477,
          34.6468,
          34.6468,
          34.6455,
          34.6458,
          34.6458,
          34.6462,
          34.6453,
          34.6453,
          34.6452,
          34.6443,
          34.6443,
          34.6441,
          34.6442,
          34.6442,
          34.6449,
          34.6459,
          34.6459,
          34.6459,
          34.6484,
          34.6484,
          34.647,
          34.6473,
          34.6473,
          34.6473,
          34.6472,
          34.6472,
          34.6468,
          34.6468,
          34.6468,
          34.6453,
          34.6462,
          34.6462,
          34.6457,
          34.6462,
          34.6462,
          34.646,
          34.6455,
          34.6455,
          34.6454,
          34.6456,
          34.6456,
          34.645,
          34.6449,
          34.6449,
          34.6448,
          34.6452,
          34.6452,
          34.6445,
          34.6448,
          34.6448,
          34.6449,
          34.6453,
          34.6453,
          34.6444,
          34.6448,
          34.6448,
          34.6444,
          34.6447,
          34.6447,
          34.6442,
          34.6441,
          34.6441,
          34.6443,
          34.6453,
          34.6453,
          34.6461,
          34.6461,
          34.646,
          34.6465,
          34.6465,
          34.6463,
          34.647,
          34.647,
          34.6472,
          34.6472,
          34.6472,
          34.6471,
          34.6479,
          34.6479,
          34.6485,
          34.6493,
          34.6493,
          34.6495,
          34.6513,
          34.6521,
          34.6521,
          34.6528,
          34.6532,
          34.6532,
          34.6539,
          34.6541,
          34.6541,
          34.6548,
          34.6565,
          34.6565,
          34.6581,
          34.6603,
          34.6603,
          34.6615,
          34.6618,
          34.6618,
          34.6621,
          34.6605,
          34.6605,
          34.662,
          34.663,
          34.663,
          34.6641,
          34.6681,
          34.6712,
          34.6726,
          34.6726,
          34.6739,
          34.6747,
          34.6747,
          34.676,
          34.6763,
          34.6763,
          34.6765,
          34.677,
          34.677,
          34.6769,
          34.6775,
          34.6775,
          34.6772,
          34.6772,
          34.6772,
          34.6765,
          34.6767,
          34.6767,
          34.6759,
          34.6758,
          34.6758,
          34.6749,
          34.6749,
          34.6749,
          34.6766,
          34.6779,
          34.6779,
          34.6806,
          34.6812,
          34.6812,
          34.6806,
          34.6746,
          34.6746,
          34.6684,
          34.6659,
          34.6659,
          34.6632,
          34.6618,
          34.6618,
          34.6607,
          34.6592,
          34.6592,
          34.6575,
          34.6566,
          34.6566,
          34.6567,
          34.6562,
          34.6562,
          34.6569,
          34.6571,
          34.6571,
          34.6567,
          34.656,
          34.656,
          34.6552,
          34.6543,
          34.6543,
          34.6532,
          34.6526,
          34.6526,
          34.6519,
          34.6511,
          34.6511,
          34.6497,
          34.6483,
          34.6483,
          34.647,
          34.6456,
          34.644,
          34.6428,
          34.6412,
          34.6404,
          34.6404,
          34.6396,
          34.6384,
          34.6384,
          34.6373,
          34.636,
          34.636,
          34.6359,
          34.6356,
          34.6356,
          34.6356,
          34.6349,
          34.6349,
          34.6344,
          34.6338,
          34.6338,
          34.6331,
          34.633,
          34.633,
          34.6312,
          34.6297,
          34.6297,
          34.6274,
          34.6245,
          34.6245,
          34.6222,
          34.6183,
          34.6183,
          34.6192,
          34.6147,
          34.6147,
          34.6134,
          34.6125,
          34.6125,
          34.6093,
          34.6084,
          34.6084,
          34.6088,
          34.6058,
          34.6058,
          34.6054,
          34.6034,
          34.6034,
          34.6014,
          34.6002,
          34.6002,
          34.5995,
          34.5987,
          34.5987,
          34.5996,
          34.6002,
          34.6002,
          34.6009,
          34.6013,
          34.6013,
          34.6011,
          34.6006,
          34.6006,
          34.6007,
          34.6001,
          34.6001,
          34.5997,
          34.5994,
          34.5994,
          34.5996,
          34.5998,
          34.5998,
          34.6009,
          34.6001,
          34.6001,
          34.5986,
          34.5975,
          34.5975,
          34.5972,
          34.5975,
          34.5975,
          34.5969,
          34.5981,
          34.5981,
          34.5973,
          34.5973,
          34.5973,
          34.5969,
          34.5974,
          34.5974,
          34.5975,
          34.5982,
          34.5982,
          34.5978,
          34.5979,
          34.5979,
          34.5938,
          34.5938,
          34.5938,
          34.5937,
          34.5937,
          34.5931,
          34.5913,
          34.5913,
          34.5921,
          34.5919,
          34.5919,
          34.5925,
          34.5911,
          34.5911,
          34.5916,
          34.5915,
          34.5915,
          34.5902,
          34.5905,
          34.5905,
          34.5892,
          34.589,
          34.589,
          34.5887,
          34.5886,
          34.5886,
          34.5888,
          34.5876,
          34.5876,
          34.5878,
          34.5872,
          34.5872,
          34.587,
          34.5863,
          34.5863,
          34.5862,
          34.5857,
          34.5857,
          34.5868,
          34.5855,
          34.5855,
          34.5845,
          34.5842,
          34.5842,
          34.585,
          34.584,
          34.584,
          34.5838,
          34.5832,
          34.5832,
          34.5838,
          34.584,
          34.584,
          34.5835,
          34.5831,
          34.5831,
          34.5823,
          34.5827,
          34.5827,
          34.5814,
          34.5825,
          34.5825,
          34.5811,
          34.5797,
          34.5797,
          34.5783,
          34.5784,
          34.5784,
          34.5784,
          34.5764,
          34.5764,
          34.5832,
          34.582,
          34.582,
          34.5839,
          34.5831,
          34.5831,
          34.5814,
          34.5812,
          34.5812,
          34.5797,
          34.5799,
          34.5799,
          34.5799,
          34.5796,
          34.5796,
          34.5795,
          34.579,
          34.579,
          34.5788,
          34.5786,
          34.5786
         ],
         "yaxis": "y"
        },
        {
         "hovertemplate": "SSS QC Flag: Test 6=SUSPECT<br>time=%{x}<br>SAL_SBE37_MEAN=%{y}<extra></extra>",
         "legendgroup": "SUSPECT",
         "marker": {
          "color": "goldenrod",
          "symbol": "circle"
         },
         "mode": "markers",
         "name": "SUSPECT",
         "orientation": "v",
         "showlegend": true,
         "type": "scatter",
         "x": [
          "2023-04-16 00:00:00",
          "2023-04-16 00:01:00",
          "2023-04-16 00:05:00",
          "2023-04-16 04:25:00",
          "2023-04-16 05:30:00",
          "2023-04-16 11:11:00",
          "2023-04-16 16:25:00",
          "2023-04-16 16:30:00",
          "2023-04-16 16:31:00",
          "2023-04-16 16:35:00",
          "2023-04-16 16:40:00",
          "2023-04-16 16:41:00",
          "2023-04-16 16:45:00",
          "2023-04-16 21:55:00",
          "2023-04-16 22:00:00",
          "2023-04-16 22:01:00",
          "2023-04-16 22:05:00",
          "2023-04-16 22:10:00",
          "2023-04-16 22:11:00",
          "2023-04-16 22:15:00"
         ],
         "xaxis": "x",
         "y": [
          34.6509,
          34.6509,
          34.6507,
          34.645,
          34.6513,
          34.6428,
          34.5942,
          34.5939,
          34.5939,
          34.5938,
          34.594,
          34.594,
          34.5936,
          34.5779,
          34.5768,
          34.5768,
          34.5747,
          34.5756,
          34.5756,
          34.5785
         ],
         "yaxis": "y"
        },
        {
         "hovertemplate": "SSS QC Flag: Test 6=UNKNOWN<br>time=%{x}<br>SAL_SBE37_MEAN=%{y}<extra></extra>",
         "legendgroup": "UNKNOWN",
         "marker": {
          "color": "green",
          "symbol": "circle"
         },
         "mode": "markers",
         "name": "UNKNOWN",
         "orientation": "v",
         "showlegend": true,
         "type": "scatter",
         "x": [
          "2023-04-16 22:20:00"
         ],
         "xaxis": "x",
         "y": [
          34.5761
         ],
         "yaxis": "y"
        }
       ],
       "layout": {
        "height": 800,
        "legend": {
         "title": {
          "text": "SSS QC Flag: Test 6"
         },
         "tracegroupgap": 0
        },
        "template": {
         "data": {
          "bar": [
           {
            "error_x": {
             "color": "#2a3f5f"
            },
            "error_y": {
             "color": "#2a3f5f"
            },
            "marker": {
             "line": {
              "color": "#E5ECF6",
              "width": 0.5
             },
             "pattern": {
              "fillmode": "overlay",
              "size": 10,
              "solidity": 0.2
             }
            },
            "type": "bar"
           }
          ],
          "barpolar": [
           {
            "marker": {
             "line": {
              "color": "#E5ECF6",
              "width": 0.5
             },
             "pattern": {
              "fillmode": "overlay",
              "size": 10,
              "solidity": 0.2
             }
            },
            "type": "barpolar"
           }
          ],
          "carpet": [
           {
            "aaxis": {
             "endlinecolor": "#2a3f5f",
             "gridcolor": "white",
             "linecolor": "white",
             "minorgridcolor": "white",
             "startlinecolor": "#2a3f5f"
            },
            "baxis": {
             "endlinecolor": "#2a3f5f",
             "gridcolor": "white",
             "linecolor": "white",
             "minorgridcolor": "white",
             "startlinecolor": "#2a3f5f"
            },
            "type": "carpet"
           }
          ],
          "choropleth": [
           {
            "colorbar": {
             "outlinewidth": 0,
             "ticks": ""
            },
            "type": "choropleth"
           }
          ],
          "contour": [
           {
            "colorbar": {
             "outlinewidth": 0,
             "ticks": ""
            },
            "colorscale": [
             [
              0,
              "#0d0887"
             ],
             [
              0.1111111111111111,
              "#46039f"
             ],
             [
              0.2222222222222222,
              "#7201a8"
             ],
             [
              0.3333333333333333,
              "#9c179e"
             ],
             [
              0.4444444444444444,
              "#bd3786"
             ],
             [
              0.5555555555555556,
              "#d8576b"
             ],
             [
              0.6666666666666666,
              "#ed7953"
             ],
             [
              0.7777777777777778,
              "#fb9f3a"
             ],
             [
              0.8888888888888888,
              "#fdca26"
             ],
             [
              1,
              "#f0f921"
             ]
            ],
            "type": "contour"
           }
          ],
          "contourcarpet": [
           {
            "colorbar": {
             "outlinewidth": 0,
             "ticks": ""
            },
            "type": "contourcarpet"
           }
          ],
          "heatmap": [
           {
            "colorbar": {
             "outlinewidth": 0,
             "ticks": ""
            },
            "colorscale": [
             [
              0,
              "#0d0887"
             ],
             [
              0.1111111111111111,
              "#46039f"
             ],
             [
              0.2222222222222222,
              "#7201a8"
             ],
             [
              0.3333333333333333,
              "#9c179e"
             ],
             [
              0.4444444444444444,
              "#bd3786"
             ],
             [
              0.5555555555555556,
              "#d8576b"
             ],
             [
              0.6666666666666666,
              "#ed7953"
             ],
             [
              0.7777777777777778,
              "#fb9f3a"
             ],
             [
              0.8888888888888888,
              "#fdca26"
             ],
             [
              1,
              "#f0f921"
             ]
            ],
            "type": "heatmap"
           }
          ],
          "heatmapgl": [
           {
            "colorbar": {
             "outlinewidth": 0,
             "ticks": ""
            },
            "colorscale": [
             [
              0,
              "#0d0887"
             ],
             [
              0.1111111111111111,
              "#46039f"
             ],
             [
              0.2222222222222222,
              "#7201a8"
             ],
             [
              0.3333333333333333,
              "#9c179e"
             ],
             [
              0.4444444444444444,
              "#bd3786"
             ],
             [
              0.5555555555555556,
              "#d8576b"
             ],
             [
              0.6666666666666666,
              "#ed7953"
             ],
             [
              0.7777777777777778,
              "#fb9f3a"
             ],
             [
              0.8888888888888888,
              "#fdca26"
             ],
             [
              1,
              "#f0f921"
             ]
            ],
            "type": "heatmapgl"
           }
          ],
          "histogram": [
           {
            "marker": {
             "pattern": {
              "fillmode": "overlay",
              "size": 10,
              "solidity": 0.2
             }
            },
            "type": "histogram"
           }
          ],
          "histogram2d": [
           {
            "colorbar": {
             "outlinewidth": 0,
             "ticks": ""
            },
            "colorscale": [
             [
              0,
              "#0d0887"
             ],
             [
              0.1111111111111111,
              "#46039f"
             ],
             [
              0.2222222222222222,
              "#7201a8"
             ],
             [
              0.3333333333333333,
              "#9c179e"
             ],
             [
              0.4444444444444444,
              "#bd3786"
             ],
             [
              0.5555555555555556,
              "#d8576b"
             ],
             [
              0.6666666666666666,
              "#ed7953"
             ],
             [
              0.7777777777777778,
              "#fb9f3a"
             ],
             [
              0.8888888888888888,
              "#fdca26"
             ],
             [
              1,
              "#f0f921"
             ]
            ],
            "type": "histogram2d"
           }
          ],
          "histogram2dcontour": [
           {
            "colorbar": {
             "outlinewidth": 0,
             "ticks": ""
            },
            "colorscale": [
             [
              0,
              "#0d0887"
             ],
             [
              0.1111111111111111,
              "#46039f"
             ],
             [
              0.2222222222222222,
              "#7201a8"
             ],
             [
              0.3333333333333333,
              "#9c179e"
             ],
             [
              0.4444444444444444,
              "#bd3786"
             ],
             [
              0.5555555555555556,
              "#d8576b"
             ],
             [
              0.6666666666666666,
              "#ed7953"
             ],
             [
              0.7777777777777778,
              "#fb9f3a"
             ],
             [
              0.8888888888888888,
              "#fdca26"
             ],
             [
              1,
              "#f0f921"
             ]
            ],
            "type": "histogram2dcontour"
           }
          ],
          "mesh3d": [
           {
            "colorbar": {
             "outlinewidth": 0,
             "ticks": ""
            },
            "type": "mesh3d"
           }
          ],
          "parcoords": [
           {
            "line": {
             "colorbar": {
              "outlinewidth": 0,
              "ticks": ""
             }
            },
            "type": "parcoords"
           }
          ],
          "pie": [
           {
            "automargin": true,
            "type": "pie"
           }
          ],
          "scatter": [
           {
            "fillpattern": {
             "fillmode": "overlay",
             "size": 10,
             "solidity": 0.2
            },
            "type": "scatter"
           }
          ],
          "scatter3d": [
           {
            "line": {
             "colorbar": {
              "outlinewidth": 0,
              "ticks": ""
             }
            },
            "marker": {
             "colorbar": {
              "outlinewidth": 0,
              "ticks": ""
             }
            },
            "type": "scatter3d"
           }
          ],
          "scattercarpet": [
           {
            "marker": {
             "colorbar": {
              "outlinewidth": 0,
              "ticks": ""
             }
            },
            "type": "scattercarpet"
           }
          ],
          "scattergeo": [
           {
            "marker": {
             "colorbar": {
              "outlinewidth": 0,
              "ticks": ""
             }
            },
            "type": "scattergeo"
           }
          ],
          "scattergl": [
           {
            "marker": {
             "colorbar": {
              "outlinewidth": 0,
              "ticks": ""
             }
            },
            "type": "scattergl"
           }
          ],
          "scattermapbox": [
           {
            "marker": {
             "colorbar": {
              "outlinewidth": 0,
              "ticks": ""
             }
            },
            "type": "scattermapbox"
           }
          ],
          "scatterpolar": [
           {
            "marker": {
             "colorbar": {
              "outlinewidth": 0,
              "ticks": ""
             }
            },
            "type": "scatterpolar"
           }
          ],
          "scatterpolargl": [
           {
            "marker": {
             "colorbar": {
              "outlinewidth": 0,
              "ticks": ""
             }
            },
            "type": "scatterpolargl"
           }
          ],
          "scatterternary": [
           {
            "marker": {
             "colorbar": {
              "outlinewidth": 0,
              "ticks": ""
             }
            },
            "type": "scatterternary"
           }
          ],
          "surface": [
           {
            "colorbar": {
             "outlinewidth": 0,
             "ticks": ""
            },
            "colorscale": [
             [
              0,
              "#0d0887"
             ],
             [
              0.1111111111111111,
              "#46039f"
             ],
             [
              0.2222222222222222,
              "#7201a8"
             ],
             [
              0.3333333333333333,
              "#9c179e"
             ],
             [
              0.4444444444444444,
              "#bd3786"
             ],
             [
              0.5555555555555556,
              "#d8576b"
             ],
             [
              0.6666666666666666,
              "#ed7953"
             ],
             [
              0.7777777777777778,
              "#fb9f3a"
             ],
             [
              0.8888888888888888,
              "#fdca26"
             ],
             [
              1,
              "#f0f921"
             ]
            ],
            "type": "surface"
           }
          ],
          "table": [
           {
            "cells": {
             "fill": {
              "color": "#EBF0F8"
             },
             "line": {
              "color": "white"
             }
            },
            "header": {
             "fill": {
              "color": "#C8D4E3"
             },
             "line": {
              "color": "white"
             }
            },
            "type": "table"
           }
          ]
         },
         "layout": {
          "annotationdefaults": {
           "arrowcolor": "#2a3f5f",
           "arrowhead": 0,
           "arrowwidth": 1
          },
          "autotypenumbers": "strict",
          "coloraxis": {
           "colorbar": {
            "outlinewidth": 0,
            "ticks": ""
           }
          },
          "colorscale": {
           "diverging": [
            [
             0,
             "#8e0152"
            ],
            [
             0.1,
             "#c51b7d"
            ],
            [
             0.2,
             "#de77ae"
            ],
            [
             0.3,
             "#f1b6da"
            ],
            [
             0.4,
             "#fde0ef"
            ],
            [
             0.5,
             "#f7f7f7"
            ],
            [
             0.6,
             "#e6f5d0"
            ],
            [
             0.7,
             "#b8e186"
            ],
            [
             0.8,
             "#7fbc41"
            ],
            [
             0.9,
             "#4d9221"
            ],
            [
             1,
             "#276419"
            ]
           ],
           "sequential": [
            [
             0,
             "#0d0887"
            ],
            [
             0.1111111111111111,
             "#46039f"
            ],
            [
             0.2222222222222222,
             "#7201a8"
            ],
            [
             0.3333333333333333,
             "#9c179e"
            ],
            [
             0.4444444444444444,
             "#bd3786"
            ],
            [
             0.5555555555555556,
             "#d8576b"
            ],
            [
             0.6666666666666666,
             "#ed7953"
            ],
            [
             0.7777777777777778,
             "#fb9f3a"
            ],
            [
             0.8888888888888888,
             "#fdca26"
            ],
            [
             1,
             "#f0f921"
            ]
           ],
           "sequentialminus": [
            [
             0,
             "#0d0887"
            ],
            [
             0.1111111111111111,
             "#46039f"
            ],
            [
             0.2222222222222222,
             "#7201a8"
            ],
            [
             0.3333333333333333,
             "#9c179e"
            ],
            [
             0.4444444444444444,
             "#bd3786"
            ],
            [
             0.5555555555555556,
             "#d8576b"
            ],
            [
             0.6666666666666666,
             "#ed7953"
            ],
            [
             0.7777777777777778,
             "#fb9f3a"
            ],
            [
             0.8888888888888888,
             "#fdca26"
            ],
            [
             1,
             "#f0f921"
            ]
           ]
          },
          "colorway": [
           "#636efa",
           "#EF553B",
           "#00cc96",
           "#ab63fa",
           "#FFA15A",
           "#19d3f3",
           "#FF6692",
           "#B6E880",
           "#FF97FF",
           "#FECB52"
          ],
          "font": {
           "color": "#2a3f5f"
          },
          "geo": {
           "bgcolor": "white",
           "lakecolor": "white",
           "landcolor": "#E5ECF6",
           "showlakes": true,
           "showland": true,
           "subunitcolor": "white"
          },
          "hoverlabel": {
           "align": "left"
          },
          "hovermode": "closest",
          "mapbox": {
           "style": "light"
          },
          "paper_bgcolor": "white",
          "plot_bgcolor": "#E5ECF6",
          "polar": {
           "angularaxis": {
            "gridcolor": "white",
            "linecolor": "white",
            "ticks": ""
           },
           "bgcolor": "#E5ECF6",
           "radialaxis": {
            "gridcolor": "white",
            "linecolor": "white",
            "ticks": ""
           }
          },
          "scene": {
           "xaxis": {
            "backgroundcolor": "#E5ECF6",
            "gridcolor": "white",
            "gridwidth": 2,
            "linecolor": "white",
            "showbackground": true,
            "ticks": "",
            "zerolinecolor": "white"
           },
           "yaxis": {
            "backgroundcolor": "#E5ECF6",
            "gridcolor": "white",
            "gridwidth": 2,
            "linecolor": "white",
            "showbackground": true,
            "ticks": "",
            "zerolinecolor": "white"
           },
           "zaxis": {
            "backgroundcolor": "#E5ECF6",
            "gridcolor": "white",
            "gridwidth": 2,
            "linecolor": "white",
            "showbackground": true,
            "ticks": "",
            "zerolinecolor": "white"
           }
          },
          "shapedefaults": {
           "line": {
            "color": "#2a3f5f"
           }
          },
          "ternary": {
           "aaxis": {
            "gridcolor": "white",
            "linecolor": "white",
            "ticks": ""
           },
           "baxis": {
            "gridcolor": "white",
            "linecolor": "white",
            "ticks": ""
           },
           "bgcolor": "#E5ECF6",
           "caxis": {
            "gridcolor": "white",
            "linecolor": "white",
            "ticks": ""
           }
          },
          "title": {
           "x": 0.05
          },
          "xaxis": {
           "automargin": true,
           "gridcolor": "white",
           "linecolor": "white",
           "ticks": "",
           "title": {
            "standoff": 15
           },
           "zerolinecolor": "white",
           "zerolinewidth": 2
          },
          "yaxis": {
           "automargin": true,
           "gridcolor": "white",
           "linecolor": "white",
           "ticks": "",
           "title": {
            "standoff": 15
           },
           "zerolinecolor": "white",
           "zerolinewidth": 2
          }
         }
        },
        "title": {
         "text": "SD-1090 HI Chem 23 SSS (normalized)"
        },
        "width": 1400,
        "xaxis": {
         "anchor": "y",
         "domain": [
          0,
          1
         ],
         "title": {
          "text": "time"
         }
        },
        "yaxis": {
         "anchor": "x",
         "domain": [
          0,
          1
         ],
         "title": {
          "text": "SAL_SBE37_MEAN"
         }
        }
       }
      }
     },
     "metadata": {},
     "output_type": "display_data"
    }
   ],
   "source": [
    "px.scatter(\n",
    "    hi1090qc, \n",
    "    x=\"time\", y=\"SAL_SBE37_MEAN\", \n",
    "    color='SSS QC Flag: Test 6', \n",
    "    width = 1400, height = 800, \n",
    "    color_discrete_sequence=[\"green\", \"gray\", \"goldenrod\", \"red\", \"black\"], \n",
    "    category_orders={\"SSS QC Flag: Test 6\": [\"GOOD\", \"UNKNKOWN\", \"SUSPECT\", \"FAIL\", \"MISSING\"]},\n",
    "    title='SD-1090 HI Chem 23 SSS (normalized)'\n",
    "    )"
   ]
  }
 ],
 "metadata": {
  "interpreter": {
   "hash": "239faeaf83c7ba22421e738f775ded7330a80d1d20f96b4fe852ad19626e018c"
  },
  "kernelspec": {
   "display_name": "Python 3.9.13 ('nspde')",
   "language": "python",
   "name": "python3"
  },
  "language_info": {
   "codemirror_mode": {
    "name": "ipython",
    "version": 3
   },
   "file_extension": ".py",
   "mimetype": "text/x-python",
   "name": "python",
   "nbconvert_exporter": "python",
   "pygments_lexer": "ipython3",
   "version": "3.9.13"
  },
  "orig_nbformat": 4
 },
 "nbformat": 4,
 "nbformat_minor": 2
}
